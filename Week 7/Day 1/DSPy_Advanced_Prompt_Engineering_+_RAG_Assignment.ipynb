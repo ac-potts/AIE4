{
  "cells": [
    {
      "cell_type": "markdown",
      "metadata": {
        "id": "lNF2FTJcYP7u"
      },
      "source": [
        "# DSPy - Advanced Prompt Engineering\n",
        "\n",
        "1. Breakout Room #1:\n",
        "  - Task 1: Dependencies\n",
        "  - Task 2: Loading Our Model\n",
        "  - Task 3: Loading Our Data\n",
        "  - Task 4: Setting Our Signature\n",
        "  - Task 5: Creating a Predictor\n",
        "  - Task 6: Making a Chain, I mean...Module\n",
        "  - Task 7: Evaluate\n",
        "  - Task 8: Program Optimization\n",
        "2. Breakout Room #2:\n",
        "  - Task 1: Defining Appliation\n",
        "  - Task 2: Hyper-Parameters and Data\n",
        "  - Task 3: Signature And Module Creation\n",
        "  - Task 4: Evaluating Our LongFormQA Module\n",
        "  - Task 5: Adding Assertions\n",
        "\n",
        "---\n",
        "\n",
        "In the following notebook, we'll explore an introduction to DSPy and what it can do in just a few lines of code!"
      ]
    },
    {
      "cell_type": "markdown",
      "metadata": {
        "id": "J8VnLGF_33VI"
      },
      "source": [
        "# 🤝 Breakout Room #1"
      ]
    },
    {
      "cell_type": "markdown",
      "metadata": {
        "id": "qmhp5fwk2nvT"
      },
      "source": [
        "## Task 1: Dependencies\n",
        "\n",
        "We'll start by installing DSPy, `nltk` (for later) and including our OpenAI API key."
      ]
    },
    {
      "cell_type": "code",
      "execution_count": 1,
      "metadata": {
        "colab": {
          "base_uri": "https://localhost:8080/"
        },
        "id": "MeoJU4iE3AWt",
        "outputId": "1c28894a-7e42-462d-a677-a7f3629c5803"
      },
      "outputs": [
        {
          "name": "stdout",
          "output_type": "stream",
          "text": [
            "\u001b[2K     \u001b[90m━━━━━━━━━━━━━━━━━━━━━━━━━━━━━━━━━━━━━━━━\u001b[0m \u001b[32m40.2/40.2 kB\u001b[0m \u001b[31m1.5 MB/s\u001b[0m eta \u001b[36m0:00:00\u001b[0m\n",
            "\u001b[2K   \u001b[90m━━━━━━━━━━━━━━━━━━━━━━━━━━━━━━━━━━━━━━━━\u001b[0m \u001b[32m298.7/298.7 kB\u001b[0m \u001b[31m6.3 MB/s\u001b[0m eta \u001b[36m0:00:00\u001b[0m\n",
            "\u001b[2K   \u001b[90m━━━━━━━━━━━━━━━━━━━━━━━━━━━━━━━━━━━━━━━━\u001b[0m \u001b[32m1.5/1.5 MB\u001b[0m \u001b[31m34.0 MB/s\u001b[0m eta \u001b[36m0:00:00\u001b[0m\n",
            "\u001b[2K   \u001b[90m━━━━━━━━━━━━━━━━━━━━━━━━━━━━━━━━━━━━━━━━\u001b[0m \u001b[32m474.3/474.3 kB\u001b[0m \u001b[31m20.6 MB/s\u001b[0m eta \u001b[36m0:00:00\u001b[0m\n",
            "\u001b[2K   \u001b[90m━━━━━━━━━━━━━━━━━━━━━━━━━━━━━━━━━━━━━━━━\u001b[0m \u001b[32m45.5/45.5 kB\u001b[0m \u001b[31m3.0 MB/s\u001b[0m eta \u001b[36m0:00:00\u001b[0m\n",
            "\u001b[2K   \u001b[90m━━━━━━━━━━━━━━━━━━━━━━━━━━━━━━━━━━━━━━━━\u001b[0m \u001b[32m76.4/76.4 kB\u001b[0m \u001b[31m4.7 MB/s\u001b[0m eta \u001b[36m0:00:00\u001b[0m\n",
            "\u001b[2K   \u001b[90m━━━━━━━━━━━━━━━━━━━━━━━━━━━━━━━━━━━━━━━━\u001b[0m \u001b[32m77.9/77.9 kB\u001b[0m \u001b[31m4.7 MB/s\u001b[0m eta \u001b[36m0:00:00\u001b[0m\n",
            "\u001b[2K   \u001b[90m━━━━━━━━━━━━━━━━━━━━━━━━━━━━━━━━━━━━━━━━\u001b[0m \u001b[32m8.7/8.7 MB\u001b[0m \u001b[31m56.4 MB/s\u001b[0m eta \u001b[36m0:00:00\u001b[0m\n",
            "\u001b[2K   \u001b[90m━━━━━━━━━━━━━━━━━━━━━━━━━━━━━━━━━━━━━━━━\u001b[0m \u001b[32m376.1/376.1 kB\u001b[0m \u001b[31m22.1 MB/s\u001b[0m eta \u001b[36m0:00:00\u001b[0m\n",
            "\u001b[2K   \u001b[90m━━━━━━━━━━━━━━━━━━━━━━━━━━━━━━━━━━━━━━━━\u001b[0m \u001b[32m362.8/362.8 kB\u001b[0m \u001b[31m23.8 MB/s\u001b[0m eta \u001b[36m0:00:00\u001b[0m\n",
            "\u001b[2K   \u001b[90m━━━━━━━━━━━━━━━━━━━━━━━━━━━━━━━━━━━━━━━━\u001b[0m \u001b[32m67.2/67.2 kB\u001b[0m \u001b[31m5.5 MB/s\u001b[0m eta \u001b[36m0:00:00\u001b[0m\n",
            "\u001b[2K   \u001b[90m━━━━━━━━━━━━━━━━━━━━━━━━━━━━━━━━━━━━━━━━\u001b[0m \u001b[32m53.6/53.6 kB\u001b[0m \u001b[31m3.1 MB/s\u001b[0m eta \u001b[36m0:00:00\u001b[0m\n",
            "\u001b[2K   \u001b[90m━━━━━━━━━━━━━━━━━━━━━━━━━━━━━━━━━━━━━━━━\u001b[0m \u001b[32m233.2/233.2 kB\u001b[0m \u001b[31m16.8 MB/s\u001b[0m eta \u001b[36m0:00:00\u001b[0m\n",
            "\u001b[2K   \u001b[90m━━━━━━━━━━━━━━━━━━━━━━━━━━━━━━━━━━━━━━━━\u001b[0m \u001b[32m116.3/116.3 kB\u001b[0m \u001b[31m9.0 MB/s\u001b[0m eta \u001b[36m0:00:00\u001b[0m\n",
            "\u001b[2K   \u001b[90m━━━━━━━━━━━━━━━━━━━━━━━━━━━━━━━━━━━━━━━━\u001b[0m \u001b[32m318.9/318.9 kB\u001b[0m \u001b[31m15.0 MB/s\u001b[0m eta \u001b[36m0:00:00\u001b[0m\n",
            "\u001b[2K   \u001b[90m━━━━━━━━━━━━━━━━━━━━━━━━━━━━━━━━━━━━━━━━\u001b[0m \u001b[32m39.9/39.9 MB\u001b[0m \u001b[31m14.0 MB/s\u001b[0m eta \u001b[36m0:00:00\u001b[0m\n",
            "\u001b[2K   \u001b[90m━━━━━━━━━━━━━━━━━━━━━━━━━━━━━━━━━━━━━━━━\u001b[0m \u001b[32m1.1/1.1 MB\u001b[0m \u001b[31m44.0 MB/s\u001b[0m eta \u001b[36m0:00:00\u001b[0m\n",
            "\u001b[2K   \u001b[90m━━━━━━━━━━━━━━━━━━━━━━━━━━━━━━━━━━━━━━━━\u001b[0m \u001b[32m134.8/134.8 kB\u001b[0m \u001b[31m9.5 MB/s\u001b[0m eta \u001b[36m0:00:00\u001b[0m\n",
            "\u001b[2K   \u001b[90m━━━━━━━━━━━━━━━━━━━━━━━━━━━━━━━━━━━━━━━━\u001b[0m \u001b[32m194.1/194.1 kB\u001b[0m \u001b[31m10.3 MB/s\u001b[0m eta \u001b[36m0:00:00\u001b[0m\n",
            "\u001b[2K   \u001b[90m━━━━━━━━━━━━━━━━━━━━━━━━━━━━━━━━━━━━━━━━\u001b[0m \u001b[32m58.3/58.3 kB\u001b[0m \u001b[31m3.4 MB/s\u001b[0m eta \u001b[36m0:00:00\u001b[0m\n",
            "\u001b[2K   \u001b[90m━━━━━━━━━━━━━━━━━━━━━━━━━━━━━━━━━━━━━━━━\u001b[0m \u001b[32m78.6/78.6 kB\u001b[0m \u001b[31m2.7 MB/s\u001b[0m eta \u001b[36m0:00:00\u001b[0m\n",
            "\u001b[?25h\u001b[31mERROR: pip's dependency resolver does not currently take into account all the packages that are installed. This behaviour is the source of the following dependency conflicts.\n",
            "cudf-cu12 24.4.1 requires pyarrow<15.0.0a0,>=14.0.1, but you have pyarrow 17.0.0 which is incompatible.\u001b[0m\u001b[31m\n",
            "\u001b[0m"
          ]
        }
      ],
      "source": [
        "!pip install -qU dspy-ai nltk"
      ]
    },
    {
      "cell_type": "markdown",
      "metadata": {
        "id": "PrDi65cdY0pa"
      },
      "source": [
        "DSPy can leverage OpenAI's models under the hood, and still provide an advantage - in order to do so, however, we'll need to provide an OpenAI API Key!"
      ]
    },
    {
      "cell_type": "code",
      "execution_count": 2,
      "metadata": {
        "colab": {
          "base_uri": "https://localhost:8080/"
        },
        "id": "8lPWT4vL8zFd",
        "outputId": "6b4bd788-f839-42a9-e0b8-0e6d72fedaa5"
      },
      "outputs": [
        {
          "name": "stdout",
          "output_type": "stream",
          "text": [
            "OpenAI API Key: ··········\n"
          ]
        }
      ],
      "source": [
        "import os\n",
        "import getpass\n",
        "\n",
        "os.environ['OPENAI_API_KEY'] = getpass.getpass('OpenAI API Key: ')"
      ]
    },
    {
      "cell_type": "markdown",
      "metadata": {
        "id": "FW3W8ogDZJS_"
      },
      "source": [
        "## Task 2: Loading Our Model\n",
        "\n",
        "Now we can setup our OpenAI language model - which we'll use through the remaining cells in the notebook."
      ]
    },
    {
      "cell_type": "code",
      "execution_count": 3,
      "metadata": {
        "id": "VJAy8_hw8rUu"
      },
      "outputs": [],
      "source": [
        "from dspy import LM\n",
        "\n",
        "llm = LM(model='openai/gpt-3.5-turbo')"
      ]
    },
    {
      "cell_type": "markdown",
      "metadata": {
        "id": "ONjD_6hKZPsD"
      },
      "source": [
        "Similar to other libraries, we can call the LLM directly with a string to get a response!"
      ]
    },
    {
      "cell_type": "code",
      "execution_count": 4,
      "metadata": {
        "colab": {
          "base_uri": "https://localhost:8080/"
        },
        "id": "BlwRrI1UZOFc",
        "outputId": "8207a70c-7d14-4545-bf94-ed266017b88d"
      },
      "outputs": [
        {
          "data": {
            "text/plain": [
              "['The square root of pi is approximately 1.77245385091.']"
            ]
          },
          "execution_count": 4,
          "metadata": {},
          "output_type": "execute_result"
        }
      ],
      "source": [
        "llm(\"What is the square root of pi?\")"
      ]
    },
    {
      "cell_type": "markdown",
      "metadata": {
        "id": "oAO_nkG_ZVVV"
      },
      "source": [
        "We'll also set our `setting.configure` with our OpenAI model in the `lm` (Language Model) field for a default LM to use in case we don't specify which LM we'd like to use when calling our DSPy `Predictors`."
      ]
    },
    {
      "cell_type": "code",
      "execution_count": 5,
      "metadata": {
        "id": "feM8E46m9Gna"
      },
      "outputs": [],
      "source": [
        "import dspy\n",
        "\n",
        "dspy.settings.configure(lm=llm)"
      ]
    },
    {
      "cell_type": "markdown",
      "metadata": {
        "id": "G5H-q4WdZhc3"
      },
      "source": [
        "## Task 3: Load Our Data\n",
        "\n",
        "We're going to be using a dataset that provides a number of example sentences, along with a rating that indicates their \"dopeness\" level."
      ]
    },
    {
      "cell_type": "code",
      "execution_count": 6,
      "metadata": {
        "colab": {
          "base_uri": "https://localhost:8080/",
          "height": 205,
          "referenced_widgets": [
            "7c5c34b9550d4e5095ce2362ecc98c1d",
            "2c6e0c1a7bf9482686e4a6326acd2173",
            "24f68d16925346a9af7ec0b3070d7119",
            "07bd6d93872f41308b23850359e4c9f4",
            "1ebf9870dca543e8a1b7c95ad52f4df0",
            "249cb87239bd4808816f35c0b144d250",
            "4e110ed07d43412b9a5647e28289038d",
            "20c86f356d2d4296a4989ba699775f0a",
            "0f2993e987b6469db81991d27394f2a9",
            "909c899ec23f457eb3f6d792fe96cc31",
            "4cd1dbb1e7e44219b47648982d4a3bf6",
            "66cfb1f5c9624822b15a380548a49416",
            "ac875c953c274bedb7539f7b56b3ab7b",
            "430c54b0ddb143a986c95ab4cdd217b4",
            "83a8332a35574869aa1c57d73b97926e",
            "7f033150cc3c4796bd5dd3feb7e14bb7",
            "f6511a5d1a0f48618c86a52be8c41913",
            "35510d2ef9cf492685297e3b2b153702",
            "aa82862af99d409498746f0d9a110d7c",
            "dcc5b4851dcc49ee8bddcea28afefe1d",
            "fdea279818fd448cbbc52dfb7c551e79",
            "42e71072d3034647b1796d5d1465b574"
          ]
        },
        "id": "n__G5nrU-Epz",
        "outputId": "ad0403fc-39f9-4831-b693-bce0cc14a83a"
      },
      "outputs": [
        {
          "name": "stderr",
          "output_type": "stream",
          "text": [
            "/usr/local/lib/python3.10/dist-packages/huggingface_hub/utils/_token.py:89: UserWarning: \n",
            "The secret `HF_TOKEN` does not exist in your Colab secrets.\n",
            "To authenticate with the Hugging Face Hub, create a token in your settings tab (https://huggingface.co/settings/tokens), set it as secret in your Google Colab and restart your session.\n",
            "You will be able to reuse this secret in all of your notebooks.\n",
            "Please note that authentication is recommended but still optional to access public models or datasets.\n",
            "  warnings.warn(\n"
          ]
        },
        {
          "data": {
            "application/vnd.jupyter.widget-view+json": {
              "model_id": "7c5c34b9550d4e5095ce2362ecc98c1d",
              "version_major": 2,
              "version_minor": 0
            },
            "text/plain": [
              "gen_z_sentences.csv:   0%|          | 0.00/3.69k [00:00<?, ?B/s]"
            ]
          },
          "metadata": {},
          "output_type": "display_data"
        },
        {
          "data": {
            "application/vnd.jupyter.widget-view+json": {
              "model_id": "66cfb1f5c9624822b15a380548a49416",
              "version_major": 2,
              "version_minor": 0
            },
            "text/plain": [
              "Generating train split:   0%|          | 0/99 [00:00<?, ? examples/s]"
            ]
          },
          "metadata": {},
          "output_type": "display_data"
        }
      ],
      "source": [
        "from datasets import load_dataset\n",
        "\n",
        "dataset = load_dataset(\"llm-wizard/dope_or_nope_v2\")"
      ]
    },
    {
      "cell_type": "markdown",
      "metadata": {
        "id": "OMgZxUByaz68"
      },
      "source": [
        "We have a total of 99 rows of data, and will be splitting that into a `trainset` and a `valset` - for training and evaluation."
      ]
    },
    {
      "cell_type": "code",
      "execution_count": 7,
      "metadata": {
        "colab": {
          "base_uri": "https://localhost:8080/"
        },
        "id": "YMBCVzwhDKJr",
        "outputId": "e6c33263-4925-48b9-c036-fab53e8c1196"
      },
      "outputs": [
        {
          "data": {
            "text/plain": [
              "DatasetDict({\n",
              "    train: Dataset({\n",
              "        features: ['Sentence', 'Rating', 'Fire Emojis'],\n",
              "        num_rows: 99\n",
              "    })\n",
              "})"
            ]
          },
          "execution_count": 7,
          "metadata": {},
          "output_type": "execute_result"
        }
      ],
      "source": [
        "dataset"
      ]
    },
    {
      "cell_type": "markdown",
      "metadata": {
        "id": "ZwyoqDkvcBxr"
      },
      "source": [
        "Due to the nature of the dataset, we'll need to shuffle our dataset to ensure our labels are not clumped up, and our `valset` is remotely representative to our `trainset`."
      ]
    },
    {
      "cell_type": "code",
      "execution_count": 8,
      "metadata": {
        "id": "RecukH0rVkNY"
      },
      "outputs": [],
      "source": [
        "dataset = dataset.shuffle(seed=42)"
      ]
    },
    {
      "cell_type": "markdown",
      "metadata": {
        "id": "nrr-xSbtcPBK"
      },
      "source": [
        "We'll move our `Dataset` into the expected format in DSPy which is the [`Example`](https://dspy-docs.vercel.app/docs/deep-dive/data-handling/examples)!\n",
        "\n",
        "\n",
        "Our examples will have two keys:\n",
        "\n",
        "- `sentence`, our input sentence to be rated\n",
        "- `rating`, our rating label\n",
        "\n",
        "We'll specify our input as `sentence` to properly leverage the DSPy framework."
      ]
    },
    {
      "cell_type": "code",
      "execution_count": 9,
      "metadata": {
        "colab": {
          "base_uri": "https://localhost:8080/"
        },
        "id": "07ARkkb_CnBT",
        "outputId": "ee6c0e62-0162-4ab4-8d14-77a32077ccd8"
      },
      "outputs": [
        {
          "data": {
            "text/plain": [
              "89"
            ]
          },
          "execution_count": 9,
          "metadata": {},
          "output_type": "execute_result"
        }
      ],
      "source": [
        "from dspy import Example\n",
        "\n",
        "trainset = []\n",
        "\n",
        "for row in dataset[\"train\"].select(range(0,len(dataset[\"train\"])-10)):\n",
        "  trainset.append(Example(sentence=row[\"Sentence\"], rating=row[\"Rating\"]).with_inputs(\"sentence\"))\n",
        "\n",
        "len(trainset)"
      ]
    },
    {
      "cell_type": "markdown",
      "metadata": {
        "id": "wZC2yAnqc31Q"
      },
      "source": [
        "We'll repeat the same process for our `valset` as well."
      ]
    },
    {
      "cell_type": "code",
      "execution_count": 10,
      "metadata": {
        "colab": {
          "base_uri": "https://localhost:8080/"
        },
        "id": "VTDPZJUZD_hM",
        "outputId": "0d636611-3923-4875-8f30-2f39093de62a"
      },
      "outputs": [
        {
          "data": {
            "text/plain": [
              "10"
            ]
          },
          "execution_count": 10,
          "metadata": {},
          "output_type": "execute_result"
        }
      ],
      "source": [
        "valset = []\n",
        "\n",
        "for row in dataset[\"train\"].select(range(len(trainset),len(dataset[\"train\"]))):\n",
        "  valset.append(Example(sentence=row[\"Sentence\"], rating=row[\"Rating\"]).with_inputs(\"sentence\"))\n",
        "\n",
        "len(valset)"
      ]
    },
    {
      "cell_type": "markdown",
      "metadata": {
        "id": "GKKim9uRc8Q0"
      },
      "source": [
        "Let's take a peek at an example from our `trainset` and `valset`!"
      ]
    },
    {
      "cell_type": "code",
      "execution_count": 11,
      "metadata": {
        "colab": {
          "base_uri": "https://localhost:8080/"
        },
        "id": "PVgP0ctkEJC9",
        "outputId": "82fbcada-1e5b-4cbb-93b2-67bd013c396a"
      },
      "outputs": [
        {
          "name": "stdout",
          "output_type": "stream",
          "text": [
            "Sentence: The results were satisfactory.\n",
            "Label: 0\n"
          ]
        }
      ],
      "source": [
        "train_example = trainset[0]\n",
        "print(f\"Sentence: {train_example.sentence}\")\n",
        "print(f\"Label: {train_example.rating}\")"
      ]
    },
    {
      "cell_type": "code",
      "execution_count": 12,
      "metadata": {
        "colab": {
          "base_uri": "https://localhost:8080/"
        },
        "id": "zHFDjOT9EUip",
        "outputId": "b5e0b678-c771-42ff-ea11-78df981f6dea"
      },
      "outputs": [
        {
          "name": "stdout",
          "output_type": "stream",
          "text": [
            "Sentence: This is top tier.\n",
            "Label: 4\n"
          ]
        }
      ],
      "source": [
        "valset_example = valset[0]\n",
        "print(f\"Sentence: {valset_example.sentence}\")\n",
        "print(f\"Label: {valset_example.rating}\")"
      ]
    },
    {
      "cell_type": "markdown",
      "metadata": {
        "id": "lbjjPIJsdAYs"
      },
      "source": [
        "## Task 4: Setting Our Signature\n",
        "\n",
        "The first foundational unit in DSPy is the `Signature`.\n",
        "\n",
        "In a sense, a `Signature` can be thought of as both a prompt, as well as metadata about that prompt.\n",
        "\n",
        "Going beyond just a simple `SystemMessage`, as seen in other frameworks, the `Signature` helps DSPy validate datatypes, create examples, and more.\n",
        "\n",
        "> NOTE: DSPy's [documentation](https://dspy-docs.vercel.app/docs/deep-dive/signature/understanding-signatures#what-is-a-signature) goes into more detail about what exactly a `Signature` is."
      ]
    },
    {
      "cell_type": "code",
      "execution_count": 13,
      "metadata": {
        "id": "WcshNXosEaRb"
      },
      "outputs": [],
      "source": [
        "from dspy import Signature, InputField, OutputField\n",
        "\n",
        "class DopeOrNopeSignature(Signature):\n",
        "  \"\"\"Rate a sentence from 0 to 4 on a dopeness scale\"\"\"\n",
        "  sentence: str = InputField()\n",
        "  rating: int = OutputField()"
      ]
    },
    {
      "cell_type": "markdown",
      "metadata": {
        "id": "R5BnXK3VdnSL"
      },
      "source": [
        "## Task 5: Creating a Predictor\n",
        "\n",
        "Now that we have our `Signature`, we can build a `Predictor` that leverages it.\n",
        "\n",
        "A `Predictor`, in the simplest terms, is what calls the LLM using our signature. Importantly, the `Predictor` knows how to leverage our signature to call the LLM. From DSPy's documentation, one of the most interesting parts of a `Predictor` is that it can *learn* to become better at the desired task!\n",
        "\n",
        "Let's take a look at our `TypedPredictor` below to see more."
      ]
    },
    {
      "cell_type": "code",
      "execution_count": 14,
      "metadata": {
        "id": "xxsLox0KEtwk"
      },
      "outputs": [],
      "source": [
        "from dspy.functional import TypedPredictor\n",
        "\n",
        "generate_label = TypedPredictor(DopeOrNopeSignature)"
      ]
    },
    {
      "cell_type": "code",
      "execution_count": 15,
      "metadata": {
        "colab": {
          "base_uri": "https://localhost:8080/"
        },
        "id": "uKjZPqJCeeGs",
        "outputId": "d008ba36-7d46-4191-b2dd-aa788abf3de1"
      },
      "outputs": [
        {
          "data": {
            "text/plain": [
              "TypedPredictor(DopeOrNopeSignature(sentence -> rating\n",
              "    instructions='Rate a sentence from 0 to 4 on a dopeness scale'\n",
              "    sentence = Field(annotation=str required=True json_schema_extra={'__dspy_field_type': 'input', 'prefix': 'Sentence:', 'desc': '${sentence}'})\n",
              "    rating = Field(annotation=int required=True json_schema_extra={'__dspy_field_type': 'output', 'prefix': 'Rating:', 'desc': '${rating}'})\n",
              "))"
            ]
          },
          "execution_count": 15,
          "metadata": {},
          "output_type": "execute_result"
        }
      ],
      "source": [
        "generate_label"
      ]
    },
    {
      "cell_type": "code",
      "execution_count": 16,
      "metadata": {
        "colab": {
          "base_uri": "https://localhost:8080/"
        },
        "id": "UUjXc2BIE_as",
        "outputId": "bafcf697-6344-410d-a49f-10d03659b7f9"
      },
      "outputs": [
        {
          "name": "stdout",
          "output_type": "stream",
          "text": [
            "Sentence: This is top tier.\n",
            "Prediction: Prediction(\n",
            "    rating=4\n",
            ")\n"
          ]
        }
      ],
      "source": [
        "label_prediction = generate_label(sentence=valset_example.sentence)\n",
        "print(f\"Sentence: {valset_example.sentence}\")\n",
        "print(f\"Prediction: {label_prediction}\")"
      ]
    },
    {
      "cell_type": "markdown",
      "metadata": {
        "id": "Fw6qrDP7gbf1"
      },
      "source": [
        "We can, at any time, check our LLMs outputs through the `inspect_history`."
      ]
    },
    {
      "cell_type": "code",
      "execution_count": 17,
      "metadata": {
        "colab": {
          "base_uri": "https://localhost:8080/"
        },
        "id": "ncjnowmCHGd0",
        "outputId": "051847f9-69ff-45fc-ba62-d5b17be3f03a"
      },
      "outputs": [
        {
          "name": "stdout",
          "output_type": "stream",
          "text": [
            "\n",
            "\n",
            "\n",
            "\n",
            "\u001b[31mSystem message:\u001b[0m\n",
            "\n",
            "Your input fields are:\n",
            "1. `sentence` (str)\n",
            "\n",
            "Your output fields are:\n",
            "1. `rating` (int): ${rating} (Respond with a single int value)\n",
            "\n",
            "All interactions will be structured in the following way, with the appropriate values filled in.\n",
            "\n",
            "[[ ## sentence ## ]]\n",
            "{sentence}\n",
            "\n",
            "[[ ## rating ## ]]\n",
            "{rating}\n",
            "\n",
            "[[ ## completed ## ]]\n",
            "\n",
            "In adhering to this structure, your objective is: \n",
            "        Rate a sentence from 0 to 4 on a dopeness scale\n",
            "\n",
            "\n",
            "\u001b[31mUser message:\u001b[0m\n",
            "\n",
            "[[ ## sentence ## ]]\n",
            "This is top tier.\n",
            "\n",
            "Respond with the corresponding output fields, starting with the field `rating`, and then ending with the marker for `completed`.\n",
            "\n",
            "\n",
            "\u001b[31mResponse:\u001b[0m\n",
            "\n",
            "\u001b[32m[[ ## rating ## ]]\n",
            "4\n",
            "[[ ## completed ## ]]\u001b[0m\n",
            "\n",
            "\n",
            "\n",
            "\n",
            "\n"
          ]
        }
      ],
      "source": [
        "llm.inspect_history(n=1)"
      ]
    },
    {
      "cell_type": "markdown",
      "metadata": {
        "id": "XTiQ2g3afO8k"
      },
      "source": [
        "Notice how, without our input - the `TypedPredictor` has included format instructions to the LLM to help ensure our returned data resembles what we desire."
      ]
    },
    {
      "cell_type": "markdown",
      "metadata": {
        "id": "wuuQ1GxNffdm"
      },
      "source": [
        "Let's look at another example of a `Predictor` - this time with Chain of Thought.\n",
        "\n",
        "In order to use this - we don't have to do anything with our `Signature`! We can leave it exactly as is - and allow the `Predictor` to adapt to it.\n",
        "\n",
        "> NOTE: We won't be using this predictor going forward - this is just to showcase the ease of using another `Predictor` with a `Signature`."
      ]
    },
    {
      "cell_type": "code",
      "execution_count": 18,
      "metadata": {
        "id": "CcRQk4uQHImC"
      },
      "outputs": [],
      "source": [
        "from dspy.functional import TypedChainOfThought\n",
        "\n",
        "generate_label_with_chain_of_thought = TypedChainOfThought(DopeOrNopeSignature)\n",
        "\n",
        "label_prediction = generate_label_with_chain_of_thought(sentence=valset_example.sentence)"
      ]
    },
    {
      "cell_type": "code",
      "execution_count": 19,
      "metadata": {
        "colab": {
          "base_uri": "https://localhost:8080/"
        },
        "id": "vZf2PNb8HYaT",
        "outputId": "1ed6d45e-a054-4893-886b-4d9d371f599e"
      },
      "outputs": [
        {
          "name": "stdout",
          "output_type": "stream",
          "text": [
            "Sentence: This is top tier.\n",
            "Reasoning: I would rate this sentence highly because it conveys a strong sense of excellence and quality.\n",
            "Ground Truth Label: 4\n",
            "Prediction: 3\n"
          ]
        }
      ],
      "source": [
        "print(f\"Sentence: {valset_example.sentence}\")\n",
        "print(f\"Reasoning: {label_prediction.reasoning}\")\n",
        "print(f\"Ground Truth Label: {valset_example.rating}\")\n",
        "print(f\"Prediction: {label_prediction.rating}\")"
      ]
    },
    {
      "cell_type": "markdown",
      "metadata": {
        "id": "miii9xQxgAzm"
      },
      "source": [
        "We can, again, check our LLM's history to see what the actual prompt/response is.\n"
      ]
    },
    {
      "cell_type": "code",
      "execution_count": 20,
      "metadata": {
        "colab": {
          "base_uri": "https://localhost:8080/"
        },
        "id": "dMxOlK65VzCZ",
        "outputId": "925c3ced-11f2-47f6-9052-125f52bb1978"
      },
      "outputs": [
        {
          "name": "stdout",
          "output_type": "stream",
          "text": [
            "\n",
            "\n",
            "\n",
            "\n",
            "\u001b[31mSystem message:\u001b[0m\n",
            "\n",
            "Your input fields are:\n",
            "1. `sentence` (str)\n",
            "\n",
            "Your output fields are:\n",
            "1. `reasoning` (str): ${produce the rating}. We ...\n",
            "2. `rating` (int): ${rating} (Respond with a single int value)\n",
            "\n",
            "All interactions will be structured in the following way, with the appropriate values filled in.\n",
            "\n",
            "[[ ## sentence ## ]]\n",
            "{sentence}\n",
            "\n",
            "[[ ## reasoning ## ]]\n",
            "{reasoning}\n",
            "\n",
            "[[ ## rating ## ]]\n",
            "{rating}\n",
            "\n",
            "[[ ## completed ## ]]\n",
            "\n",
            "In adhering to this structure, your objective is: \n",
            "        Rate a sentence from 0 to 4 on a dopeness scale\n",
            "\n",
            "\n",
            "\u001b[31mUser message:\u001b[0m\n",
            "\n",
            "[[ ## sentence ## ]]\n",
            "This is top tier.\n",
            "\n",
            "Respond with the corresponding output fields, starting with the field `reasoning`, then `rating`, and then ending with the marker for `completed`.\n",
            "\n",
            "\n",
            "\u001b[31mResponse:\u001b[0m\n",
            "\n",
            "\u001b[32m[[ ## reasoning ## ]]\n",
            "I would rate this sentence highly because it conveys a strong sense of excellence and quality.\n",
            "\n",
            "[[ ## rating ## ]]\n",
            "3\n",
            "\n",
            "[[ ## completed ## ]]\u001b[0m\n",
            "\n",
            "\n",
            "\n",
            "\n",
            "\n"
          ]
        }
      ],
      "source": [
        "llm.inspect_history(n=1)"
      ]
    },
    {
      "cell_type": "markdown",
      "metadata": {
        "id": "a7U3yeCsg3B2"
      },
      "source": [
        "## Task 6: Making a Chain, I mean...Module.\n",
        "\n",
        "Now that we have our `TypedPredictor`, we can create a `Module`!\n",
        "\n",
        "A `Module` is useful because it allows us to interact with the `Predictor` and `Signature` in a way that DSPy can leverage for optimization.\n",
        "\n",
        "The helps the DSPy framework determine paths through your program - and helps during the `compilation` or optimisation steps (formerly `teleprompting`).\n",
        "\n",
        "> NOTE: You might notice this looks strikingly familiar to PyTorch, and this is by design!"
      ]
    },
    {
      "cell_type": "code",
      "execution_count": 21,
      "metadata": {
        "id": "H6GoyWyUJkl6"
      },
      "outputs": [],
      "source": [
        "from dspy import Module, Prediction\n",
        "\n",
        "class DopeOrNopeStudent(Module):\n",
        "  def __init__(self):\n",
        "    super().__init__()\n",
        "\n",
        "    self.generate_rating = TypedPredictor(DopeOrNopeSignature)\n",
        "\n",
        "  def forward(self, sentence):\n",
        "    prediction = self.generate_rating(sentence=sentence)\n",
        "    return Prediction(rating=prediction.rating)"
      ]
    },
    {
      "cell_type": "markdown",
      "metadata": {
        "id": "PS2pf8tjh7lH"
      },
      "source": [
        "## Task 7: Evaluate\n",
        "\n",
        "As with any good framework, DSPy has the ability to `Evaluate` - we can leverage this to determine how our current DSPy \"program\" (our `Module` in this case) operates.\n",
        "\n",
        "> NOTE: DSPy's \"program\" could be loosely related to a \"chain\" from the popular LLM Framework LangChain."
      ]
    },
    {
      "cell_type": "code",
      "execution_count": 22,
      "metadata": {
        "colab": {
          "base_uri": "https://localhost:8080/",
          "height": 397
        },
        "id": "C9o5461qMKyt",
        "outputId": "78d57891-849a-4472-ea99-aaaad5660067"
      },
      "outputs": [
        {
          "name": "stdout",
          "output_type": "stream",
          "text": [
            "Average Metric: 4 / 10  (40.0): 100%|██████████| 10/10 [00:05<00:00,  1.72it/s]\n"
          ]
        },
        {
          "data": {
            "text/html": [
              "<style type=\"text/css\">\n",
              "#T_64796 th {\n",
              "  text-align: left;\n",
              "}\n",
              "#T_64796 td {\n",
              "  text-align: left;\n",
              "}\n",
              "#T_64796_row0_col0, #T_64796_row0_col1, #T_64796_row0_col2, #T_64796_row0_col3, #T_64796_row1_col0, #T_64796_row1_col1, #T_64796_row1_col2, #T_64796_row1_col3, #T_64796_row2_col0, #T_64796_row2_col1, #T_64796_row2_col2, #T_64796_row2_col3, #T_64796_row3_col0, #T_64796_row3_col1, #T_64796_row3_col2, #T_64796_row3_col3, #T_64796_row4_col0, #T_64796_row4_col1, #T_64796_row4_col2, #T_64796_row4_col3, #T_64796_row5_col0, #T_64796_row5_col1, #T_64796_row5_col2, #T_64796_row5_col3, #T_64796_row6_col0, #T_64796_row6_col1, #T_64796_row6_col2, #T_64796_row6_col3, #T_64796_row7_col0, #T_64796_row7_col1, #T_64796_row7_col2, #T_64796_row7_col3, #T_64796_row8_col0, #T_64796_row8_col1, #T_64796_row8_col2, #T_64796_row8_col3, #T_64796_row9_col0, #T_64796_row9_col1, #T_64796_row9_col2, #T_64796_row9_col3 {\n",
              "  text-align: left;\n",
              "  white-space: pre-wrap;\n",
              "  word-wrap: break-word;\n",
              "  max-width: 400px;\n",
              "}\n",
              "</style>\n",
              "<table id=\"T_64796\" class=\"dataframe\">\n",
              "  <thead>\n",
              "    <tr>\n",
              "      <th class=\"blank level0\" >&nbsp;</th>\n",
              "      <th id=\"T_64796_level0_col0\" class=\"col_heading level0 col0\" >sentence</th>\n",
              "      <th id=\"T_64796_level0_col1\" class=\"col_heading level0 col1\" >example_rating</th>\n",
              "      <th id=\"T_64796_level0_col2\" class=\"col_heading level0 col2\" >pred_rating</th>\n",
              "      <th id=\"T_64796_level0_col3\" class=\"col_heading level0 col3\" >exact_match_metric</th>\n",
              "    </tr>\n",
              "  </thead>\n",
              "  <tbody>\n",
              "    <tr>\n",
              "      <th id=\"T_64796_level0_row0\" class=\"row_heading level0 row0\" >0</th>\n",
              "      <td id=\"T_64796_row0_col0\" class=\"data row0 col0\" >This is top tier.</td>\n",
              "      <td id=\"T_64796_row0_col1\" class=\"data row0 col1\" >4</td>\n",
              "      <td id=\"T_64796_row0_col2\" class=\"data row0 col2\" >4</td>\n",
              "      <td id=\"T_64796_row0_col3\" class=\"data row0 col3\" >✔️ [True]</td>\n",
              "    </tr>\n",
              "    <tr>\n",
              "      <th id=\"T_64796_level0_row1\" class=\"row_heading level0 row1\" >1</th>\n",
              "      <td id=\"T_64796_row1_col0\" class=\"data row1 col0\" >Big mood.</td>\n",
              "      <td id=\"T_64796_row1_col1\" class=\"data row1 col1\" >3</td>\n",
              "      <td id=\"T_64796_row1_col2\" class=\"data row1 col2\" >3</td>\n",
              "      <td id=\"T_64796_row1_col3\" class=\"data row1 col3\" >✔️ [True]</td>\n",
              "    </tr>\n",
              "    <tr>\n",
              "      <th id=\"T_64796_level0_row2\" class=\"row_heading level0 row2\" >2</th>\n",
              "      <td id=\"T_64796_row2_col0\" class=\"data row2 col0\" >The presentation was outstanding.</td>\n",
              "      <td id=\"T_64796_row2_col1\" class=\"data row2 col1\" >1</td>\n",
              "      <td id=\"T_64796_row2_col2\" class=\"data row2 col2\" >4</td>\n",
              "      <td id=\"T_64796_row2_col3\" class=\"data row2 col3\" ><class 'str'></td>\n",
              "    </tr>\n",
              "    <tr>\n",
              "      <th id=\"T_64796_level0_row3\" class=\"row_heading level0 row3\" >3</th>\n",
              "      <td id=\"T_64796_row3_col0\" class=\"data row3 col0\" >I'm living my best life.</td>\n",
              "      <td id=\"T_64796_row3_col1\" class=\"data row3 col1\" >4</td>\n",
              "      <td id=\"T_64796_row3_col2\" class=\"data row3 col2\" >3</td>\n",
              "      <td id=\"T_64796_row3_col3\" class=\"data row3 col3\" ><class 'str'></td>\n",
              "    </tr>\n",
              "    <tr>\n",
              "      <th id=\"T_64796_level0_row4\" class=\"row_heading level0 row4\" >4</th>\n",
              "      <td id=\"T_64796_row4_col0\" class=\"data row4 col0\" >Sksksksk, that's hilarious.</td>\n",
              "      <td id=\"T_64796_row4_col1\" class=\"data row4 col1\" >3</td>\n",
              "      <td id=\"T_64796_row4_col2\" class=\"data row4 col2\" >2</td>\n",
              "      <td id=\"T_64796_row4_col3\" class=\"data row4 col3\" ><class 'str'></td>\n",
              "    </tr>\n",
              "    <tr>\n",
              "      <th id=\"T_64796_level0_row5\" class=\"row_heading level0 row5\" >5</th>\n",
              "      <td id=\"T_64796_row5_col0\" class=\"data row5 col0\" >The report is comprehensive.</td>\n",
              "      <td id=\"T_64796_row5_col1\" class=\"data row5 col1\" >1</td>\n",
              "      <td id=\"T_64796_row5_col2\" class=\"data row5 col2\" >3</td>\n",
              "      <td id=\"T_64796_row5_col3\" class=\"data row5 col3\" ><class 'str'></td>\n",
              "    </tr>\n",
              "    <tr>\n",
              "      <th id=\"T_64796_level0_row6\" class=\"row_heading level0 row6\" >6</th>\n",
              "      <td id=\"T_64796_row6_col0\" class=\"data row6 col0\" >This is next level.</td>\n",
              "      <td id=\"T_64796_row6_col1\" class=\"data row6 col1\" >4</td>\n",
              "      <td id=\"T_64796_row6_col2\" class=\"data row6 col2\" >4</td>\n",
              "      <td id=\"T_64796_row6_col3\" class=\"data row6 col3\" >✔️ [True]</td>\n",
              "    </tr>\n",
              "    <tr>\n",
              "      <th id=\"T_64796_level0_row7\" class=\"row_heading level0 row7\" >7</th>\n",
              "      <td id=\"T_64796_row7_col0\" class=\"data row7 col0\" >The meeting was productive.</td>\n",
              "      <td id=\"T_64796_row7_col1\" class=\"data row7 col1\" >1</td>\n",
              "      <td id=\"T_64796_row7_col2\" class=\"data row7 col2\" >3</td>\n",
              "      <td id=\"T_64796_row7_col3\" class=\"data row7 col3\" ><class 'str'></td>\n",
              "    </tr>\n",
              "    <tr>\n",
              "      <th id=\"T_64796_level0_row8\" class=\"row_heading level0 row8\" >8</th>\n",
              "      <td id=\"T_64796_row8_col0\" class=\"data row8 col0\" >The analysis was insightful.</td>\n",
              "      <td id=\"T_64796_row8_col1\" class=\"data row8 col1\" >1</td>\n",
              "      <td id=\"T_64796_row8_col2\" class=\"data row8 col2\" >3</td>\n",
              "      <td id=\"T_64796_row8_col3\" class=\"data row8 col3\" ><class 'str'></td>\n",
              "    </tr>\n",
              "    <tr>\n",
              "      <th id=\"T_64796_level0_row9\" class=\"row_heading level0 row9\" >9</th>\n",
              "      <td id=\"T_64796_row9_col0\" class=\"data row9 col0\" >I stan a legend.</td>\n",
              "      <td id=\"T_64796_row9_col1\" class=\"data row9 col1\" >3</td>\n",
              "      <td id=\"T_64796_row9_col2\" class=\"data row9 col2\" >3</td>\n",
              "      <td id=\"T_64796_row9_col3\" class=\"data row9 col3\" >✔️ [True]</td>\n",
              "    </tr>\n",
              "  </tbody>\n",
              "</table>\n"
            ],
            "text/plain": [
              "<pandas.io.formats.style.Styler at 0x7945c3b316c0>"
            ]
          },
          "metadata": {},
          "output_type": "display_data"
        },
        {
          "data": {
            "text/plain": [
              "40.0"
            ]
          },
          "execution_count": 22,
          "metadata": {},
          "output_type": "execute_result"
        }
      ],
      "source": [
        "from dspy.evaluate.evaluate import Evaluate\n",
        "\n",
        "evaluate_fewshot = Evaluate(devset=valset, num_threads=1, display_progress=True, display_table=10)\n",
        "\n",
        "def exact_match_metric(answer, pred, trace=None):\n",
        "  return answer.rating == pred.rating\n",
        "\n",
        "evaluate_fewshot(DopeOrNopeStudent(), metric=exact_match_metric)"
      ]
    },
    {
      "cell_type": "markdown",
      "metadata": {
        "id": "tw030e6I4UEo"
      },
      "source": [
        "#### ❓Question #1:\n",
        "\n",
        "Does DSPy lend itself to more complex less exactly defined evaluations? Provide reasoning for your answer."
      ]
    },
    {
      "cell_type": "markdown",
      "metadata": {},
      "source": [
        "DSPy lends itself to more complex tasks for the following reasons:<br>\n",
        " - Declarative Programming: DSPy uses a declarative approach, where you define the task and the metrics for success, rather than crafting specific prompts. This allows for more flexibility in handling complex tasks that may not have precisely defined parameters.\n",
        " - Self-Improving Prompts: One of DSPy’s standout features is its ability to automatically refine prompts over time based on feedback and evaluation. This continuous improvement process makes it well-suited for tasks that evolve or require nuanced understanding.\n",
        " - Modular Architecture: DSPy’s modular design allows for the integration of various pre-built modules tailored for different natural language processing tasks. This modularity enables the framework to adapt to a wide range of complex scenarios.\n",
        " - Optimization Tools: DSPy includes tools for optimizing prompts and measuring performance, which helps in systematically improving the model’s behavior even for less precisely defined tasks."
      ]
    },
    {
      "cell_type": "markdown",
      "metadata": {
        "id": "eIK6OdQFiUww"
      },
      "source": [
        "## Task 8: Program Optimization (the Artist Formerly Known as Teleprompting)\n",
        "\n",
        "Optimization is the crux of the DSPy framework - it is what allows it to operate at a level beyond traditional prompt engineering.\n",
        "\n",
        "At a high level, optimisation is a way for the DSPy framework to take the program, a training set, and a metric - and make changes/tweaks to our program to improve our metrics on our dataset.\n",
        "\n",
        "Let's get started with the `LabeledFewShot` optimizer.\n",
        "\n",
        "The `LabeledFewShot` optimizer very simply provides a sample of the `trainset` as few-shot examples!"
      ]
    },
    {
      "cell_type": "code",
      "execution_count": 23,
      "metadata": {
        "id": "wBq1Xs-CHphS"
      },
      "outputs": [],
      "source": [
        "from dspy.teleprompt import LabeledFewShot\n",
        "\n",
        "labeled_fewshot_optimizer = LabeledFewShot(k=4)"
      ]
    },
    {
      "cell_type": "markdown",
      "metadata": {
        "id": "KdtrS7hXjHzv"
      },
      "source": [
        "Once we define our optimizer, we can compile our program!"
      ]
    },
    {
      "cell_type": "code",
      "execution_count": 24,
      "metadata": {
        "id": "eVv4aK2QJD3v"
      },
      "outputs": [],
      "source": [
        "compiled_dspy = labeled_fewshot_optimizer.compile(student=DopeOrNopeStudent(), trainset=trainset)"
      ]
    },
    {
      "cell_type": "markdown",
      "metadata": {
        "id": "8k_KhbL_jMXK"
      },
      "source": [
        "Let's evaluate!"
      ]
    },
    {
      "cell_type": "code",
      "execution_count": 25,
      "metadata": {
        "colab": {
          "base_uri": "https://localhost:8080/",
          "height": 397
        },
        "id": "oxl_zZ51JQRc",
        "outputId": "895f4faf-f681-4c88-9bf6-23b9be3aa5d8"
      },
      "outputs": [
        {
          "name": "stdout",
          "output_type": "stream",
          "text": [
            "Average Metric: 4 / 10  (40.0): 100%|██████████| 10/10 [00:04<00:00,  2.11it/s]\n"
          ]
        },
        {
          "data": {
            "text/html": [
              "<style type=\"text/css\">\n",
              "#T_0ad26 th {\n",
              "  text-align: left;\n",
              "}\n",
              "#T_0ad26 td {\n",
              "  text-align: left;\n",
              "}\n",
              "#T_0ad26_row0_col0, #T_0ad26_row0_col1, #T_0ad26_row0_col2, #T_0ad26_row0_col3, #T_0ad26_row1_col0, #T_0ad26_row1_col1, #T_0ad26_row1_col2, #T_0ad26_row1_col3, #T_0ad26_row2_col0, #T_0ad26_row2_col1, #T_0ad26_row2_col2, #T_0ad26_row2_col3, #T_0ad26_row3_col0, #T_0ad26_row3_col1, #T_0ad26_row3_col2, #T_0ad26_row3_col3, #T_0ad26_row4_col0, #T_0ad26_row4_col1, #T_0ad26_row4_col2, #T_0ad26_row4_col3, #T_0ad26_row5_col0, #T_0ad26_row5_col1, #T_0ad26_row5_col2, #T_0ad26_row5_col3, #T_0ad26_row6_col0, #T_0ad26_row6_col1, #T_0ad26_row6_col2, #T_0ad26_row6_col3, #T_0ad26_row7_col0, #T_0ad26_row7_col1, #T_0ad26_row7_col2, #T_0ad26_row7_col3, #T_0ad26_row8_col0, #T_0ad26_row8_col1, #T_0ad26_row8_col2, #T_0ad26_row8_col3, #T_0ad26_row9_col0, #T_0ad26_row9_col1, #T_0ad26_row9_col2, #T_0ad26_row9_col3 {\n",
              "  text-align: left;\n",
              "  white-space: pre-wrap;\n",
              "  word-wrap: break-word;\n",
              "  max-width: 400px;\n",
              "}\n",
              "</style>\n",
              "<table id=\"T_0ad26\" class=\"dataframe\">\n",
              "  <thead>\n",
              "    <tr>\n",
              "      <th class=\"blank level0\" >&nbsp;</th>\n",
              "      <th id=\"T_0ad26_level0_col0\" class=\"col_heading level0 col0\" >sentence</th>\n",
              "      <th id=\"T_0ad26_level0_col1\" class=\"col_heading level0 col1\" >example_rating</th>\n",
              "      <th id=\"T_0ad26_level0_col2\" class=\"col_heading level0 col2\" >pred_rating</th>\n",
              "      <th id=\"T_0ad26_level0_col3\" class=\"col_heading level0 col3\" >exact_match_metric</th>\n",
              "    </tr>\n",
              "  </thead>\n",
              "  <tbody>\n",
              "    <tr>\n",
              "      <th id=\"T_0ad26_level0_row0\" class=\"row_heading level0 row0\" >0</th>\n",
              "      <td id=\"T_0ad26_row0_col0\" class=\"data row0 col0\" >This is top tier.</td>\n",
              "      <td id=\"T_0ad26_row0_col1\" class=\"data row0 col1\" >4</td>\n",
              "      <td id=\"T_0ad26_row0_col2\" class=\"data row0 col2\" >4</td>\n",
              "      <td id=\"T_0ad26_row0_col3\" class=\"data row0 col3\" >✔️ [True]</td>\n",
              "    </tr>\n",
              "    <tr>\n",
              "      <th id=\"T_0ad26_level0_row1\" class=\"row_heading level0 row1\" >1</th>\n",
              "      <td id=\"T_0ad26_row1_col0\" class=\"data row1 col0\" >Big mood.</td>\n",
              "      <td id=\"T_0ad26_row1_col1\" class=\"data row1 col1\" >3</td>\n",
              "      <td id=\"T_0ad26_row1_col2\" class=\"data row1 col2\" >3</td>\n",
              "      <td id=\"T_0ad26_row1_col3\" class=\"data row1 col3\" >✔️ [True]</td>\n",
              "    </tr>\n",
              "    <tr>\n",
              "      <th id=\"T_0ad26_level0_row2\" class=\"row_heading level0 row2\" >2</th>\n",
              "      <td id=\"T_0ad26_row2_col0\" class=\"data row2 col0\" >The presentation was outstanding.</td>\n",
              "      <td id=\"T_0ad26_row2_col1\" class=\"data row2 col1\" >1</td>\n",
              "      <td id=\"T_0ad26_row2_col2\" class=\"data row2 col2\" >3</td>\n",
              "      <td id=\"T_0ad26_row2_col3\" class=\"data row2 col3\" ><class 'str'></td>\n",
              "    </tr>\n",
              "    <tr>\n",
              "      <th id=\"T_0ad26_level0_row3\" class=\"row_heading level0 row3\" >3</th>\n",
              "      <td id=\"T_0ad26_row3_col0\" class=\"data row3 col0\" >I'm living my best life.</td>\n",
              "      <td id=\"T_0ad26_row3_col1\" class=\"data row3 col1\" >4</td>\n",
              "      <td id=\"T_0ad26_row3_col2\" class=\"data row3 col2\" >3</td>\n",
              "      <td id=\"T_0ad26_row3_col3\" class=\"data row3 col3\" ><class 'str'></td>\n",
              "    </tr>\n",
              "    <tr>\n",
              "      <th id=\"T_0ad26_level0_row4\" class=\"row_heading level0 row4\" >4</th>\n",
              "      <td id=\"T_0ad26_row4_col0\" class=\"data row4 col0\" >Sksksksk, that's hilarious.</td>\n",
              "      <td id=\"T_0ad26_row4_col1\" class=\"data row4 col1\" >3</td>\n",
              "      <td id=\"T_0ad26_row4_col2\" class=\"data row4 col2\" >3</td>\n",
              "      <td id=\"T_0ad26_row4_col3\" class=\"data row4 col3\" >✔️ [True]</td>\n",
              "    </tr>\n",
              "    <tr>\n",
              "      <th id=\"T_0ad26_level0_row5\" class=\"row_heading level0 row5\" >5</th>\n",
              "      <td id=\"T_0ad26_row5_col0\" class=\"data row5 col0\" >The report is comprehensive.</td>\n",
              "      <td id=\"T_0ad26_row5_col1\" class=\"data row5 col1\" >1</td>\n",
              "      <td id=\"T_0ad26_row5_col2\" class=\"data row5 col2\" >2</td>\n",
              "      <td id=\"T_0ad26_row5_col3\" class=\"data row5 col3\" ><class 'str'></td>\n",
              "    </tr>\n",
              "    <tr>\n",
              "      <th id=\"T_0ad26_level0_row6\" class=\"row_heading level0 row6\" >6</th>\n",
              "      <td id=\"T_0ad26_row6_col0\" class=\"data row6 col0\" >This is next level.</td>\n",
              "      <td id=\"T_0ad26_row6_col1\" class=\"data row6 col1\" >4</td>\n",
              "      <td id=\"T_0ad26_row6_col2\" class=\"data row6 col2\" >3</td>\n",
              "      <td id=\"T_0ad26_row6_col3\" class=\"data row6 col3\" ><class 'str'></td>\n",
              "    </tr>\n",
              "    <tr>\n",
              "      <th id=\"T_0ad26_level0_row7\" class=\"row_heading level0 row7\" >7</th>\n",
              "      <td id=\"T_0ad26_row7_col0\" class=\"data row7 col0\" >The meeting was productive.</td>\n",
              "      <td id=\"T_0ad26_row7_col1\" class=\"data row7 col1\" >1</td>\n",
              "      <td id=\"T_0ad26_row7_col2\" class=\"data row7 col2\" >3</td>\n",
              "      <td id=\"T_0ad26_row7_col3\" class=\"data row7 col3\" ><class 'str'></td>\n",
              "    </tr>\n",
              "    <tr>\n",
              "      <th id=\"T_0ad26_level0_row8\" class=\"row_heading level0 row8\" >8</th>\n",
              "      <td id=\"T_0ad26_row8_col0\" class=\"data row8 col0\" >The analysis was insightful.</td>\n",
              "      <td id=\"T_0ad26_row8_col1\" class=\"data row8 col1\" >1</td>\n",
              "      <td id=\"T_0ad26_row8_col2\" class=\"data row8 col2\" >3</td>\n",
              "      <td id=\"T_0ad26_row8_col3\" class=\"data row8 col3\" ><class 'str'></td>\n",
              "    </tr>\n",
              "    <tr>\n",
              "      <th id=\"T_0ad26_level0_row9\" class=\"row_heading level0 row9\" >9</th>\n",
              "      <td id=\"T_0ad26_row9_col0\" class=\"data row9 col0\" >I stan a legend.</td>\n",
              "      <td id=\"T_0ad26_row9_col1\" class=\"data row9 col1\" >3</td>\n",
              "      <td id=\"T_0ad26_row9_col2\" class=\"data row9 col2\" >3</td>\n",
              "      <td id=\"T_0ad26_row9_col3\" class=\"data row9 col3\" >✔️ [True]</td>\n",
              "    </tr>\n",
              "  </tbody>\n",
              "</table>\n"
            ],
            "text/plain": [
              "<pandas.io.formats.style.Styler at 0x7945c3b32560>"
            ]
          },
          "metadata": {},
          "output_type": "display_data"
        },
        {
          "data": {
            "text/plain": [
              "40.0"
            ]
          },
          "execution_count": 25,
          "metadata": {},
          "output_type": "execute_result"
        }
      ],
      "source": [
        "evaluate_fewshot(compiled_dspy, metric=exact_match_metric)"
      ]
    },
    {
      "cell_type": "markdown",
      "metadata": {
        "id": "htpDiJLcjOOI"
      },
      "source": [
        "As you can see - with no effort at all - we can improve our performance on our `valset`!"
      ]
    },
    {
      "cell_type": "markdown",
      "metadata": {
        "id": "fyf5baq0jU1Z"
      },
      "source": [
        "Let's try another optimizer - this time: [`BootstrapFewShot`](https://dspy-docs.vercel.app/docs/deep-dive/teleprompter/bootstrap-fewshot).\n",
        "\n",
        "The key thing to note is that this optimizer works with even very few examples - by way of generating new examples by the LLMs!"
      ]
    },
    {
      "cell_type": "code",
      "execution_count": 26,
      "metadata": {
        "colab": {
          "base_uri": "https://localhost:8080/"
        },
        "id": "vPx1wKpAUKBx",
        "outputId": "411f46d0-ad15-4cb3-f6b0-74364cd7eabd"
      },
      "outputs": [
        {
          "name": "stderr",
          "output_type": "stream",
          "text": [
            "  6%|▌         | 5/89 [00:02<00:44,  1.87it/s]"
          ]
        },
        {
          "name": "stdout",
          "output_type": "stream",
          "text": [
            "Bootstrapped 4 full traces after 6 examples in round 0.\n"
          ]
        },
        {
          "name": "stderr",
          "output_type": "stream",
          "text": [
            "\n"
          ]
        }
      ],
      "source": [
        "from dspy.teleprompt import BootstrapFewShot\n",
        "\n",
        "optimizer = BootstrapFewShot(metric=exact_match_metric, max_bootstrapped_demos=4, max_labeled_demos=12)\n",
        "\n",
        "compiled_dspy_BOOTSTRAP = optimizer.compile(student=DopeOrNopeStudent(), trainset=trainset)"
      ]
    },
    {
      "cell_type": "markdown",
      "metadata": {
        "id": "xBO22kS42TLi"
      },
      "source": [
        "#### 🏗️ Activity #1:\n",
        "\n",
        "Outline how `BootstrapFewShot` works \"under the hood\" in natural language or create a diagram of the workflow."
      ]
    },
    {
      "cell_type": "markdown",
      "metadata": {
        "id": "YsF13taMo6dm"
      },
      "source": [
        "Let's finally evaluate!"
      ]
    },
    {
      "cell_type": "code",
      "execution_count": 27,
      "metadata": {
        "colab": {
          "base_uri": "https://localhost:8080/",
          "height": 397
        },
        "id": "lFwORTZbUcwG",
        "outputId": "0f0a835a-e734-470f-af7f-011aa331fb64"
      },
      "outputs": [
        {
          "name": "stdout",
          "output_type": "stream",
          "text": [
            "Average Metric: 8 / 10  (80.0): 100%|██████████| 10/10 [00:05<00:00,  1.76it/s]\n"
          ]
        },
        {
          "data": {
            "text/html": [
              "<style type=\"text/css\">\n",
              "#T_98b69 th {\n",
              "  text-align: left;\n",
              "}\n",
              "#T_98b69 td {\n",
              "  text-align: left;\n",
              "}\n",
              "#T_98b69_row0_col0, #T_98b69_row0_col1, #T_98b69_row0_col2, #T_98b69_row0_col3, #T_98b69_row1_col0, #T_98b69_row1_col1, #T_98b69_row1_col2, #T_98b69_row1_col3, #T_98b69_row2_col0, #T_98b69_row2_col1, #T_98b69_row2_col2, #T_98b69_row2_col3, #T_98b69_row3_col0, #T_98b69_row3_col1, #T_98b69_row3_col2, #T_98b69_row3_col3, #T_98b69_row4_col0, #T_98b69_row4_col1, #T_98b69_row4_col2, #T_98b69_row4_col3, #T_98b69_row5_col0, #T_98b69_row5_col1, #T_98b69_row5_col2, #T_98b69_row5_col3, #T_98b69_row6_col0, #T_98b69_row6_col1, #T_98b69_row6_col2, #T_98b69_row6_col3, #T_98b69_row7_col0, #T_98b69_row7_col1, #T_98b69_row7_col2, #T_98b69_row7_col3, #T_98b69_row8_col0, #T_98b69_row8_col1, #T_98b69_row8_col2, #T_98b69_row8_col3, #T_98b69_row9_col0, #T_98b69_row9_col1, #T_98b69_row9_col2, #T_98b69_row9_col3 {\n",
              "  text-align: left;\n",
              "  white-space: pre-wrap;\n",
              "  word-wrap: break-word;\n",
              "  max-width: 400px;\n",
              "}\n",
              "</style>\n",
              "<table id=\"T_98b69\" class=\"dataframe\">\n",
              "  <thead>\n",
              "    <tr>\n",
              "      <th class=\"blank level0\" >&nbsp;</th>\n",
              "      <th id=\"T_98b69_level0_col0\" class=\"col_heading level0 col0\" >sentence</th>\n",
              "      <th id=\"T_98b69_level0_col1\" class=\"col_heading level0 col1\" >example_rating</th>\n",
              "      <th id=\"T_98b69_level0_col2\" class=\"col_heading level0 col2\" >pred_rating</th>\n",
              "      <th id=\"T_98b69_level0_col3\" class=\"col_heading level0 col3\" >exact_match_metric</th>\n",
              "    </tr>\n",
              "  </thead>\n",
              "  <tbody>\n",
              "    <tr>\n",
              "      <th id=\"T_98b69_level0_row0\" class=\"row_heading level0 row0\" >0</th>\n",
              "      <td id=\"T_98b69_row0_col0\" class=\"data row0 col0\" >This is top tier.</td>\n",
              "      <td id=\"T_98b69_row0_col1\" class=\"data row0 col1\" >4</td>\n",
              "      <td id=\"T_98b69_row0_col2\" class=\"data row0 col2\" >4</td>\n",
              "      <td id=\"T_98b69_row0_col3\" class=\"data row0 col3\" >✔️ [True]</td>\n",
              "    </tr>\n",
              "    <tr>\n",
              "      <th id=\"T_98b69_level0_row1\" class=\"row_heading level0 row1\" >1</th>\n",
              "      <td id=\"T_98b69_row1_col0\" class=\"data row1 col0\" >Big mood.</td>\n",
              "      <td id=\"T_98b69_row1_col1\" class=\"data row1 col1\" >3</td>\n",
              "      <td id=\"T_98b69_row1_col2\" class=\"data row1 col2\" >3</td>\n",
              "      <td id=\"T_98b69_row1_col3\" class=\"data row1 col3\" >✔️ [True]</td>\n",
              "    </tr>\n",
              "    <tr>\n",
              "      <th id=\"T_98b69_level0_row2\" class=\"row_heading level0 row2\" >2</th>\n",
              "      <td id=\"T_98b69_row2_col0\" class=\"data row2 col0\" >The presentation was outstanding.</td>\n",
              "      <td id=\"T_98b69_row2_col1\" class=\"data row2 col1\" >1</td>\n",
              "      <td id=\"T_98b69_row2_col2\" class=\"data row2 col2\" >3</td>\n",
              "      <td id=\"T_98b69_row2_col3\" class=\"data row2 col3\" ><class 'str'></td>\n",
              "    </tr>\n",
              "    <tr>\n",
              "      <th id=\"T_98b69_level0_row3\" class=\"row_heading level0 row3\" >3</th>\n",
              "      <td id=\"T_98b69_row3_col0\" class=\"data row3 col0\" >I'm living my best life.</td>\n",
              "      <td id=\"T_98b69_row3_col1\" class=\"data row3 col1\" >4</td>\n",
              "      <td id=\"T_98b69_row3_col2\" class=\"data row3 col2\" >4</td>\n",
              "      <td id=\"T_98b69_row3_col3\" class=\"data row3 col3\" >✔️ [True]</td>\n",
              "    </tr>\n",
              "    <tr>\n",
              "      <th id=\"T_98b69_level0_row4\" class=\"row_heading level0 row4\" >4</th>\n",
              "      <td id=\"T_98b69_row4_col0\" class=\"data row4 col0\" >Sksksksk, that's hilarious.</td>\n",
              "      <td id=\"T_98b69_row4_col1\" class=\"data row4 col1\" >3</td>\n",
              "      <td id=\"T_98b69_row4_col2\" class=\"data row4 col2\" >3</td>\n",
              "      <td id=\"T_98b69_row4_col3\" class=\"data row4 col3\" >✔️ [True]</td>\n",
              "    </tr>\n",
              "    <tr>\n",
              "      <th id=\"T_98b69_level0_row5\" class=\"row_heading level0 row5\" >5</th>\n",
              "      <td id=\"T_98b69_row5_col0\" class=\"data row5 col0\" >The report is comprehensive.</td>\n",
              "      <td id=\"T_98b69_row5_col1\" class=\"data row5 col1\" >1</td>\n",
              "      <td id=\"T_98b69_row5_col2\" class=\"data row5 col2\" >1</td>\n",
              "      <td id=\"T_98b69_row5_col3\" class=\"data row5 col3\" >✔️ [True]</td>\n",
              "    </tr>\n",
              "    <tr>\n",
              "      <th id=\"T_98b69_level0_row6\" class=\"row_heading level0 row6\" >6</th>\n",
              "      <td id=\"T_98b69_row6_col0\" class=\"data row6 col0\" >This is next level.</td>\n",
              "      <td id=\"T_98b69_row6_col1\" class=\"data row6 col1\" >4</td>\n",
              "      <td id=\"T_98b69_row6_col2\" class=\"data row6 col2\" >4</td>\n",
              "      <td id=\"T_98b69_row6_col3\" class=\"data row6 col3\" >✔️ [True]</td>\n",
              "    </tr>\n",
              "    <tr>\n",
              "      <th id=\"T_98b69_level0_row7\" class=\"row_heading level0 row7\" >7</th>\n",
              "      <td id=\"T_98b69_row7_col0\" class=\"data row7 col0\" >The meeting was productive.</td>\n",
              "      <td id=\"T_98b69_row7_col1\" class=\"data row7 col1\" >1</td>\n",
              "      <td id=\"T_98b69_row7_col2\" class=\"data row7 col2\" >1</td>\n",
              "      <td id=\"T_98b69_row7_col3\" class=\"data row7 col3\" >✔️ [True]</td>\n",
              "    </tr>\n",
              "    <tr>\n",
              "      <th id=\"T_98b69_level0_row8\" class=\"row_heading level0 row8\" >8</th>\n",
              "      <td id=\"T_98b69_row8_col0\" class=\"data row8 col0\" >The analysis was insightful.</td>\n",
              "      <td id=\"T_98b69_row8_col1\" class=\"data row8 col1\" >1</td>\n",
              "      <td id=\"T_98b69_row8_col2\" class=\"data row8 col2\" >2</td>\n",
              "      <td id=\"T_98b69_row8_col3\" class=\"data row8 col3\" ><class 'str'></td>\n",
              "    </tr>\n",
              "    <tr>\n",
              "      <th id=\"T_98b69_level0_row9\" class=\"row_heading level0 row9\" >9</th>\n",
              "      <td id=\"T_98b69_row9_col0\" class=\"data row9 col0\" >I stan a legend.</td>\n",
              "      <td id=\"T_98b69_row9_col1\" class=\"data row9 col1\" >3</td>\n",
              "      <td id=\"T_98b69_row9_col2\" class=\"data row9 col2\" >3</td>\n",
              "      <td id=\"T_98b69_row9_col3\" class=\"data row9 col3\" >✔️ [True]</td>\n",
              "    </tr>\n",
              "  </tbody>\n",
              "</table>\n"
            ],
            "text/plain": [
              "<pandas.io.formats.style.Styler at 0x7945b8613910>"
            ]
          },
          "metadata": {},
          "output_type": "display_data"
        },
        {
          "data": {
            "text/plain": [
              "80.0"
            ]
          },
          "execution_count": 27,
          "metadata": {},
          "output_type": "execute_result"
        }
      ],
      "source": [
        "evaluate_fewshot(compiled_dspy_BOOTSTRAP, metric=exact_match_metric)"
      ]
    },
    {
      "cell_type": "markdown",
      "metadata": {
        "id": "2k9ov1j-pMV8"
      },
      "source": [
        "We can see that this optimization helps our program achieve 30 points higher on our evaluation!"
      ]
    },
    {
      "cell_type": "code",
      "execution_count": 28,
      "metadata": {
        "colab": {
          "base_uri": "https://localhost:8080/"
        },
        "id": "K-7qjXPKWMWF",
        "outputId": "d2af8444-a625-4273-ef88-0b8b713320e8"
      },
      "outputs": [
        {
          "name": "stdout",
          "output_type": "stream",
          "text": [
            "\n",
            "\n",
            "\n",
            "\n",
            "\u001b[31mSystem message:\u001b[0m\n",
            "\n",
            "Your input fields are:\n",
            "1. `sentence` (str)\n",
            "\n",
            "Your output fields are:\n",
            "1. `rating` (int): ${rating} (Respond with a single int value)\n",
            "\n",
            "All interactions will be structured in the following way, with the appropriate values filled in.\n",
            "\n",
            "[[ ## sentence ## ]]\n",
            "{sentence}\n",
            "\n",
            "[[ ## rating ## ]]\n",
            "{rating}\n",
            "\n",
            "[[ ## completed ## ]]\n",
            "\n",
            "In adhering to this structure, your objective is: \n",
            "        Rate a sentence from 0 to 4 on a dopeness scale\n",
            "\n",
            "\n",
            "\u001b[31mUser message:\u001b[0m\n",
            "\n",
            "[[ ## sentence ## ]]\n",
            "This tea is piping hot.\n",
            "\n",
            "Respond with the corresponding output fields, starting with the field `rating`, and then ending with the marker for `completed`.\n",
            "\n",
            "\n",
            "\u001b[31mAssistant message:\u001b[0m\n",
            "\n",
            "[[ ## rating ## ]]\n",
            "4\n",
            "\n",
            "[[ ## completed ## ]]\n",
            "\n",
            "\n",
            "\u001b[31mUser message:\u001b[0m\n",
            "\n",
            "[[ ## sentence ## ]]\n",
            "Your professionalism is appreciated.\n",
            "\n",
            "Respond with the corresponding output fields, starting with the field `rating`, and then ending with the marker for `completed`.\n",
            "\n",
            "\n",
            "\u001b[31mAssistant message:\u001b[0m\n",
            "\n",
            "[[ ## rating ## ]]\n",
            "1\n",
            "\n",
            "[[ ## completed ## ]]\n",
            "\n",
            "\n",
            "\u001b[31mUser message:\u001b[0m\n",
            "\n",
            "[[ ## sentence ## ]]\n",
            "I'm shook!\n",
            "\n",
            "Respond with the corresponding output fields, starting with the field `rating`, and then ending with the marker for `completed`.\n",
            "\n",
            "\n",
            "\u001b[31mAssistant message:\u001b[0m\n",
            "\n",
            "[[ ## rating ## ]]\n",
            "4\n",
            "\n",
            "[[ ## completed ## ]]\n",
            "\n",
            "\n",
            "\u001b[31mUser message:\u001b[0m\n",
            "\n",
            "[[ ## sentence ## ]]\n",
            "This is a whole mood.\n",
            "\n",
            "Respond with the corresponding output fields, starting with the field `rating`, and then ending with the marker for `completed`.\n",
            "\n",
            "\n",
            "\u001b[31mAssistant message:\u001b[0m\n",
            "\n",
            "[[ ## rating ## ]]\n",
            "4\n",
            "\n",
            "[[ ## completed ## ]]\n",
            "\n",
            "\n",
            "\u001b[31mUser message:\u001b[0m\n",
            "\n",
            "[[ ## sentence ## ]]\n",
            "The research was extensive.\n",
            "\n",
            "Respond with the corresponding output fields, starting with the field `rating`, and then ending with the marker for `completed`.\n",
            "\n",
            "\n",
            "\u001b[31mAssistant message:\u001b[0m\n",
            "\n",
            "[[ ## rating ## ]]\n",
            "1\n",
            "\n",
            "[[ ## completed ## ]]\n",
            "\n",
            "\n",
            "\u001b[31mUser message:\u001b[0m\n",
            "\n",
            "[[ ## sentence ## ]]\n",
            "No cap, that's amazing.\n",
            "\n",
            "Respond with the corresponding output fields, starting with the field `rating`, and then ending with the marker for `completed`.\n",
            "\n",
            "\n",
            "\u001b[31mAssistant message:\u001b[0m\n",
            "\n",
            "[[ ## rating ## ]]\n",
            "4\n",
            "\n",
            "[[ ## completed ## ]]\n",
            "\n",
            "\n",
            "\u001b[31mUser message:\u001b[0m\n",
            "\n",
            "[[ ## sentence ## ]]\n",
            "I'm so here for this drama.\n",
            "\n",
            "Respond with the corresponding output fields, starting with the field `rating`, and then ending with the marker for `completed`.\n",
            "\n",
            "\n",
            "\u001b[31mAssistant message:\u001b[0m\n",
            "\n",
            "[[ ## rating ## ]]\n",
            "3\n",
            "\n",
            "[[ ## completed ## ]]\n",
            "\n",
            "\n",
            "\u001b[31mUser message:\u001b[0m\n",
            "\n",
            "[[ ## sentence ## ]]\n",
            "The documentation is complete.\n",
            "\n",
            "Respond with the corresponding output fields, starting with the field `rating`, and then ending with the marker for `completed`.\n",
            "\n",
            "\n",
            "\u001b[31mAssistant message:\u001b[0m\n",
            "\n",
            "[[ ## rating ## ]]\n",
            "1\n",
            "\n",
            "[[ ## completed ## ]]\n",
            "\n",
            "\n",
            "\u001b[31mUser message:\u001b[0m\n",
            "\n",
            "[[ ## sentence ## ]]\n",
            "I can't even with this homework.\n",
            "\n",
            "Respond with the corresponding output fields, starting with the field `rating`, and then ending with the marker for `completed`.\n",
            "\n",
            "\n",
            "\u001b[31mAssistant message:\u001b[0m\n",
            "\n",
            "[[ ## rating ## ]]\n",
            "3\n",
            "\n",
            "[[ ## completed ## ]]\n",
            "\n",
            "\n",
            "\u001b[31mUser message:\u001b[0m\n",
            "\n",
            "[[ ## sentence ## ]]\n",
            "Your feedback is valuable.\n",
            "\n",
            "Respond with the corresponding output fields, starting with the field `rating`, and then ending with the marker for `completed`.\n",
            "\n",
            "\n",
            "\u001b[31mAssistant message:\u001b[0m\n",
            "\n",
            "[[ ## rating ## ]]\n",
            "1\n",
            "\n",
            "[[ ## completed ## ]]\n",
            "\n",
            "\n",
            "\u001b[31mUser message:\u001b[0m\n",
            "\n",
            "[[ ## sentence ## ]]\n",
            "I'm hyped.\n",
            "\n",
            "Respond with the corresponding output fields, starting with the field `rating`, and then ending with the marker for `completed`.\n",
            "\n",
            "\n",
            "\u001b[31mAssistant message:\u001b[0m\n",
            "\n",
            "[[ ## rating ## ]]\n",
            "4\n",
            "\n",
            "[[ ## completed ## ]]\n",
            "\n",
            "\n",
            "\u001b[31mUser message:\u001b[0m\n",
            "\n",
            "[[ ## sentence ## ]]\n",
            "Bless up!\n",
            "\n",
            "Respond with the corresponding output fields, starting with the field `rating`, and then ending with the marker for `completed`.\n",
            "\n",
            "\n",
            "\u001b[31mAssistant message:\u001b[0m\n",
            "\n",
            "[[ ## rating ## ]]\n",
            "4\n",
            "\n",
            "[[ ## completed ## ]]\n",
            "\n",
            "\n",
            "\u001b[31mUser message:\u001b[0m\n",
            "\n",
            "[[ ## sentence ## ]]\n",
            "I stan a legend.\n",
            "\n",
            "Respond with the corresponding output fields, starting with the field `rating`, and then ending with the marker for `completed`.\n",
            "\n",
            "\n",
            "\u001b[31mResponse:\u001b[0m\n",
            "\n",
            "\u001b[32m[[ ## rating ## ]]\n",
            "3\n",
            "\n",
            "[[ ## completed ## ]]\u001b[0m\n",
            "\n",
            "\n",
            "\n",
            "\n",
            "\n"
          ]
        }
      ],
      "source": [
        "llm.inspect_history(n=1)"
      ]
    },
    {
      "cell_type": "code",
      "execution_count": 29,
      "metadata": {
        "colab": {
          "base_uri": "https://localhost:8080/"
        },
        "id": "XEP0Sf6CUvuo",
        "outputId": "36a17dee-2718-4829-bfb6-98eb75068570"
      },
      "outputs": [
        {
          "name": "stdout",
          "output_type": "stream",
          "text": [
            "Parameter generate_rating.predictor: Num Examples: 12, Example({'augmented': True, 'sentence': 'This tea is piping hot.', 'rating': 4}) (input_keys=None)\n",
            "\n"
          ]
        }
      ],
      "source": [
        "for name, parameter in compiled_dspy_BOOTSTRAP.named_parameters():\n",
        "  print(f\"Parameter {name}: Num Examples: {len(parameter.demos)}, {parameter.demos[0]}\")\n",
        "  print()"
      ]
    },
    {
      "cell_type": "markdown",
      "metadata": {
        "id": "EnKHiDch1H8O"
      },
      "source": [
        "# 🤝 Breakout Room #2"
      ]
    },
    {
      "cell_type": "markdown",
      "metadata": {
        "id": "mbRgUUYK-qbd"
      },
      "source": [
        "## Task 1: Defining Application\n",
        "\n",
        "In this breakoutroom, we'll be using DSPy to optimize a Multi-Hop QA module with `Assertions`.\n",
        "\n",
        "So what is a \"Multi-Hop QA module\"?\n",
        "\n",
        "Well - going beyond naive RAG retrieval, Multi-Hop QA lets us create applications that are well-suited to questions that (potentially have) multiple \"hops\" required to answer them.\n",
        "\n",
        "For instance: \"Who is the top goal scorer that has ever played on the Winnipeg Jets, and what years did he play for the Winnipeg Jets?\"\n",
        "\n",
        "You can see that there are two \"hops\" required to respond correctly:\n",
        "\n",
        "1. Who is the top goal scorer for the Winnipeg Jets?\n",
        "2. What years did X player play for the Winnipeg Jets?\n",
        "\n",
        "While this is a toy example, the idea is the same across complexity: Questions that take more than one step of reasoning to answer.\n",
        "\n",
        "Let's grab some data, set-up some hyper-parameters, and then get to implmentation!"
      ]
    },
    {
      "cell_type": "markdown",
      "metadata": {
        "id": "DtLPLh-RAHgx"
      },
      "source": [
        "## Task 2: Hyper-Parameters and Data\n",
        "\n",
        "We'll use the DSPy ColBERT abstracts as our retrieval system for this example.\n",
        "\n",
        "We'll also use `GPT-4o-Mini` as our LM to keep things light and inexpensive as we'll be sending quite a few LLM calls."
      ]
    },
    {
      "cell_type": "code",
      "execution_count": 30,
      "metadata": {
        "id": "TsZ_AUUg5HaL"
      },
      "outputs": [],
      "source": [
        "colbertv2_wiki17_abstracts = dspy.ColBERTv2(url='http://20.102.90.50:2017/wiki17_abstracts')\n",
        "dspy.settings.configure(rm=colbertv2_wiki17_abstracts)\n",
        "lm_openai_four_mini = dspy.LM(model='openai/gpt-4o-mini', max_tokens=500)\n",
        "dspy.settings.configure(lm=lm_openai_four_mini, trace=[], temperature=0.7)"
      ]
    },
    {
      "cell_type": "markdown",
      "metadata": {
        "id": "_36Kh9pbAZ7R"
      },
      "source": [
        "We'll be using the [`HotPotQA`](https://hotpotqa.github.io/) dataset which is a number of multi-hop QA pairs that includes context, and is based on Wikipedia (for compatibility with our Retriever system)."
      ]
    },
    {
      "cell_type": "code",
      "execution_count": 31,
      "metadata": {
        "colab": {
          "base_uri": "https://localhost:8080/",
          "height": 273,
          "referenced_widgets": [
            "6aa7d94cb7f54e36b68589e1c5cedc6c",
            "b2ca329f8e834935b1d92643d42229f6",
            "f40e7e166d4e4934a539d71184cd5518",
            "33911f567f494f79ada691e949fa9ee9",
            "df49503695ec4a80b10132645cd71cfd",
            "8fc7b392eb754d36aec98c08048ce0d5",
            "7491c4b1c77f42d1a53fafab020b053b",
            "93c36b856f524cfb9c2c0d44faa90533",
            "39c21fba163a458c8a7a6ea49eb701e2",
            "bf126cb4ef0d4f8e86484e2b917caeb4",
            "4e07562d662f461694efd72af51b9241",
            "37ef49b3ba2e4b279865ce33a2e37a41",
            "e8ef56b2ad284593a28f10c524f227ec",
            "9297eb22e5184902bb6eb41b8f8620eb",
            "4748811d562b4cba925a0d52f388c1d0",
            "5554dda83ed94dc598eb78106f3b8c05",
            "41196eee29454042a43a1b3b6c752c64",
            "cef7acc90176429595db7a4c4d2aaea6",
            "961baddb633e4e8fa65537ae81b496cb",
            "6eb59dc9861d4875bbc3ee2245bfe755",
            "e1e27b69c98d44038ce9c1b32282198b",
            "5b7fcbb5288849a698f8153bbc77b5c6",
            "39727c25af214c19ae245f0e99e554e3",
            "af8de42ef17c487caf6a028ff6fce183",
            "7eb191cd2d2b497c86b4ddcc67bc6e5a",
            "ec6f7507004848449813861304997422",
            "be45bc21a7eb4a89806a5116fdf0088f",
            "f8bd2c887dc94c22aebeb2cf513b209f",
            "e34ecec7500740e7a5bbe313c540a500",
            "c9e3ba5c8254471480acf1b6e4f37606",
            "a36dd2d159e24ddb8871c79b9a93d148",
            "e3366d153a1a453988bb88a92b907a06",
            "7ca40b8d650141869d3573c1ec88ba86",
            "d3f7e954ba1e488c923cba7a3abd2add",
            "5d8eabb731d64977989470427b11c885",
            "a76d10af75a64d8e998103342fb64e29",
            "3adadcaee7414368bc13a5c5dd5f6d86",
            "c8bc845653244b2695db8938e52c8f6c",
            "4e0def98b6b94929b0b5aff13905523d",
            "a42e01dcf42d4ae397560b9be457d62a",
            "dee91057c36b4db08da47d553f758196",
            "f895633e83784eae8311d61ed4b8b87c",
            "9910cff351304c09ae273fae1db8fcd0",
            "36b59ccb4ae74691b11c88a597b727ca",
            "e904736b02fe446db9ea042c8590dec3",
            "2cd051510c014aada2515fbe636d2ff5",
            "32d5e0524ba340eab3b89dd21042309f",
            "7ed950b5d1564ec5ad90a3584f1981a9",
            "7dc85c1c812d417ca35dcc34df221c0c",
            "c169906cd7ba4d3eba36e318b9bb76e2",
            "05cc1fd7118c45869d5c57eea80784d9",
            "29b099295b6b4ccfa32cbf16e6599998",
            "061075864dc944f281c698892902945d",
            "599f42a562e34f96a7ce793154608ff6",
            "65f54c92b4d34caea6d6443358b5fec8",
            "3391fc3fc4994f75810362b719221271",
            "c7348b248bc84a0eacb695e4951996eb",
            "566d55b7680b42c0afac220335480326",
            "dd4c32ed4e524436ab80903f719b6b5a",
            "eb3a7a9c013d4f85926070146b284d33",
            "6be88edc8aee459ab5a36f1378be066a",
            "263b5d1c62c943028f1477eaf5193dfe",
            "76c2316cd65c44c69bfe32f80192645b",
            "d032cddb97fc47e18c78417af2c00b67",
            "ee398809fa4b462a92810912d9ed3b15",
            "d3ad59fdbeca42498956d5df8b3a4fb7",
            "bfb446d57d574dea8962cf08f85cdb7e",
            "d9913182a12b4455bab3d02763ab9a3f",
            "7888df0db1d44b8ab370938952811629",
            "33a4ba1242bc4f9a8fef00840ab54f49",
            "d6750acbd9bc436793c3247e7014f1f1",
            "7c0bb76714af4b9aa94f965b5a480357",
            "72012b93fa8e4bb4abd9337a8d3f24a8",
            "55728d1c6f1b4311b3e0cbb90b3aa171",
            "10b5792e7b61474a9af1baf1378a6310",
            "ce137ed7b8124d8192124f5bab62a694",
            "9667c31419c247a8a2ff48b93fbc6ddd",
            "e7639f07320246598751163cd9cd994d",
            "5199efca619147f3a76c64dddc1f4b50",
            "0370b64765054972b6f5c775abd3263a",
            "f050faedad304d1bacc81aa9f1731308",
            "eded963959b54eeab6283582ce8a6136",
            "5bb3d848f0954f6698bb5da3893e1757",
            "7842d48054844a2f962f78dbf10384bf",
            "1940d9b994944d03893c1d6072b3c8bc",
            "429cff2706094e58857314370c583a38",
            "32c86f03f02e48318499418e5b7d587b",
            "a2129926007f4f898b66badca0e72860"
          ]
        },
        "id": "eHlnHiJD31G_",
        "outputId": "a8f302c3-ccd2-4f08-c12b-56a786c119f9"
      },
      "outputs": [
        {
          "data": {
            "application/vnd.jupyter.widget-view+json": {
              "model_id": "6aa7d94cb7f54e36b68589e1c5cedc6c",
              "version_major": 2,
              "version_minor": 0
            },
            "text/plain": [
              "hotpot_qa.py:   0%|          | 0.00/6.42k [00:00<?, ?B/s]"
            ]
          },
          "metadata": {},
          "output_type": "display_data"
        },
        {
          "data": {
            "application/vnd.jupyter.widget-view+json": {
              "model_id": "37ef49b3ba2e4b279865ce33a2e37a41",
              "version_major": 2,
              "version_minor": 0
            },
            "text/plain": [
              "README.md:   0%|          | 0.00/9.19k [00:00<?, ?B/s]"
            ]
          },
          "metadata": {},
          "output_type": "display_data"
        },
        {
          "data": {
            "application/vnd.jupyter.widget-view+json": {
              "model_id": "39727c25af214c19ae245f0e99e554e3",
              "version_major": 2,
              "version_minor": 0
            },
            "text/plain": [
              "Downloading data:   0%|          | 0.00/566M [00:00<?, ?B/s]"
            ]
          },
          "metadata": {},
          "output_type": "display_data"
        },
        {
          "data": {
            "application/vnd.jupyter.widget-view+json": {
              "model_id": "d3f7e954ba1e488c923cba7a3abd2add",
              "version_major": 2,
              "version_minor": 0
            },
            "text/plain": [
              "Downloading data:   0%|          | 0.00/47.5M [00:00<?, ?B/s]"
            ]
          },
          "metadata": {},
          "output_type": "display_data"
        },
        {
          "data": {
            "application/vnd.jupyter.widget-view+json": {
              "model_id": "e904736b02fe446db9ea042c8590dec3",
              "version_major": 2,
              "version_minor": 0
            },
            "text/plain": [
              "Downloading data:   0%|          | 0.00/46.2M [00:00<?, ?B/s]"
            ]
          },
          "metadata": {},
          "output_type": "display_data"
        },
        {
          "data": {
            "application/vnd.jupyter.widget-view+json": {
              "model_id": "3391fc3fc4994f75810362b719221271",
              "version_major": 2,
              "version_minor": 0
            },
            "text/plain": [
              "Generating train split:   0%|          | 0/90447 [00:00<?, ? examples/s]"
            ]
          },
          "metadata": {},
          "output_type": "display_data"
        },
        {
          "data": {
            "application/vnd.jupyter.widget-view+json": {
              "model_id": "bfb446d57d574dea8962cf08f85cdb7e",
              "version_major": 2,
              "version_minor": 0
            },
            "text/plain": [
              "Generating validation split:   0%|          | 0/7405 [00:00<?, ? examples/s]"
            ]
          },
          "metadata": {},
          "output_type": "display_data"
        },
        {
          "data": {
            "application/vnd.jupyter.widget-view+json": {
              "model_id": "e7639f07320246598751163cd9cd994d",
              "version_major": 2,
              "version_minor": 0
            },
            "text/plain": [
              "Generating test split:   0%|          | 0/7405 [00:00<?, ? examples/s]"
            ]
          },
          "metadata": {},
          "output_type": "display_data"
        }
      ],
      "source": [
        "from dspy.datasets import HotPotQA\n",
        "\n",
        "dataset = HotPotQA(train_seed=1, train_size=20, eval_seed=2023, dev_size=50, test_size=0, keep_details=True)\n",
        "trainset = [x.with_inputs('question') for x in dataset.train]\n",
        "devset = [x.with_inputs('question') for x in dataset.dev]"
      ]
    },
    {
      "cell_type": "markdown",
      "metadata": {
        "id": "fiBIhbwCA26F"
      },
      "source": [
        "We can look at a few examples:"
      ]
    },
    {
      "cell_type": "code",
      "execution_count": 32,
      "metadata": {
        "colab": {
          "base_uri": "https://localhost:8080/"
        },
        "id": "jLYSTfNh47I6",
        "outputId": "d24fe06a-519e-42c8-9f58-1399c55ed96f"
      },
      "outputs": [
        {
          "name": "stdout",
          "output_type": "stream",
          "text": [
            "Question: At My Window was released by which American singer-songwriter?\n",
            "Answer: John Townes Van Zandt\n",
            "Relevant Wikipedia Titles: {'Townes Van Zandt', 'At My Window (album)'}\n"
          ]
        }
      ],
      "source": [
        "train_example = trainset[0]\n",
        "print(f\"Question: {train_example.question}\")\n",
        "print(f\"Answer: {train_example.answer}\")\n",
        "print(f\"Relevant Wikipedia Titles: {train_example.gold_titles}\")"
      ]
    },
    {
      "cell_type": "code",
      "execution_count": 33,
      "metadata": {
        "colab": {
          "base_uri": "https://localhost:8080/"
        },
        "id": "lLQTYBXY48Gx",
        "outputId": "f260ef2b-409a-4091-b0ad-ef725a423c82"
      },
      "outputs": [
        {
          "name": "stdout",
          "output_type": "stream",
          "text": [
            "Question: What is the nationality of the chef and restaurateur featured in Restaurant: Impossible?\n",
            "Answer: English\n",
            "Relevant Wikipedia Titles: {'Restaurant: Impossible', 'Robert Irvine'}\n"
          ]
        }
      ],
      "source": [
        "dev_example = devset[18]\n",
        "print(f\"Question: {dev_example.question}\")\n",
        "print(f\"Answer: {dev_example.answer}\")\n",
        "print(f\"Relevant Wikipedia Titles: {dev_example.gold_titles}\")"
      ]
    },
    {
      "cell_type": "markdown",
      "metadata": {
        "id": "EINXkiD4A4-e"
      },
      "source": [
        "## Task 3: Signature and Module Creation\n",
        "\n",
        "As we learned above - the bread and butter for DSPy is the `Signature` and `Module`, so we'll create each below.\n",
        "\n",
        "For our `Signatures`, things are fairly straight-forward, we need to:\n",
        "\n",
        "1. Create a `Signature` that will allow us to generate sub-questions.\n",
        "2. Create a `Signature` that will provide citations for our responses."
      ]
    },
    {
      "cell_type": "code",
      "execution_count": 34,
      "metadata": {
        "id": "QozzQ2YnBErb"
      },
      "outputs": [],
      "source": [
        "from dsp.utils import deduplicate\n",
        "\n",
        "class GenerateSearchQuery(dspy.Signature):\n",
        "    \"\"\"Write a simple search query that will help answer a complex question.\"\"\"\n",
        "    context = dspy.InputField(desc=\"may contain relevant facts\")\n",
        "    question = dspy.InputField()\n",
        "    query = dspy.OutputField()\n",
        "\n",
        "class GenerateCitedParagraph(dspy.Signature):\n",
        "    \"\"\"Generate a paragraph with citations.\"\"\"\n",
        "    context = dspy.InputField(desc=\"may contain relevant facts\")\n",
        "    question = dspy.InputField()\n",
        "    paragraph = dspy.OutputField(desc=\"includes citations\")"
      ]
    },
    {
      "cell_type": "markdown",
      "metadata": {
        "id": "vktUyOnOBUxf"
      },
      "source": [
        "Our `Module` is a bit more complex than what we've seen before - so let's walk through what's happening inside of it. We're going to concern ourselves with the `forward` method - as that is where the logic of our `Module` is contained.\n",
        "\n",
        "In the `forward` method we:\n",
        "\n",
        "1. Create an empty list of contexts.\n",
        "2. For each `hop` in our `max_hops` (by default, it will be 2) we:\n",
        "  - Generate a new `query` using our `GenerateSearchQuery` with a `ChainOfThought` predictor.\n",
        "  - Retrieve a number (default 3) of `passages` based on that new `query`.\n",
        "  - Add unique (non-present) `passages` into our `context` list.\n",
        "3. Take all that `context` and our original `question` and generate a cited paragraph and use it to predict an answer."
      ]
    },
    {
      "cell_type": "code",
      "execution_count": 35,
      "metadata": {
        "id": "5yLb4hAY4_ti"
      },
      "outputs": [],
      "source": [
        "class LongFormQA(dspy.Module):\n",
        "    def __init__(self, passages_per_hop=3, max_hops=2):\n",
        "        super().__init__()\n",
        "        self.generate_query = [dspy.ChainOfThought(GenerateSearchQuery) for _ in range(max_hops)]\n",
        "        self.retrieve = dspy.Retrieve(k=passages_per_hop)\n",
        "        self.generate_cited_paragraph = dspy.ChainOfThought(GenerateCitedParagraph)\n",
        "        self.max_hops = max_hops\n",
        "\n",
        "    def forward(self, question):\n",
        "        context = []\n",
        "        for hop in range(self.max_hops):\n",
        "            query = self.generate_query[hop](context=context, question=question).query\n",
        "            passages = self.retrieve(query).passages\n",
        "            context = deduplicate(context + passages)\n",
        "        pred = self.generate_cited_paragraph(context=context, question=question)\n",
        "        pred = dspy.Prediction(context=context, paragraph=pred.paragraph)\n",
        "        return pred"
      ]
    },
    {
      "cell_type": "markdown",
      "metadata": {
        "id": "tgY7ZP43CmIg"
      },
      "source": [
        "Next, we'll need a way to evaluate how we're doing!"
      ]
    },
    {
      "cell_type": "markdown",
      "metadata": {
        "id": "-gReqGYZCuE9"
      },
      "source": [
        "## Task 4: Evaluating our LongFormQA Module.\n",
        "\n",
        "Now we'd like to evaluate our module - we'll need a number of helper functions to do so - which will be instantiated below."
      ]
    },
    {
      "cell_type": "markdown",
      "metadata": {
        "id": "KbQ26BmM5M-a"
      },
      "source": [
        "#### Utility Functions for Citation Checking"
      ]
    },
    {
      "cell_type": "code",
      "execution_count": 36,
      "metadata": {
        "colab": {
          "base_uri": "https://localhost:8080/"
        },
        "id": "ZeYo6sTX5NiZ",
        "outputId": "bfda4f91-b90a-4ea8-bd97-c3944d6cda0d"
      },
      "outputs": [
        {
          "name": "stderr",
          "output_type": "stream",
          "text": [
            "[nltk_data] Downloading package punkt to /root/nltk_data...\n",
            "[nltk_data]   Unzipping tokenizers/punkt.zip.\n"
          ]
        }
      ],
      "source": [
        "import nltk\n",
        "import regex as re\n",
        "\n",
        "from nltk.tokenize import sent_tokenize\n",
        "nltk.download('punkt')\n",
        "\n",
        "def extract_text_by_citation(paragraph):\n",
        "    citation_regex = re.compile(r'(.*?)(\\[\\d+\\]\\.)', re.DOTALL)\n",
        "    parts_with_citation = citation_regex.findall(paragraph)\n",
        "    citation_dict = {}\n",
        "    for part, citation in parts_with_citation:\n",
        "        part = part.strip()\n",
        "        citation_num = re.search(r'\\[(\\d+)\\]\\.', citation).group(1)\n",
        "        citation_dict.setdefault(str(int(citation_num) - 1), []).append(part)\n",
        "    return citation_dict\n",
        "\n",
        "def correct_citation_format(paragraph):\n",
        "    modified_sentences = []\n",
        "    sentences = sent_tokenize(paragraph)\n",
        "    for sentence in sentences:\n",
        "        modified_sentences.append(sentence)\n",
        "    citation_regex = re.compile(r'\\[\\d+\\]\\.')\n",
        "    i = 0\n",
        "    if len(modified_sentences) == 1:\n",
        "      has_citation = bool(citation_regex.search(modified_sentences[i]))\n",
        "    while i < len(modified_sentences):\n",
        "      if len(modified_sentences[i:i+2]) == 2:\n",
        "        sentence_group = \" \".join(modified_sentences[i:i+2])\n",
        "        has_citation = bool(citation_regex.search(sentence_group))\n",
        "        if not has_citation:\n",
        "            return False\n",
        "        i += 2 if has_citation and i+1 < len(modified_sentences) and citation_regex.search(modified_sentences[i+1]) else 1\n",
        "      else:\n",
        "        return True\n",
        "    return True\n",
        "\n",
        "def has_citations(paragraph):\n",
        "    return bool(re.search(r'\\[\\d+\\]\\.', paragraph))\n",
        "\n",
        "def citations_check(paragraph):\n",
        "    return has_citations(paragraph) and correct_citation_format(paragraph)"
      ]
    },
    {
      "cell_type": "markdown",
      "metadata": {
        "id": "7-odXQWg5WWD"
      },
      "source": [
        "### Checking Citation Faithfulness\n",
        "\n",
        "We will create a number of useful metrics for our pipeline - included \"Faithfulness\", as well as a number of more traditional metrics. \""
      ]
    },
    {
      "cell_type": "code",
      "execution_count": 37,
      "metadata": {
        "id": "TU5Yx0gE5C1c"
      },
      "outputs": [],
      "source": [
        "class CheckCitationFaithfulness(dspy.Signature):\n",
        "    \"\"\"Verify that the text is based on the provided context.\"\"\"\n",
        "    context = dspy.InputField(desc=\"may contain relevant facts\")\n",
        "    text = dspy.InputField(desc=\"between 1 to 2 sentences\")\n",
        "    faithfulness = dspy.OutputField(desc=\"boolean indicating if text is faithful to context\")\n",
        "\n",
        "def citation_faithfulness(example, pred, trace):\n",
        "    paragraph, context = pred.paragraph, pred.context\n",
        "    citation_dict = extract_text_by_citation(paragraph)\n",
        "    if not citation_dict:\n",
        "        return False, None\n",
        "    context_dict = {str(i): context[i].split(' | ')[1] for i in range(len(context))}\n",
        "    faithfulness_results = []\n",
        "    unfaithful_citations = []\n",
        "    check_citation_faithfulness = dspy.ChainOfThought(CheckCitationFaithfulness)\n",
        "    for citation_num, texts in citation_dict.items():\n",
        "        if citation_num not in context_dict:\n",
        "            continue\n",
        "        current_context = context_dict[citation_num]\n",
        "        for text in texts:\n",
        "            try:\n",
        "                result = check_citation_faithfulness(context=current_context, text=text)\n",
        "                is_faithful = result.faithfulness.lower() == 'true'\n",
        "                faithfulness_results.append(is_faithful)\n",
        "                if not is_faithful:\n",
        "                    unfaithful_citations.append({'paragraph': paragraph, 'text': text, 'context': current_context})\n",
        "            except ValueError as e:\n",
        "                faithfulness_results.append(False)\n",
        "                unfaithful_citations.append({'paragraph': paragraph, 'text': text, 'error': str(e)})\n",
        "    final_faithfulness = all(faithfulness_results)\n",
        "    if not faithfulness_results:\n",
        "        return False, None\n",
        "    return final_faithfulness, unfaithful_citations"
      ]
    },
    {
      "cell_type": "markdown",
      "metadata": {
        "id": "dOinluoLDRXr"
      },
      "source": [
        "#### ❓Question #2:\n",
        "\n",
        "How is faithfulness being determined here? How is this different from Ragas Faithfulness."
      ]
    },
    {
      "cell_type": "markdown",
      "metadata": {},
      "source": [
        "In the provided code, faithfulness is determined by verifying if the text is based on the provided context using the CheckCitationFaithfulness class. Here’s a breakdown of how this is achieved:\n",
        "\n",
        " 1. Extract Citations: The citation_faithfulness function extracts citations from the paragraph using extract_text_by_citation(paragraph).\n",
        " 2. Context Mapping: It maps each citation number to its corresponding context.\n",
        " 3. Faithfulness Check: For each citation, it checks if the text is faithful to the context using the CheckCitationFaithfulness class. This class takes the context and text as inputs and outputs a boolean indicating faithfulness.\n",
        " 4. Result Compilation: The results are compiled into faithfulness_results and unfaithful_citations. If any citation is found unfaithful, it is recorded.\n",
        " 5. Final Determination: The overall faithfulness is determined by checking if all results in faithfulness_results are true.\n",
        "\n",
        "\n",
        "RAGAS (Retrieval-Augmented Generation and Summarization) faithfulness typically involves:\n",
        "\n",
        " 1. Retrieval-Augmented Generation: RAGAS uses retrieved documents to generate responses, ensuring that the generated text is grounded in the retrieved context.\n",
        " 2. Summarization: It often includes summarization tasks where the generated summary must be faithful to the source documents.\n",
        " 3. Evaluation Metrics: RAGAS may use different evaluation metrics such as ROUGE, BLEU, or human evaluations to determine faithfulness. <br>\n",
        " \n",
        "In contrast, the provided DSPy code focuses on a more direct and specific verification of text against a given context using a boolean output, rather than relying on retrieval and summarization metrics."
      ]
    },
    {
      "cell_type": "markdown",
      "metadata": {
        "id": "L1yA4kEbDbea"
      },
      "source": [
        "Next, we can create a number of useful metrics that rely on more traditional evaluations, like Precision, Recall, and \"does this contain the answer\"."
      ]
    },
    {
      "cell_type": "code",
      "execution_count": 38,
      "metadata": {
        "id": "Cimjr9Ji5yY5"
      },
      "outputs": [],
      "source": [
        "from dsp.utils import normalize_text\n",
        "\n",
        "def extract_cited_titles_from_paragraph(paragraph, context):\n",
        "    cited_indices = [int(m.group(1)) for m in re.finditer(r'\\[(\\d+)\\]\\.', paragraph)]\n",
        "    cited_indices = [index - 1 for index in cited_indices if index <= len(context)]\n",
        "    cited_titles = [context[index].split(' | ')[0] for index in cited_indices]\n",
        "    return cited_titles\n",
        "\n",
        "def calculate_recall(example, pred, trace=None):\n",
        "    gold_titles = set(example['gold_titles'])\n",
        "    found_cited_titles = set(extract_cited_titles_from_paragraph(pred.paragraph, pred.context))\n",
        "    intersection = gold_titles.intersection(found_cited_titles)\n",
        "    recall = len(intersection) / len(gold_titles) if gold_titles else 0\n",
        "    return recall\n",
        "\n",
        "def calculate_precision(example, pred, trace=None):\n",
        "    gold_titles = set(example['gold_titles'])\n",
        "    found_cited_titles = set(extract_cited_titles_from_paragraph(pred.paragraph, pred.context))\n",
        "    intersection = gold_titles.intersection(found_cited_titles)\n",
        "    precision = len(intersection) / len(found_cited_titles) if found_cited_titles else 0\n",
        "    return precision\n",
        "\n",
        "def answer_correctness(example, pred, trace=None):\n",
        "    assert hasattr(example, 'answer'), \"Example does not have 'answer'.\"\n",
        "    normalized_context = normalize_text(pred.paragraph)\n",
        "    if isinstance(example.answer, str):\n",
        "        gold_answers = [example.answer]\n",
        "    elif isinstance(example.answer, list):\n",
        "        gold_answers = example.answer\n",
        "    else:\n",
        "        raise ValueError(\"'example.answer' is not string or list.\")\n",
        "    return 1 if any(normalize_text(answer) in normalized_context for answer in gold_answers) else 0"
      ]
    },
    {
      "cell_type": "markdown",
      "metadata": {
        "id": "aDdr3nY1D4Rb"
      },
      "source": [
        "### Creating the Evaluation Function\n",
        "\n",
        "In essence, all this function does is call all the created metrics above and sum/average them."
      ]
    },
    {
      "cell_type": "code",
      "execution_count": 39,
      "metadata": {
        "id": "yiLjsf5050j9"
      },
      "outputs": [],
      "source": [
        "from tqdm import tqdm\n",
        "\n",
        "def evaluate(module):\n",
        "    correctness_values = []\n",
        "    recall_values = []\n",
        "    precision_values = []\n",
        "    citation_faithfulness_values = []\n",
        "    for i in tqdm(range(len(devset[:20]))):\n",
        "        example = devset[i]\n",
        "        try:\n",
        "            pred = module(question=example.question)\n",
        "            correctness_values.append(answer_correctness(example, pred))\n",
        "            citation_faithfulness_score, _ = citation_faithfulness(None, pred, None)\n",
        "            citation_faithfulness_values.append(citation_faithfulness_score)\n",
        "            recall = calculate_recall(example, pred)\n",
        "            precision = calculate_precision(example, pred)\n",
        "            recall_values.append(recall)\n",
        "            precision_values.append(precision)\n",
        "        except Exception as e:\n",
        "            print(f\"Failed generation with error: {e}\")\n",
        "\n",
        "    average_correctness = sum(correctness_values) / len(devset[:20]) if correctness_values else 0\n",
        "    average_recall = sum(recall_values) / len(devset[:20]) if recall_values else 0\n",
        "    average_precision = sum(precision_values) / len(devset[:20]) if precision_values else 0\n",
        "    average_citation_faithfulness = sum(citation_faithfulness_values) / len(devset[:20]) if citation_faithfulness_values else 0\n",
        "\n",
        "    print(f\"\\nAverage Correctness: {average_correctness}\")\n",
        "    print(f\"Average Recall: {average_recall}\")\n",
        "    print(f\"Average Precision: {average_precision}\")\n",
        "    print(f\"Average Citation Faithfulness: {average_citation_faithfulness}\")"
      ]
    },
    {
      "cell_type": "markdown",
      "metadata": {
        "id": "e9hqGVpaEXOi"
      },
      "source": [
        "### Evaluating our LongFormQA Module\n",
        "\n",
        "Finally, we can evaluate our module!"
      ]
    },
    {
      "cell_type": "code",
      "execution_count": 40,
      "metadata": {
        "colab": {
          "base_uri": "https://localhost:8080/"
        },
        "id": "kuHF8UQo52Qu",
        "outputId": "f73b8140-c974-4626-8079-62631330af64"
      },
      "outputs": [
        {
          "name": "stderr",
          "output_type": "stream",
          "text": [
            "100%|██████████| 20/20 [02:19<00:00,  6.97s/it]"
          ]
        },
        {
          "name": "stdout",
          "output_type": "stream",
          "text": [
            "\n",
            "Average Correctness: 0.7\n",
            "Average Recall: 0.0\n",
            "Average Precision: 0.0\n",
            "Average Citation Faithfulness: 0.0\n"
          ]
        },
        {
          "name": "stderr",
          "output_type": "stream",
          "text": [
            "\n"
          ]
        }
      ],
      "source": [
        "longformqa = LongFormQA()\n",
        "evaluate(longformqa)"
      ]
    },
    {
      "cell_type": "markdown",
      "metadata": {
        "id": "U3TKIZrGEh8p"
      },
      "source": [
        "This did surprisingly poorly on `Recall`, `Precision` and `Citation Faithfulness`."
      ]
    },
    {
      "cell_type": "markdown",
      "metadata": {
        "id": "_BMGNZSeEpfe"
      },
      "source": [
        "❓Question #3:\n",
        "\n",
        "Why did our `Module` do surprisingly poorly on `Recall`, `Precision` and `Citation Faithfulness`?\n",
        "\n",
        "> HINT: The name `LongFormQA` should provide a fairly big hint."
      ]
    },
    {
      "cell_type": "markdown",
      "metadata": {},
      "source": [
        "The retrieve function retrieves a fixed number of passages (passages_per_hop). If these passages are not relevant or informative, the context built over multiple hops will be weak, affecting the overall performance. Likewise, the max_hops parameter is set to 2, which might be insufficient for complex questions that require deeper context exploration. Increasing the number of hops could potentially improve the retrieval of relevant information."
      ]
    },
    {
      "cell_type": "markdown",
      "metadata": {
        "id": "iX3rawv5E3xe"
      },
      "source": [
        "## Task 5: Adding `Assertions`.\n",
        "\n",
        "DSPy comes equipped with an extremely useful feature called `Assertions` and `Suggestions`.\n",
        "\n",
        "Let's take a look at what each one does:\n",
        "\n",
        "1. `dspy.Assert` - this is a hard rule that must be followed, and if it's not followed; an exception will be raised.\n",
        "2. `dspy.Suggest` - this is a looser rule, or guiding principle, it will not raise an exception if the rule isn't met; but it will try and ensure the suggestion is met.\n",
        "\n",
        "Let's improve our `Module` with some `dspy.Suggest`s!\n"
      ]
    },
    {
      "cell_type": "code",
      "execution_count": 41,
      "metadata": {
        "id": "yAHRD9pm7Paa"
      },
      "outputs": [],
      "source": [
        "class LongFormQAWithAssertions(dspy.Module):\n",
        "    def __init__(self, passages_per_hop=3, max_hops=2):\n",
        "        super().__init__()\n",
        "        self.generate_query = [dspy.ChainOfThought(GenerateSearchQuery) for _ in range(max_hops)]\n",
        "        self.retrieve = dspy.Retrieve(k=passages_per_hop)\n",
        "        self.generate_cited_paragraph = dspy.ChainOfThought(GenerateCitedParagraph)\n",
        "        self.max_hops = max_hops\n",
        "\n",
        "    def forward(self, question):\n",
        "        context = []\n",
        "        for hop in range(self.max_hops):\n",
        "            query = self.generate_query[hop](context=context, question=question).query\n",
        "            passages = self.retrieve(query).passages\n",
        "            context = deduplicate(context + passages)\n",
        "        pred = self.generate_cited_paragraph(context=context, question=question)\n",
        "        pred = dspy.Prediction(context=context, paragraph=pred.paragraph)\n",
        "        dspy.Suggest(citations_check(pred.paragraph), \"Make sure every 1-2 sentences has citations. If any 1-2 sentences lack citations, add them in 'text... [x].' format.\", target_module=self.generate_cited_paragraph)\n",
        "        _, unfaithful_outputs = citation_faithfulness(None, pred, None)\n",
        "        if unfaithful_outputs:\n",
        "            unfaithful_pairs = [(output['text'], output['context']) for output in unfaithful_outputs]\n",
        "            for _, context in unfaithful_pairs:\n",
        "                dspy.Suggest(len(unfaithful_pairs) == 0, f\"Make sure your output is based on the following context: '{context}'.\", target_module=self.generate_cited_paragraph)\n",
        "        else:\n",
        "            return pred\n",
        "        return pred"
      ]
    },
    {
      "cell_type": "markdown",
      "metadata": {
        "id": "qsnkEzZ_9Lkc"
      },
      "source": [
        "#### 🏗️ Activity #2:\n",
        "\n",
        "Write out the above flow in natural language or using a drawing program.\n",
        "\n",
        "What is the key advantage provided by using `dspy.Suggest`?"
      ]
    },
    {
      "cell_type": "markdown",
      "metadata": {},
      "source": [
        "The given code defines a natural language processing (NLP) flow for a long-form question-answering system that aims to generate informative responses with adequate citations. \n",
        "\n",
        " 1. The LongFormQAWithAssertions module is designed to answer a question based on information retrieved from multiple sources, using multiple hops (iterations) to gather comprehensive evidence.<br>\n",
        " <br>\n",
        " 2. The module starts by initializing components for generating queries, retrieving passages, and generating paragraphs with citations.<br>\n",
        " <br>\n",
        " 3. For each \"hop\" (up to max_hops), the process is as follows:\n",
        "    - A query is generated based on the question and the current context using a \"Chain of Thought\" approach.\n",
        "    - Relevant passages are then retrieved using this query.\n",
        "    - These new passages are added to the existing context, and any duplicates are removed.\n",
        " 4. After gathering enough contextual information through multiple hops, a cited paragraph is generated as the answer.<br>\n",
        " <br>\n",
        " 5. The system makes a suggestion to ensure each 1-2 sentence part of the paragraph is cited properly. This suggestion is aimed at improving the output by ensuring the generation module (generate_cited_paragraph) is meeting citation requirements.<br>\n",
        " <br>\n",
        " 6. The system then checks if the citations are faithful—meaning the citations accurately reflect the information in the retrieved passages.\n",
        "    - If unfaithful outputs are found, suggestions are made to ensure the generated paragraph accurately reflects the supporting context.\n",
        " 7. Finally, the prediction, which contains the generated paragraph and the context, is returned.<br>\n",
        "<br>\n",
        "\n",
        "**Advantages of Using dspy.Suggest**<br>\n",
        "The use of dspy.Suggest has several advantages in this process:\n",
        "\n",
        " - Dynamic Feedback and Correction: dspy.Suggest allows for dynamic feedback to improve the output of the modules in real-time. It acts like an internal coach, pointing out issues and suggesting improvements, such as ensuring proper citation or alignment with the context.\n",
        " - Better Quality Control: By providing targeted suggestions, the Suggest mechanism helps maintain the quality and accuracy of the generated content. It makes sure that each output adheres to certain standards, like proper citations and faithfulness to the source material.\n",
        " - Modular Adjustments: Using Suggest allows fine-tuning of specific components (generate_cited_paragraph) without needing a complete overhaul. The suggestions are targeted at specific modules, allowing more focused improvements.\n",
        " - Reduced Post-Processing: Since suggestions guide the model during generation, it reduces the need for heavy post-processing or human intervention to correct inaccuracies or citation gaps.\n",
        "\n",
        "\n",
        "\n",
        "\n",
        "\n"
      ]
    },
    {
      "cell_type": "code",
      "execution_count": 44,
      "metadata": {
        "colab": {
          "base_uri": "https://localhost:8080/"
        },
        "id": "WBzJTpvq7RXW",
        "outputId": "58f93d76-ad65-4a91-8942-b259a485efba"
      },
      "outputs": [
        {
          "name": "stderr",
          "output_type": "stream",
          "text": [
            "[nltk_data] Downloading package punkt_tab to /root/nltk_data...\n",
            "[nltk_data]   Unzipping tokenizers/punkt_tab.zip.\n",
            "\n",
            "  0%|          | 0/20 [00:00<?, ?it/s]\u001b[A\n",
            " 10%|█         | 2/20 [00:03<00:31,  1.73s/it]\u001b[A\n",
            " 20%|██        | 4/20 [00:14<01:02,  3.88s/it]\u001b[A\n",
            " 25%|██▌       | 5/20 [00:17<00:55,  3.72s/it]\u001b[A\n",
            " 35%|███▌      | 7/20 [00:20<00:33,  2.57s/it]\u001b[A\n",
            " 50%|█████     | 10/20 [00:22<00:17,  1.70s/it]\u001b[A\n",
            " 55%|█████▌    | 11/20 [00:27<00:20,  2.27s/it]\u001b[A\n",
            " 60%|██████    | 12/20 [00:29<00:18,  2.33s/it]\u001b[A\n",
            " 70%|███████   | 14/20 [00:31<00:10,  1.81s/it]\u001b[A\n",
            " 80%|████████  | 16/20 [00:44<00:13,  3.43s/it]\u001b[A\n",
            " 85%|████████▌ | 17/20 [00:51<00:12,  4.24s/it]\u001b[A\n",
            " 95%|█████████▌| 19/20 [01:05<00:05,  5.14s/it]\u001b[A\n",
            "100%|██████████| 20/20 [01:15<00:00,  3.77s/it]"
          ]
        },
        {
          "name": "stdout",
          "output_type": "stream",
          "text": [
            "\n",
            "Average Correctness: 0.75\n",
            "Average Recall: 0.4\n",
            "Average Precision: 0.425\n",
            "Average Citation Faithfulness: 0.35\n"
          ]
        },
        {
          "name": "stderr",
          "output_type": "stream",
          "text": [
            "\n"
          ]
        }
      ],
      "source": [
        "import nltk\n",
        "nltk.download('punkt_tab')\n",
        "from dspy.primitives.assertions import assert_transform_module, backtrack_handler\n",
        "from dspy.predict import Retry\n",
        "\n",
        "longformqa_with_assertions = assert_transform_module(LongFormQAWithAssertions().map_named_predictors(Retry), backtrack_handler)\n",
        "evaluate(longformqa_with_assertions)"
      ]
    },
    {
      "cell_type": "code",
      "execution_count": 45,
      "metadata": {
        "colab": {
          "base_uri": "https://localhost:8080/"
        },
        "id": "6I8qm_Oq8bUo",
        "outputId": "91f5daa8-b283-4404-afba-4f472033a555"
      },
      "outputs": [
        {
          "name": "stdout",
          "output_type": "stream",
          "text": [
            "Going to sample between 1 and 2 traces per predictor.\n",
            "Will attempt to bootstrap 6 candidate sets.\n"
          ]
        },
        {
          "name": "stderr",
          "output_type": "stream",
          "text": [
            "Average Metric: 19 / 25  (76.0): 100%|██████████| 25/25 [00:23<00:00,  1.07it/s]\n"
          ]
        },
        {
          "name": "stdout",
          "output_type": "stream",
          "text": [
            "New best score: 76.0 for seed -3\n",
            "Scores so far: [76.0]\n",
            "Best score so far: 76.0\n"
          ]
        },
        {
          "name": "stderr",
          "output_type": "stream",
          "text": [
            "Average Metric: 19 / 25  (76.0): 100%|██████████| 25/25 [00:00<00:00, 138.68it/s]\n"
          ]
        },
        {
          "name": "stdout",
          "output_type": "stream",
          "text": [
            "Scores so far: [76.0, 76.0]\n",
            "Best score so far: 76.0\n"
          ]
        },
        {
          "name": "stderr",
          "output_type": "stream",
          "text": [
            " 20%|██        | 4/20 [00:58<03:54, 14.66s/it]\n"
          ]
        },
        {
          "name": "stdout",
          "output_type": "stream",
          "text": [
            "Bootstrapped 2 full traces after 5 examples in round 0.\n"
          ]
        },
        {
          "name": "stderr",
          "output_type": "stream",
          "text": [
            "Average Metric: 21 / 25  (84.0): 100%|██████████| 25/25 [06:31<00:00, 15.67s/it]\n"
          ]
        },
        {
          "name": "stdout",
          "output_type": "stream",
          "text": [
            "New best score: 84.0 for seed -1\n",
            "Scores so far: [76.0, 76.0, 84.0]\n",
            "Best score so far: 84.0\n"
          ]
        },
        {
          "name": "stderr",
          "output_type": "stream",
          "text": [
            " 10%|█         | 2/20 [00:32<04:48, 16.02s/it]\n"
          ]
        },
        {
          "name": "stdout",
          "output_type": "stream",
          "text": [
            "Bootstrapped 2 full traces after 3 examples in round 0.\n"
          ]
        },
        {
          "name": "stderr",
          "output_type": "stream",
          "text": [
            "Average Metric: 20 / 25  (80.0): 100%|██████████| 25/25 [05:45<00:00, 13.81s/it]\n"
          ]
        },
        {
          "name": "stdout",
          "output_type": "stream",
          "text": [
            "Scores so far: [76.0, 76.0, 84.0, 80.0]\n",
            "Best score so far: 84.0\n"
          ]
        },
        {
          "name": "stderr",
          "output_type": "stream",
          "text": [
            "  5%|▌         | 1/20 [00:14<04:34, 14.44s/it]\n"
          ]
        },
        {
          "name": "stdout",
          "output_type": "stream",
          "text": [
            "Bootstrapped 1 full traces after 2 examples in round 0.\n"
          ]
        },
        {
          "name": "stderr",
          "output_type": "stream",
          "text": [
            "Average Metric: 18 / 25  (72.0): 100%|██████████| 25/25 [06:41<00:00, 16.05s/it]\n"
          ]
        },
        {
          "name": "stdout",
          "output_type": "stream",
          "text": [
            "Scores so far: [76.0, 76.0, 84.0, 80.0, 72.0]\n",
            "Best score so far: 84.0\n"
          ]
        },
        {
          "name": "stderr",
          "output_type": "stream",
          "text": [
            "  5%|▌         | 1/20 [00:23<07:22, 23.28s/it]\n"
          ]
        },
        {
          "name": "stdout",
          "output_type": "stream",
          "text": [
            "Bootstrapped 1 full traces after 2 examples in round 0.\n"
          ]
        },
        {
          "name": "stderr",
          "output_type": "stream",
          "text": [
            "Average Metric: 19 / 25  (76.0): 100%|██████████| 25/25 [06:47<00:00, 16.29s/it]\n"
          ]
        },
        {
          "name": "stdout",
          "output_type": "stream",
          "text": [
            "Scores so far: [76.0, 76.0, 84.0, 80.0, 72.0, 76.0]\n",
            "Best score so far: 84.0\n"
          ]
        },
        {
          "name": "stderr",
          "output_type": "stream",
          "text": [
            " 10%|█         | 2/20 [00:14<02:09,  7.19s/it]\n"
          ]
        },
        {
          "name": "stdout",
          "output_type": "stream",
          "text": [
            "Bootstrapped 1 full traces after 3 examples in round 0.\n"
          ]
        },
        {
          "name": "stderr",
          "output_type": "stream",
          "text": [
            "Average Metric: 19 / 25  (76.0): 100%|██████████| 25/25 [05:43<00:00, 13.73s/it]\n"
          ]
        },
        {
          "name": "stdout",
          "output_type": "stream",
          "text": [
            "Scores so far: [76.0, 76.0, 84.0, 80.0, 72.0, 76.0, 76.0]\n",
            "Best score so far: 84.0\n"
          ]
        },
        {
          "name": "stderr",
          "output_type": "stream",
          "text": [
            "  5%|▌         | 1/20 [00:22<07:06, 22.44s/it]\n"
          ]
        },
        {
          "name": "stdout",
          "output_type": "stream",
          "text": [
            "Bootstrapped 1 full traces after 2 examples in round 0.\n"
          ]
        },
        {
          "name": "stderr",
          "output_type": "stream",
          "text": [
            "Average Metric: 21 / 25  (84.0): 100%|██████████| 25/25 [06:37<00:00, 15.89s/it]\n"
          ]
        },
        {
          "name": "stdout",
          "output_type": "stream",
          "text": [
            "Scores so far: [76.0, 76.0, 84.0, 80.0, 72.0, 76.0, 76.0, 84.0]\n",
            "Best score so far: 84.0\n"
          ]
        },
        {
          "name": "stderr",
          "output_type": "stream",
          "text": [
            " 15%|█▌        | 3/20 [01:00<05:44, 20.28s/it]\n"
          ]
        },
        {
          "name": "stdout",
          "output_type": "stream",
          "text": [
            "Bootstrapped 2 full traces after 4 examples in round 0.\n"
          ]
        },
        {
          "name": "stderr",
          "output_type": "stream",
          "text": [
            "Average Metric: 21 / 25  (84.0): 100%|██████████| 25/25 [07:20<00:00, 17.62s/it]\n"
          ]
        },
        {
          "name": "stdout",
          "output_type": "stream",
          "text": [
            "Scores so far: [76.0, 76.0, 84.0, 80.0, 72.0, 76.0, 76.0, 84.0, 84.0]\n",
            "Best score so far: 84.0\n",
            "9 candidate programs found.\n"
          ]
        },
        {
          "name": "stderr",
          "output_type": "stream",
          "text": [
            "100%|██████████| 20/20 [00:00<00:00, 108.12it/s]"
          ]
        },
        {
          "name": "stdout",
          "output_type": "stream",
          "text": [
            "\n",
            "Average Correctness: 0.85\n",
            "Average Recall: 0.4\n",
            "Average Precision: 0.725\n",
            "Average Citation Faithfulness: 0.55\n"
          ]
        },
        {
          "name": "stderr",
          "output_type": "stream",
          "text": [
            "\n"
          ]
        }
      ],
      "source": [
        "from dspy.teleprompt import BootstrapFewShotWithRandomSearch\n",
        "\n",
        "longformqa = LongFormQAWithAssertions()\n",
        "teleprompter = BootstrapFewShotWithRandomSearch(metric = answer_correctness, max_bootstrapped_demos=2, num_candidate_programs=6)\n",
        "cited_longformqa_student_teacher = teleprompter.compile(student=assert_transform_module(LongFormQAWithAssertions().map_named_predictors(Retry), backtrack_handler), teacher = assert_transform_module(LongFormQAWithAssertions().map_named_predictors(Retry), backtrack_handler), trainset=trainset, valset=devset[:25])\n",
        "evaluate(cited_longformqa_student_teacher)"
      ]
    }
  ],
  "metadata": {
    "accelerator": "GPU",
    "colab": {
      "collapsed_sections": [
        "KbQ26BmM5M-a"
      ],
      "gpuType": "T4",
      "provenance": [],
      "toc_visible": true
    },
    "kernelspec": {
      "display_name": "Python 3",
      "name": "python3"
    },
    "language_info": {
      "codemirror_mode": {
        "name": "ipython",
        "version": 3
      },
      "file_extension": ".py",
      "mimetype": "text/x-python",
      "name": "python",
      "nbconvert_exporter": "python",
      "pygments_lexer": "ipython3",
      "version": "3.11.9"
    },
    "widgets": {
      "application/vnd.jupyter.widget-state+json": {
        "0370b64765054972b6f5c775abd3263a": {
          "model_module": "@jupyter-widgets/controls",
          "model_module_version": "1.5.0",
          "model_name": "FloatProgressModel",
          "state": {
            "_dom_classes": [],
            "_model_module": "@jupyter-widgets/controls",
            "_model_module_version": "1.5.0",
            "_model_name": "FloatProgressModel",
            "_view_count": null,
            "_view_module": "@jupyter-widgets/controls",
            "_view_module_version": "1.5.0",
            "_view_name": "ProgressView",
            "bar_style": "success",
            "description": "",
            "description_tooltip": null,
            "layout": "IPY_MODEL_1940d9b994944d03893c1d6072b3c8bc",
            "max": 7405,
            "min": 0,
            "orientation": "horizontal",
            "style": "IPY_MODEL_429cff2706094e58857314370c583a38",
            "value": 7405
          }
        },
        "05cc1fd7118c45869d5c57eea80784d9": {
          "model_module": "@jupyter-widgets/controls",
          "model_module_version": "1.5.0",
          "model_name": "DescriptionStyleModel",
          "state": {
            "_model_module": "@jupyter-widgets/controls",
            "_model_module_version": "1.5.0",
            "_model_name": "DescriptionStyleModel",
            "_view_count": null,
            "_view_module": "@jupyter-widgets/base",
            "_view_module_version": "1.2.0",
            "_view_name": "StyleView",
            "description_width": ""
          }
        },
        "061075864dc944f281c698892902945d": {
          "model_module": "@jupyter-widgets/controls",
          "model_module_version": "1.5.0",
          "model_name": "ProgressStyleModel",
          "state": {
            "_model_module": "@jupyter-widgets/controls",
            "_model_module_version": "1.5.0",
            "_model_name": "ProgressStyleModel",
            "_view_count": null,
            "_view_module": "@jupyter-widgets/base",
            "_view_module_version": "1.2.0",
            "_view_name": "StyleView",
            "bar_color": null,
            "description_width": ""
          }
        },
        "07bd6d93872f41308b23850359e4c9f4": {
          "model_module": "@jupyter-widgets/controls",
          "model_module_version": "1.5.0",
          "model_name": "HTMLModel",
          "state": {
            "_dom_classes": [],
            "_model_module": "@jupyter-widgets/controls",
            "_model_module_version": "1.5.0",
            "_model_name": "HTMLModel",
            "_view_count": null,
            "_view_module": "@jupyter-widgets/controls",
            "_view_module_version": "1.5.0",
            "_view_name": "HTMLView",
            "description": "",
            "description_tooltip": null,
            "layout": "IPY_MODEL_909c899ec23f457eb3f6d792fe96cc31",
            "placeholder": "​",
            "style": "IPY_MODEL_4cd1dbb1e7e44219b47648982d4a3bf6",
            "value": " 3.69k/3.69k [00:00&lt;00:00, 33.3kB/s]"
          }
        },
        "0f2993e987b6469db81991d27394f2a9": {
          "model_module": "@jupyter-widgets/controls",
          "model_module_version": "1.5.0",
          "model_name": "ProgressStyleModel",
          "state": {
            "_model_module": "@jupyter-widgets/controls",
            "_model_module_version": "1.5.0",
            "_model_name": "ProgressStyleModel",
            "_view_count": null,
            "_view_module": "@jupyter-widgets/base",
            "_view_module_version": "1.2.0",
            "_view_name": "StyleView",
            "bar_color": null,
            "description_width": ""
          }
        },
        "10b5792e7b61474a9af1baf1378a6310": {
          "model_module": "@jupyter-widgets/controls",
          "model_module_version": "1.5.0",
          "model_name": "ProgressStyleModel",
          "state": {
            "_model_module": "@jupyter-widgets/controls",
            "_model_module_version": "1.5.0",
            "_model_name": "ProgressStyleModel",
            "_view_count": null,
            "_view_module": "@jupyter-widgets/base",
            "_view_module_version": "1.2.0",
            "_view_name": "StyleView",
            "bar_color": null,
            "description_width": ""
          }
        },
        "1940d9b994944d03893c1d6072b3c8bc": {
          "model_module": "@jupyter-widgets/base",
          "model_module_version": "1.2.0",
          "model_name": "LayoutModel",
          "state": {
            "_model_module": "@jupyter-widgets/base",
            "_model_module_version": "1.2.0",
            "_model_name": "LayoutModel",
            "_view_count": null,
            "_view_module": "@jupyter-widgets/base",
            "_view_module_version": "1.2.0",
            "_view_name": "LayoutView",
            "align_content": null,
            "align_items": null,
            "align_self": null,
            "border": null,
            "bottom": null,
            "display": null,
            "flex": null,
            "flex_flow": null,
            "grid_area": null,
            "grid_auto_columns": null,
            "grid_auto_flow": null,
            "grid_auto_rows": null,
            "grid_column": null,
            "grid_gap": null,
            "grid_row": null,
            "grid_template_areas": null,
            "grid_template_columns": null,
            "grid_template_rows": null,
            "height": null,
            "justify_content": null,
            "justify_items": null,
            "left": null,
            "margin": null,
            "max_height": null,
            "max_width": null,
            "min_height": null,
            "min_width": null,
            "object_fit": null,
            "object_position": null,
            "order": null,
            "overflow": null,
            "overflow_x": null,
            "overflow_y": null,
            "padding": null,
            "right": null,
            "top": null,
            "visibility": null,
            "width": null
          }
        },
        "1ebf9870dca543e8a1b7c95ad52f4df0": {
          "model_module": "@jupyter-widgets/base",
          "model_module_version": "1.2.0",
          "model_name": "LayoutModel",
          "state": {
            "_model_module": "@jupyter-widgets/base",
            "_model_module_version": "1.2.0",
            "_model_name": "LayoutModel",
            "_view_count": null,
            "_view_module": "@jupyter-widgets/base",
            "_view_module_version": "1.2.0",
            "_view_name": "LayoutView",
            "align_content": null,
            "align_items": null,
            "align_self": null,
            "border": null,
            "bottom": null,
            "display": null,
            "flex": null,
            "flex_flow": null,
            "grid_area": null,
            "grid_auto_columns": null,
            "grid_auto_flow": null,
            "grid_auto_rows": null,
            "grid_column": null,
            "grid_gap": null,
            "grid_row": null,
            "grid_template_areas": null,
            "grid_template_columns": null,
            "grid_template_rows": null,
            "height": null,
            "justify_content": null,
            "justify_items": null,
            "left": null,
            "margin": null,
            "max_height": null,
            "max_width": null,
            "min_height": null,
            "min_width": null,
            "object_fit": null,
            "object_position": null,
            "order": null,
            "overflow": null,
            "overflow_x": null,
            "overflow_y": null,
            "padding": null,
            "right": null,
            "top": null,
            "visibility": null,
            "width": null
          }
        },
        "20c86f356d2d4296a4989ba699775f0a": {
          "model_module": "@jupyter-widgets/base",
          "model_module_version": "1.2.0",
          "model_name": "LayoutModel",
          "state": {
            "_model_module": "@jupyter-widgets/base",
            "_model_module_version": "1.2.0",
            "_model_name": "LayoutModel",
            "_view_count": null,
            "_view_module": "@jupyter-widgets/base",
            "_view_module_version": "1.2.0",
            "_view_name": "LayoutView",
            "align_content": null,
            "align_items": null,
            "align_self": null,
            "border": null,
            "bottom": null,
            "display": null,
            "flex": null,
            "flex_flow": null,
            "grid_area": null,
            "grid_auto_columns": null,
            "grid_auto_flow": null,
            "grid_auto_rows": null,
            "grid_column": null,
            "grid_gap": null,
            "grid_row": null,
            "grid_template_areas": null,
            "grid_template_columns": null,
            "grid_template_rows": null,
            "height": null,
            "justify_content": null,
            "justify_items": null,
            "left": null,
            "margin": null,
            "max_height": null,
            "max_width": null,
            "min_height": null,
            "min_width": null,
            "object_fit": null,
            "object_position": null,
            "order": null,
            "overflow": null,
            "overflow_x": null,
            "overflow_y": null,
            "padding": null,
            "right": null,
            "top": null,
            "visibility": null,
            "width": null
          }
        },
        "249cb87239bd4808816f35c0b144d250": {
          "model_module": "@jupyter-widgets/base",
          "model_module_version": "1.2.0",
          "model_name": "LayoutModel",
          "state": {
            "_model_module": "@jupyter-widgets/base",
            "_model_module_version": "1.2.0",
            "_model_name": "LayoutModel",
            "_view_count": null,
            "_view_module": "@jupyter-widgets/base",
            "_view_module_version": "1.2.0",
            "_view_name": "LayoutView",
            "align_content": null,
            "align_items": null,
            "align_self": null,
            "border": null,
            "bottom": null,
            "display": null,
            "flex": null,
            "flex_flow": null,
            "grid_area": null,
            "grid_auto_columns": null,
            "grid_auto_flow": null,
            "grid_auto_rows": null,
            "grid_column": null,
            "grid_gap": null,
            "grid_row": null,
            "grid_template_areas": null,
            "grid_template_columns": null,
            "grid_template_rows": null,
            "height": null,
            "justify_content": null,
            "justify_items": null,
            "left": null,
            "margin": null,
            "max_height": null,
            "max_width": null,
            "min_height": null,
            "min_width": null,
            "object_fit": null,
            "object_position": null,
            "order": null,
            "overflow": null,
            "overflow_x": null,
            "overflow_y": null,
            "padding": null,
            "right": null,
            "top": null,
            "visibility": null,
            "width": null
          }
        },
        "24f68d16925346a9af7ec0b3070d7119": {
          "model_module": "@jupyter-widgets/controls",
          "model_module_version": "1.5.0",
          "model_name": "FloatProgressModel",
          "state": {
            "_dom_classes": [],
            "_model_module": "@jupyter-widgets/controls",
            "_model_module_version": "1.5.0",
            "_model_name": "FloatProgressModel",
            "_view_count": null,
            "_view_module": "@jupyter-widgets/controls",
            "_view_module_version": "1.5.0",
            "_view_name": "ProgressView",
            "bar_style": "success",
            "description": "",
            "description_tooltip": null,
            "layout": "IPY_MODEL_20c86f356d2d4296a4989ba699775f0a",
            "max": 3693,
            "min": 0,
            "orientation": "horizontal",
            "style": "IPY_MODEL_0f2993e987b6469db81991d27394f2a9",
            "value": 3693
          }
        },
        "263b5d1c62c943028f1477eaf5193dfe": {
          "model_module": "@jupyter-widgets/controls",
          "model_module_version": "1.5.0",
          "model_name": "DescriptionStyleModel",
          "state": {
            "_model_module": "@jupyter-widgets/controls",
            "_model_module_version": "1.5.0",
            "_model_name": "DescriptionStyleModel",
            "_view_count": null,
            "_view_module": "@jupyter-widgets/base",
            "_view_module_version": "1.2.0",
            "_view_name": "StyleView",
            "description_width": ""
          }
        },
        "29b099295b6b4ccfa32cbf16e6599998": {
          "model_module": "@jupyter-widgets/base",
          "model_module_version": "1.2.0",
          "model_name": "LayoutModel",
          "state": {
            "_model_module": "@jupyter-widgets/base",
            "_model_module_version": "1.2.0",
            "_model_name": "LayoutModel",
            "_view_count": null,
            "_view_module": "@jupyter-widgets/base",
            "_view_module_version": "1.2.0",
            "_view_name": "LayoutView",
            "align_content": null,
            "align_items": null,
            "align_self": null,
            "border": null,
            "bottom": null,
            "display": null,
            "flex": null,
            "flex_flow": null,
            "grid_area": null,
            "grid_auto_columns": null,
            "grid_auto_flow": null,
            "grid_auto_rows": null,
            "grid_column": null,
            "grid_gap": null,
            "grid_row": null,
            "grid_template_areas": null,
            "grid_template_columns": null,
            "grid_template_rows": null,
            "height": null,
            "justify_content": null,
            "justify_items": null,
            "left": null,
            "margin": null,
            "max_height": null,
            "max_width": null,
            "min_height": null,
            "min_width": null,
            "object_fit": null,
            "object_position": null,
            "order": null,
            "overflow": null,
            "overflow_x": null,
            "overflow_y": null,
            "padding": null,
            "right": null,
            "top": null,
            "visibility": null,
            "width": null
          }
        },
        "2c6e0c1a7bf9482686e4a6326acd2173": {
          "model_module": "@jupyter-widgets/controls",
          "model_module_version": "1.5.0",
          "model_name": "HTMLModel",
          "state": {
            "_dom_classes": [],
            "_model_module": "@jupyter-widgets/controls",
            "_model_module_version": "1.5.0",
            "_model_name": "HTMLModel",
            "_view_count": null,
            "_view_module": "@jupyter-widgets/controls",
            "_view_module_version": "1.5.0",
            "_view_name": "HTMLView",
            "description": "",
            "description_tooltip": null,
            "layout": "IPY_MODEL_249cb87239bd4808816f35c0b144d250",
            "placeholder": "​",
            "style": "IPY_MODEL_4e110ed07d43412b9a5647e28289038d",
            "value": "gen_z_sentences.csv: 100%"
          }
        },
        "2cd051510c014aada2515fbe636d2ff5": {
          "model_module": "@jupyter-widgets/controls",
          "model_module_version": "1.5.0",
          "model_name": "HTMLModel",
          "state": {
            "_dom_classes": [],
            "_model_module": "@jupyter-widgets/controls",
            "_model_module_version": "1.5.0",
            "_model_name": "HTMLModel",
            "_view_count": null,
            "_view_module": "@jupyter-widgets/controls",
            "_view_module_version": "1.5.0",
            "_view_name": "HTMLView",
            "description": "",
            "description_tooltip": null,
            "layout": "IPY_MODEL_c169906cd7ba4d3eba36e318b9bb76e2",
            "placeholder": "​",
            "style": "IPY_MODEL_05cc1fd7118c45869d5c57eea80784d9",
            "value": "Downloading data: 100%"
          }
        },
        "32c86f03f02e48318499418e5b7d587b": {
          "model_module": "@jupyter-widgets/base",
          "model_module_version": "1.2.0",
          "model_name": "LayoutModel",
          "state": {
            "_model_module": "@jupyter-widgets/base",
            "_model_module_version": "1.2.0",
            "_model_name": "LayoutModel",
            "_view_count": null,
            "_view_module": "@jupyter-widgets/base",
            "_view_module_version": "1.2.0",
            "_view_name": "LayoutView",
            "align_content": null,
            "align_items": null,
            "align_self": null,
            "border": null,
            "bottom": null,
            "display": null,
            "flex": null,
            "flex_flow": null,
            "grid_area": null,
            "grid_auto_columns": null,
            "grid_auto_flow": null,
            "grid_auto_rows": null,
            "grid_column": null,
            "grid_gap": null,
            "grid_row": null,
            "grid_template_areas": null,
            "grid_template_columns": null,
            "grid_template_rows": null,
            "height": null,
            "justify_content": null,
            "justify_items": null,
            "left": null,
            "margin": null,
            "max_height": null,
            "max_width": null,
            "min_height": null,
            "min_width": null,
            "object_fit": null,
            "object_position": null,
            "order": null,
            "overflow": null,
            "overflow_x": null,
            "overflow_y": null,
            "padding": null,
            "right": null,
            "top": null,
            "visibility": null,
            "width": null
          }
        },
        "32d5e0524ba340eab3b89dd21042309f": {
          "model_module": "@jupyter-widgets/controls",
          "model_module_version": "1.5.0",
          "model_name": "FloatProgressModel",
          "state": {
            "_dom_classes": [],
            "_model_module": "@jupyter-widgets/controls",
            "_model_module_version": "1.5.0",
            "_model_name": "FloatProgressModel",
            "_view_count": null,
            "_view_module": "@jupyter-widgets/controls",
            "_view_module_version": "1.5.0",
            "_view_name": "ProgressView",
            "bar_style": "success",
            "description": "",
            "description_tooltip": null,
            "layout": "IPY_MODEL_29b099295b6b4ccfa32cbf16e6599998",
            "max": 46213747,
            "min": 0,
            "orientation": "horizontal",
            "style": "IPY_MODEL_061075864dc944f281c698892902945d",
            "value": 46213747
          }
        },
        "33911f567f494f79ada691e949fa9ee9": {
          "model_module": "@jupyter-widgets/controls",
          "model_module_version": "1.5.0",
          "model_name": "HTMLModel",
          "state": {
            "_dom_classes": [],
            "_model_module": "@jupyter-widgets/controls",
            "_model_module_version": "1.5.0",
            "_model_name": "HTMLModel",
            "_view_count": null,
            "_view_module": "@jupyter-widgets/controls",
            "_view_module_version": "1.5.0",
            "_view_name": "HTMLView",
            "description": "",
            "description_tooltip": null,
            "layout": "IPY_MODEL_bf126cb4ef0d4f8e86484e2b917caeb4",
            "placeholder": "​",
            "style": "IPY_MODEL_4e07562d662f461694efd72af51b9241",
            "value": " 6.42k/6.42k [00:00&lt;00:00, 310kB/s]"
          }
        },
        "3391fc3fc4994f75810362b719221271": {
          "model_module": "@jupyter-widgets/controls",
          "model_module_version": "1.5.0",
          "model_name": "HBoxModel",
          "state": {
            "_dom_classes": [],
            "_model_module": "@jupyter-widgets/controls",
            "_model_module_version": "1.5.0",
            "_model_name": "HBoxModel",
            "_view_count": null,
            "_view_module": "@jupyter-widgets/controls",
            "_view_module_version": "1.5.0",
            "_view_name": "HBoxView",
            "box_style": "",
            "children": [
              "IPY_MODEL_c7348b248bc84a0eacb695e4951996eb",
              "IPY_MODEL_566d55b7680b42c0afac220335480326",
              "IPY_MODEL_dd4c32ed4e524436ab80903f719b6b5a"
            ],
            "layout": "IPY_MODEL_eb3a7a9c013d4f85926070146b284d33"
          }
        },
        "33a4ba1242bc4f9a8fef00840ab54f49": {
          "model_module": "@jupyter-widgets/controls",
          "model_module_version": "1.5.0",
          "model_name": "HTMLModel",
          "state": {
            "_dom_classes": [],
            "_model_module": "@jupyter-widgets/controls",
            "_model_module_version": "1.5.0",
            "_model_name": "HTMLModel",
            "_view_count": null,
            "_view_module": "@jupyter-widgets/controls",
            "_view_module_version": "1.5.0",
            "_view_name": "HTMLView",
            "description": "",
            "description_tooltip": null,
            "layout": "IPY_MODEL_ce137ed7b8124d8192124f5bab62a694",
            "placeholder": "​",
            "style": "IPY_MODEL_9667c31419c247a8a2ff48b93fbc6ddd",
            "value": " 7405/7405 [00:04&lt;00:00, 3002.36 examples/s]"
          }
        },
        "35510d2ef9cf492685297e3b2b153702": {
          "model_module": "@jupyter-widgets/controls",
          "model_module_version": "1.5.0",
          "model_name": "DescriptionStyleModel",
          "state": {
            "_model_module": "@jupyter-widgets/controls",
            "_model_module_version": "1.5.0",
            "_model_name": "DescriptionStyleModel",
            "_view_count": null,
            "_view_module": "@jupyter-widgets/base",
            "_view_module_version": "1.2.0",
            "_view_name": "StyleView",
            "description_width": ""
          }
        },
        "36b59ccb4ae74691b11c88a597b727ca": {
          "model_module": "@jupyter-widgets/controls",
          "model_module_version": "1.5.0",
          "model_name": "DescriptionStyleModel",
          "state": {
            "_model_module": "@jupyter-widgets/controls",
            "_model_module_version": "1.5.0",
            "_model_name": "DescriptionStyleModel",
            "_view_count": null,
            "_view_module": "@jupyter-widgets/base",
            "_view_module_version": "1.2.0",
            "_view_name": "StyleView",
            "description_width": ""
          }
        },
        "37ef49b3ba2e4b279865ce33a2e37a41": {
          "model_module": "@jupyter-widgets/controls",
          "model_module_version": "1.5.0",
          "model_name": "HBoxModel",
          "state": {
            "_dom_classes": [],
            "_model_module": "@jupyter-widgets/controls",
            "_model_module_version": "1.5.0",
            "_model_name": "HBoxModel",
            "_view_count": null,
            "_view_module": "@jupyter-widgets/controls",
            "_view_module_version": "1.5.0",
            "_view_name": "HBoxView",
            "box_style": "",
            "children": [
              "IPY_MODEL_e8ef56b2ad284593a28f10c524f227ec",
              "IPY_MODEL_9297eb22e5184902bb6eb41b8f8620eb",
              "IPY_MODEL_4748811d562b4cba925a0d52f388c1d0"
            ],
            "layout": "IPY_MODEL_5554dda83ed94dc598eb78106f3b8c05"
          }
        },
        "39727c25af214c19ae245f0e99e554e3": {
          "model_module": "@jupyter-widgets/controls",
          "model_module_version": "1.5.0",
          "model_name": "HBoxModel",
          "state": {
            "_dom_classes": [],
            "_model_module": "@jupyter-widgets/controls",
            "_model_module_version": "1.5.0",
            "_model_name": "HBoxModel",
            "_view_count": null,
            "_view_module": "@jupyter-widgets/controls",
            "_view_module_version": "1.5.0",
            "_view_name": "HBoxView",
            "box_style": "",
            "children": [
              "IPY_MODEL_af8de42ef17c487caf6a028ff6fce183",
              "IPY_MODEL_7eb191cd2d2b497c86b4ddcc67bc6e5a",
              "IPY_MODEL_ec6f7507004848449813861304997422"
            ],
            "layout": "IPY_MODEL_be45bc21a7eb4a89806a5116fdf0088f"
          }
        },
        "39c21fba163a458c8a7a6ea49eb701e2": {
          "model_module": "@jupyter-widgets/controls",
          "model_module_version": "1.5.0",
          "model_name": "ProgressStyleModel",
          "state": {
            "_model_module": "@jupyter-widgets/controls",
            "_model_module_version": "1.5.0",
            "_model_name": "ProgressStyleModel",
            "_view_count": null,
            "_view_module": "@jupyter-widgets/base",
            "_view_module_version": "1.2.0",
            "_view_name": "StyleView",
            "bar_color": null,
            "description_width": ""
          }
        },
        "3adadcaee7414368bc13a5c5dd5f6d86": {
          "model_module": "@jupyter-widgets/controls",
          "model_module_version": "1.5.0",
          "model_name": "HTMLModel",
          "state": {
            "_dom_classes": [],
            "_model_module": "@jupyter-widgets/controls",
            "_model_module_version": "1.5.0",
            "_model_name": "HTMLModel",
            "_view_count": null,
            "_view_module": "@jupyter-widgets/controls",
            "_view_module_version": "1.5.0",
            "_view_name": "HTMLView",
            "description": "",
            "description_tooltip": null,
            "layout": "IPY_MODEL_9910cff351304c09ae273fae1db8fcd0",
            "placeholder": "​",
            "style": "IPY_MODEL_36b59ccb4ae74691b11c88a597b727ca",
            "value": " 47.5M/47.5M [00:00&lt;00:00, 103MB/s]"
          }
        },
        "41196eee29454042a43a1b3b6c752c64": {
          "model_module": "@jupyter-widgets/base",
          "model_module_version": "1.2.0",
          "model_name": "LayoutModel",
          "state": {
            "_model_module": "@jupyter-widgets/base",
            "_model_module_version": "1.2.0",
            "_model_name": "LayoutModel",
            "_view_count": null,
            "_view_module": "@jupyter-widgets/base",
            "_view_module_version": "1.2.0",
            "_view_name": "LayoutView",
            "align_content": null,
            "align_items": null,
            "align_self": null,
            "border": null,
            "bottom": null,
            "display": null,
            "flex": null,
            "flex_flow": null,
            "grid_area": null,
            "grid_auto_columns": null,
            "grid_auto_flow": null,
            "grid_auto_rows": null,
            "grid_column": null,
            "grid_gap": null,
            "grid_row": null,
            "grid_template_areas": null,
            "grid_template_columns": null,
            "grid_template_rows": null,
            "height": null,
            "justify_content": null,
            "justify_items": null,
            "left": null,
            "margin": null,
            "max_height": null,
            "max_width": null,
            "min_height": null,
            "min_width": null,
            "object_fit": null,
            "object_position": null,
            "order": null,
            "overflow": null,
            "overflow_x": null,
            "overflow_y": null,
            "padding": null,
            "right": null,
            "top": null,
            "visibility": null,
            "width": null
          }
        },
        "429cff2706094e58857314370c583a38": {
          "model_module": "@jupyter-widgets/controls",
          "model_module_version": "1.5.0",
          "model_name": "ProgressStyleModel",
          "state": {
            "_model_module": "@jupyter-widgets/controls",
            "_model_module_version": "1.5.0",
            "_model_name": "ProgressStyleModel",
            "_view_count": null,
            "_view_module": "@jupyter-widgets/base",
            "_view_module_version": "1.2.0",
            "_view_name": "StyleView",
            "bar_color": null,
            "description_width": ""
          }
        },
        "42e71072d3034647b1796d5d1465b574": {
          "model_module": "@jupyter-widgets/controls",
          "model_module_version": "1.5.0",
          "model_name": "DescriptionStyleModel",
          "state": {
            "_model_module": "@jupyter-widgets/controls",
            "_model_module_version": "1.5.0",
            "_model_name": "DescriptionStyleModel",
            "_view_count": null,
            "_view_module": "@jupyter-widgets/base",
            "_view_module_version": "1.2.0",
            "_view_name": "StyleView",
            "description_width": ""
          }
        },
        "430c54b0ddb143a986c95ab4cdd217b4": {
          "model_module": "@jupyter-widgets/controls",
          "model_module_version": "1.5.0",
          "model_name": "FloatProgressModel",
          "state": {
            "_dom_classes": [],
            "_model_module": "@jupyter-widgets/controls",
            "_model_module_version": "1.5.0",
            "_model_name": "FloatProgressModel",
            "_view_count": null,
            "_view_module": "@jupyter-widgets/controls",
            "_view_module_version": "1.5.0",
            "_view_name": "ProgressView",
            "bar_style": "success",
            "description": "",
            "description_tooltip": null,
            "layout": "IPY_MODEL_aa82862af99d409498746f0d9a110d7c",
            "max": 99,
            "min": 0,
            "orientation": "horizontal",
            "style": "IPY_MODEL_dcc5b4851dcc49ee8bddcea28afefe1d",
            "value": 99
          }
        },
        "4748811d562b4cba925a0d52f388c1d0": {
          "model_module": "@jupyter-widgets/controls",
          "model_module_version": "1.5.0",
          "model_name": "HTMLModel",
          "state": {
            "_dom_classes": [],
            "_model_module": "@jupyter-widgets/controls",
            "_model_module_version": "1.5.0",
            "_model_name": "HTMLModel",
            "_view_count": null,
            "_view_module": "@jupyter-widgets/controls",
            "_view_module_version": "1.5.0",
            "_view_name": "HTMLView",
            "description": "",
            "description_tooltip": null,
            "layout": "IPY_MODEL_e1e27b69c98d44038ce9c1b32282198b",
            "placeholder": "​",
            "style": "IPY_MODEL_5b7fcbb5288849a698f8153bbc77b5c6",
            "value": " 9.19k/9.19k [00:00&lt;00:00, 587kB/s]"
          }
        },
        "4cd1dbb1e7e44219b47648982d4a3bf6": {
          "model_module": "@jupyter-widgets/controls",
          "model_module_version": "1.5.0",
          "model_name": "DescriptionStyleModel",
          "state": {
            "_model_module": "@jupyter-widgets/controls",
            "_model_module_version": "1.5.0",
            "_model_name": "DescriptionStyleModel",
            "_view_count": null,
            "_view_module": "@jupyter-widgets/base",
            "_view_module_version": "1.2.0",
            "_view_name": "StyleView",
            "description_width": ""
          }
        },
        "4e07562d662f461694efd72af51b9241": {
          "model_module": "@jupyter-widgets/controls",
          "model_module_version": "1.5.0",
          "model_name": "DescriptionStyleModel",
          "state": {
            "_model_module": "@jupyter-widgets/controls",
            "_model_module_version": "1.5.0",
            "_model_name": "DescriptionStyleModel",
            "_view_count": null,
            "_view_module": "@jupyter-widgets/base",
            "_view_module_version": "1.2.0",
            "_view_name": "StyleView",
            "description_width": ""
          }
        },
        "4e0def98b6b94929b0b5aff13905523d": {
          "model_module": "@jupyter-widgets/base",
          "model_module_version": "1.2.0",
          "model_name": "LayoutModel",
          "state": {
            "_model_module": "@jupyter-widgets/base",
            "_model_module_version": "1.2.0",
            "_model_name": "LayoutModel",
            "_view_count": null,
            "_view_module": "@jupyter-widgets/base",
            "_view_module_version": "1.2.0",
            "_view_name": "LayoutView",
            "align_content": null,
            "align_items": null,
            "align_self": null,
            "border": null,
            "bottom": null,
            "display": null,
            "flex": null,
            "flex_flow": null,
            "grid_area": null,
            "grid_auto_columns": null,
            "grid_auto_flow": null,
            "grid_auto_rows": null,
            "grid_column": null,
            "grid_gap": null,
            "grid_row": null,
            "grid_template_areas": null,
            "grid_template_columns": null,
            "grid_template_rows": null,
            "height": null,
            "justify_content": null,
            "justify_items": null,
            "left": null,
            "margin": null,
            "max_height": null,
            "max_width": null,
            "min_height": null,
            "min_width": null,
            "object_fit": null,
            "object_position": null,
            "order": null,
            "overflow": null,
            "overflow_x": null,
            "overflow_y": null,
            "padding": null,
            "right": null,
            "top": null,
            "visibility": null,
            "width": null
          }
        },
        "4e110ed07d43412b9a5647e28289038d": {
          "model_module": "@jupyter-widgets/controls",
          "model_module_version": "1.5.0",
          "model_name": "DescriptionStyleModel",
          "state": {
            "_model_module": "@jupyter-widgets/controls",
            "_model_module_version": "1.5.0",
            "_model_name": "DescriptionStyleModel",
            "_view_count": null,
            "_view_module": "@jupyter-widgets/base",
            "_view_module_version": "1.2.0",
            "_view_name": "StyleView",
            "description_width": ""
          }
        },
        "5199efca619147f3a76c64dddc1f4b50": {
          "model_module": "@jupyter-widgets/controls",
          "model_module_version": "1.5.0",
          "model_name": "HTMLModel",
          "state": {
            "_dom_classes": [],
            "_model_module": "@jupyter-widgets/controls",
            "_model_module_version": "1.5.0",
            "_model_name": "HTMLModel",
            "_view_count": null,
            "_view_module": "@jupyter-widgets/controls",
            "_view_module_version": "1.5.0",
            "_view_name": "HTMLView",
            "description": "",
            "description_tooltip": null,
            "layout": "IPY_MODEL_5bb3d848f0954f6698bb5da3893e1757",
            "placeholder": "​",
            "style": "IPY_MODEL_7842d48054844a2f962f78dbf10384bf",
            "value": "Generating test split: 100%"
          }
        },
        "5554dda83ed94dc598eb78106f3b8c05": {
          "model_module": "@jupyter-widgets/base",
          "model_module_version": "1.2.0",
          "model_name": "LayoutModel",
          "state": {
            "_model_module": "@jupyter-widgets/base",
            "_model_module_version": "1.2.0",
            "_model_name": "LayoutModel",
            "_view_count": null,
            "_view_module": "@jupyter-widgets/base",
            "_view_module_version": "1.2.0",
            "_view_name": "LayoutView",
            "align_content": null,
            "align_items": null,
            "align_self": null,
            "border": null,
            "bottom": null,
            "display": null,
            "flex": null,
            "flex_flow": null,
            "grid_area": null,
            "grid_auto_columns": null,
            "grid_auto_flow": null,
            "grid_auto_rows": null,
            "grid_column": null,
            "grid_gap": null,
            "grid_row": null,
            "grid_template_areas": null,
            "grid_template_columns": null,
            "grid_template_rows": null,
            "height": null,
            "justify_content": null,
            "justify_items": null,
            "left": null,
            "margin": null,
            "max_height": null,
            "max_width": null,
            "min_height": null,
            "min_width": null,
            "object_fit": null,
            "object_position": null,
            "order": null,
            "overflow": null,
            "overflow_x": null,
            "overflow_y": null,
            "padding": null,
            "right": null,
            "top": null,
            "visibility": null,
            "width": null
          }
        },
        "55728d1c6f1b4311b3e0cbb90b3aa171": {
          "model_module": "@jupyter-widgets/base",
          "model_module_version": "1.2.0",
          "model_name": "LayoutModel",
          "state": {
            "_model_module": "@jupyter-widgets/base",
            "_model_module_version": "1.2.0",
            "_model_name": "LayoutModel",
            "_view_count": null,
            "_view_module": "@jupyter-widgets/base",
            "_view_module_version": "1.2.0",
            "_view_name": "LayoutView",
            "align_content": null,
            "align_items": null,
            "align_self": null,
            "border": null,
            "bottom": null,
            "display": null,
            "flex": null,
            "flex_flow": null,
            "grid_area": null,
            "grid_auto_columns": null,
            "grid_auto_flow": null,
            "grid_auto_rows": null,
            "grid_column": null,
            "grid_gap": null,
            "grid_row": null,
            "grid_template_areas": null,
            "grid_template_columns": null,
            "grid_template_rows": null,
            "height": null,
            "justify_content": null,
            "justify_items": null,
            "left": null,
            "margin": null,
            "max_height": null,
            "max_width": null,
            "min_height": null,
            "min_width": null,
            "object_fit": null,
            "object_position": null,
            "order": null,
            "overflow": null,
            "overflow_x": null,
            "overflow_y": null,
            "padding": null,
            "right": null,
            "top": null,
            "visibility": null,
            "width": null
          }
        },
        "566d55b7680b42c0afac220335480326": {
          "model_module": "@jupyter-widgets/controls",
          "model_module_version": "1.5.0",
          "model_name": "FloatProgressModel",
          "state": {
            "_dom_classes": [],
            "_model_module": "@jupyter-widgets/controls",
            "_model_module_version": "1.5.0",
            "_model_name": "FloatProgressModel",
            "_view_count": null,
            "_view_module": "@jupyter-widgets/controls",
            "_view_module_version": "1.5.0",
            "_view_name": "ProgressView",
            "bar_style": "success",
            "description": "",
            "description_tooltip": null,
            "layout": "IPY_MODEL_76c2316cd65c44c69bfe32f80192645b",
            "max": 90447,
            "min": 0,
            "orientation": "horizontal",
            "style": "IPY_MODEL_d032cddb97fc47e18c78417af2c00b67",
            "value": 90447
          }
        },
        "599f42a562e34f96a7ce793154608ff6": {
          "model_module": "@jupyter-widgets/base",
          "model_module_version": "1.2.0",
          "model_name": "LayoutModel",
          "state": {
            "_model_module": "@jupyter-widgets/base",
            "_model_module_version": "1.2.0",
            "_model_name": "LayoutModel",
            "_view_count": null,
            "_view_module": "@jupyter-widgets/base",
            "_view_module_version": "1.2.0",
            "_view_name": "LayoutView",
            "align_content": null,
            "align_items": null,
            "align_self": null,
            "border": null,
            "bottom": null,
            "display": null,
            "flex": null,
            "flex_flow": null,
            "grid_area": null,
            "grid_auto_columns": null,
            "grid_auto_flow": null,
            "grid_auto_rows": null,
            "grid_column": null,
            "grid_gap": null,
            "grid_row": null,
            "grid_template_areas": null,
            "grid_template_columns": null,
            "grid_template_rows": null,
            "height": null,
            "justify_content": null,
            "justify_items": null,
            "left": null,
            "margin": null,
            "max_height": null,
            "max_width": null,
            "min_height": null,
            "min_width": null,
            "object_fit": null,
            "object_position": null,
            "order": null,
            "overflow": null,
            "overflow_x": null,
            "overflow_y": null,
            "padding": null,
            "right": null,
            "top": null,
            "visibility": null,
            "width": null
          }
        },
        "5b7fcbb5288849a698f8153bbc77b5c6": {
          "model_module": "@jupyter-widgets/controls",
          "model_module_version": "1.5.0",
          "model_name": "DescriptionStyleModel",
          "state": {
            "_model_module": "@jupyter-widgets/controls",
            "_model_module_version": "1.5.0",
            "_model_name": "DescriptionStyleModel",
            "_view_count": null,
            "_view_module": "@jupyter-widgets/base",
            "_view_module_version": "1.2.0",
            "_view_name": "StyleView",
            "description_width": ""
          }
        },
        "5bb3d848f0954f6698bb5da3893e1757": {
          "model_module": "@jupyter-widgets/base",
          "model_module_version": "1.2.0",
          "model_name": "LayoutModel",
          "state": {
            "_model_module": "@jupyter-widgets/base",
            "_model_module_version": "1.2.0",
            "_model_name": "LayoutModel",
            "_view_count": null,
            "_view_module": "@jupyter-widgets/base",
            "_view_module_version": "1.2.0",
            "_view_name": "LayoutView",
            "align_content": null,
            "align_items": null,
            "align_self": null,
            "border": null,
            "bottom": null,
            "display": null,
            "flex": null,
            "flex_flow": null,
            "grid_area": null,
            "grid_auto_columns": null,
            "grid_auto_flow": null,
            "grid_auto_rows": null,
            "grid_column": null,
            "grid_gap": null,
            "grid_row": null,
            "grid_template_areas": null,
            "grid_template_columns": null,
            "grid_template_rows": null,
            "height": null,
            "justify_content": null,
            "justify_items": null,
            "left": null,
            "margin": null,
            "max_height": null,
            "max_width": null,
            "min_height": null,
            "min_width": null,
            "object_fit": null,
            "object_position": null,
            "order": null,
            "overflow": null,
            "overflow_x": null,
            "overflow_y": null,
            "padding": null,
            "right": null,
            "top": null,
            "visibility": null,
            "width": null
          }
        },
        "5d8eabb731d64977989470427b11c885": {
          "model_module": "@jupyter-widgets/controls",
          "model_module_version": "1.5.0",
          "model_name": "HTMLModel",
          "state": {
            "_dom_classes": [],
            "_model_module": "@jupyter-widgets/controls",
            "_model_module_version": "1.5.0",
            "_model_name": "HTMLModel",
            "_view_count": null,
            "_view_module": "@jupyter-widgets/controls",
            "_view_module_version": "1.5.0",
            "_view_name": "HTMLView",
            "description": "",
            "description_tooltip": null,
            "layout": "IPY_MODEL_4e0def98b6b94929b0b5aff13905523d",
            "placeholder": "​",
            "style": "IPY_MODEL_a42e01dcf42d4ae397560b9be457d62a",
            "value": "Downloading data: 100%"
          }
        },
        "65f54c92b4d34caea6d6443358b5fec8": {
          "model_module": "@jupyter-widgets/controls",
          "model_module_version": "1.5.0",
          "model_name": "DescriptionStyleModel",
          "state": {
            "_model_module": "@jupyter-widgets/controls",
            "_model_module_version": "1.5.0",
            "_model_name": "DescriptionStyleModel",
            "_view_count": null,
            "_view_module": "@jupyter-widgets/base",
            "_view_module_version": "1.2.0",
            "_view_name": "StyleView",
            "description_width": ""
          }
        },
        "66cfb1f5c9624822b15a380548a49416": {
          "model_module": "@jupyter-widgets/controls",
          "model_module_version": "1.5.0",
          "model_name": "HBoxModel",
          "state": {
            "_dom_classes": [],
            "_model_module": "@jupyter-widgets/controls",
            "_model_module_version": "1.5.0",
            "_model_name": "HBoxModel",
            "_view_count": null,
            "_view_module": "@jupyter-widgets/controls",
            "_view_module_version": "1.5.0",
            "_view_name": "HBoxView",
            "box_style": "",
            "children": [
              "IPY_MODEL_ac875c953c274bedb7539f7b56b3ab7b",
              "IPY_MODEL_430c54b0ddb143a986c95ab4cdd217b4",
              "IPY_MODEL_83a8332a35574869aa1c57d73b97926e"
            ],
            "layout": "IPY_MODEL_7f033150cc3c4796bd5dd3feb7e14bb7"
          }
        },
        "6aa7d94cb7f54e36b68589e1c5cedc6c": {
          "model_module": "@jupyter-widgets/controls",
          "model_module_version": "1.5.0",
          "model_name": "HBoxModel",
          "state": {
            "_dom_classes": [],
            "_model_module": "@jupyter-widgets/controls",
            "_model_module_version": "1.5.0",
            "_model_name": "HBoxModel",
            "_view_count": null,
            "_view_module": "@jupyter-widgets/controls",
            "_view_module_version": "1.5.0",
            "_view_name": "HBoxView",
            "box_style": "",
            "children": [
              "IPY_MODEL_b2ca329f8e834935b1d92643d42229f6",
              "IPY_MODEL_f40e7e166d4e4934a539d71184cd5518",
              "IPY_MODEL_33911f567f494f79ada691e949fa9ee9"
            ],
            "layout": "IPY_MODEL_df49503695ec4a80b10132645cd71cfd"
          }
        },
        "6be88edc8aee459ab5a36f1378be066a": {
          "model_module": "@jupyter-widgets/base",
          "model_module_version": "1.2.0",
          "model_name": "LayoutModel",
          "state": {
            "_model_module": "@jupyter-widgets/base",
            "_model_module_version": "1.2.0",
            "_model_name": "LayoutModel",
            "_view_count": null,
            "_view_module": "@jupyter-widgets/base",
            "_view_module_version": "1.2.0",
            "_view_name": "LayoutView",
            "align_content": null,
            "align_items": null,
            "align_self": null,
            "border": null,
            "bottom": null,
            "display": null,
            "flex": null,
            "flex_flow": null,
            "grid_area": null,
            "grid_auto_columns": null,
            "grid_auto_flow": null,
            "grid_auto_rows": null,
            "grid_column": null,
            "grid_gap": null,
            "grid_row": null,
            "grid_template_areas": null,
            "grid_template_columns": null,
            "grid_template_rows": null,
            "height": null,
            "justify_content": null,
            "justify_items": null,
            "left": null,
            "margin": null,
            "max_height": null,
            "max_width": null,
            "min_height": null,
            "min_width": null,
            "object_fit": null,
            "object_position": null,
            "order": null,
            "overflow": null,
            "overflow_x": null,
            "overflow_y": null,
            "padding": null,
            "right": null,
            "top": null,
            "visibility": null,
            "width": null
          }
        },
        "6eb59dc9861d4875bbc3ee2245bfe755": {
          "model_module": "@jupyter-widgets/controls",
          "model_module_version": "1.5.0",
          "model_name": "ProgressStyleModel",
          "state": {
            "_model_module": "@jupyter-widgets/controls",
            "_model_module_version": "1.5.0",
            "_model_name": "ProgressStyleModel",
            "_view_count": null,
            "_view_module": "@jupyter-widgets/base",
            "_view_module_version": "1.2.0",
            "_view_name": "StyleView",
            "bar_color": null,
            "description_width": ""
          }
        },
        "72012b93fa8e4bb4abd9337a8d3f24a8": {
          "model_module": "@jupyter-widgets/controls",
          "model_module_version": "1.5.0",
          "model_name": "DescriptionStyleModel",
          "state": {
            "_model_module": "@jupyter-widgets/controls",
            "_model_module_version": "1.5.0",
            "_model_name": "DescriptionStyleModel",
            "_view_count": null,
            "_view_module": "@jupyter-widgets/base",
            "_view_module_version": "1.2.0",
            "_view_name": "StyleView",
            "description_width": ""
          }
        },
        "7491c4b1c77f42d1a53fafab020b053b": {
          "model_module": "@jupyter-widgets/controls",
          "model_module_version": "1.5.0",
          "model_name": "DescriptionStyleModel",
          "state": {
            "_model_module": "@jupyter-widgets/controls",
            "_model_module_version": "1.5.0",
            "_model_name": "DescriptionStyleModel",
            "_view_count": null,
            "_view_module": "@jupyter-widgets/base",
            "_view_module_version": "1.2.0",
            "_view_name": "StyleView",
            "description_width": ""
          }
        },
        "76c2316cd65c44c69bfe32f80192645b": {
          "model_module": "@jupyter-widgets/base",
          "model_module_version": "1.2.0",
          "model_name": "LayoutModel",
          "state": {
            "_model_module": "@jupyter-widgets/base",
            "_model_module_version": "1.2.0",
            "_model_name": "LayoutModel",
            "_view_count": null,
            "_view_module": "@jupyter-widgets/base",
            "_view_module_version": "1.2.0",
            "_view_name": "LayoutView",
            "align_content": null,
            "align_items": null,
            "align_self": null,
            "border": null,
            "bottom": null,
            "display": null,
            "flex": null,
            "flex_flow": null,
            "grid_area": null,
            "grid_auto_columns": null,
            "grid_auto_flow": null,
            "grid_auto_rows": null,
            "grid_column": null,
            "grid_gap": null,
            "grid_row": null,
            "grid_template_areas": null,
            "grid_template_columns": null,
            "grid_template_rows": null,
            "height": null,
            "justify_content": null,
            "justify_items": null,
            "left": null,
            "margin": null,
            "max_height": null,
            "max_width": null,
            "min_height": null,
            "min_width": null,
            "object_fit": null,
            "object_position": null,
            "order": null,
            "overflow": null,
            "overflow_x": null,
            "overflow_y": null,
            "padding": null,
            "right": null,
            "top": null,
            "visibility": null,
            "width": null
          }
        },
        "7842d48054844a2f962f78dbf10384bf": {
          "model_module": "@jupyter-widgets/controls",
          "model_module_version": "1.5.0",
          "model_name": "DescriptionStyleModel",
          "state": {
            "_model_module": "@jupyter-widgets/controls",
            "_model_module_version": "1.5.0",
            "_model_name": "DescriptionStyleModel",
            "_view_count": null,
            "_view_module": "@jupyter-widgets/base",
            "_view_module_version": "1.2.0",
            "_view_name": "StyleView",
            "description_width": ""
          }
        },
        "7888df0db1d44b8ab370938952811629": {
          "model_module": "@jupyter-widgets/controls",
          "model_module_version": "1.5.0",
          "model_name": "FloatProgressModel",
          "state": {
            "_dom_classes": [],
            "_model_module": "@jupyter-widgets/controls",
            "_model_module_version": "1.5.0",
            "_model_name": "FloatProgressModel",
            "_view_count": null,
            "_view_module": "@jupyter-widgets/controls",
            "_view_module_version": "1.5.0",
            "_view_name": "ProgressView",
            "bar_style": "success",
            "description": "",
            "description_tooltip": null,
            "layout": "IPY_MODEL_55728d1c6f1b4311b3e0cbb90b3aa171",
            "max": 7405,
            "min": 0,
            "orientation": "horizontal",
            "style": "IPY_MODEL_10b5792e7b61474a9af1baf1378a6310",
            "value": 7405
          }
        },
        "7c0bb76714af4b9aa94f965b5a480357": {
          "model_module": "@jupyter-widgets/base",
          "model_module_version": "1.2.0",
          "model_name": "LayoutModel",
          "state": {
            "_model_module": "@jupyter-widgets/base",
            "_model_module_version": "1.2.0",
            "_model_name": "LayoutModel",
            "_view_count": null,
            "_view_module": "@jupyter-widgets/base",
            "_view_module_version": "1.2.0",
            "_view_name": "LayoutView",
            "align_content": null,
            "align_items": null,
            "align_self": null,
            "border": null,
            "bottom": null,
            "display": null,
            "flex": null,
            "flex_flow": null,
            "grid_area": null,
            "grid_auto_columns": null,
            "grid_auto_flow": null,
            "grid_auto_rows": null,
            "grid_column": null,
            "grid_gap": null,
            "grid_row": null,
            "grid_template_areas": null,
            "grid_template_columns": null,
            "grid_template_rows": null,
            "height": null,
            "justify_content": null,
            "justify_items": null,
            "left": null,
            "margin": null,
            "max_height": null,
            "max_width": null,
            "min_height": null,
            "min_width": null,
            "object_fit": null,
            "object_position": null,
            "order": null,
            "overflow": null,
            "overflow_x": null,
            "overflow_y": null,
            "padding": null,
            "right": null,
            "top": null,
            "visibility": null,
            "width": null
          }
        },
        "7c5c34b9550d4e5095ce2362ecc98c1d": {
          "model_module": "@jupyter-widgets/controls",
          "model_module_version": "1.5.0",
          "model_name": "HBoxModel",
          "state": {
            "_dom_classes": [],
            "_model_module": "@jupyter-widgets/controls",
            "_model_module_version": "1.5.0",
            "_model_name": "HBoxModel",
            "_view_count": null,
            "_view_module": "@jupyter-widgets/controls",
            "_view_module_version": "1.5.0",
            "_view_name": "HBoxView",
            "box_style": "",
            "children": [
              "IPY_MODEL_2c6e0c1a7bf9482686e4a6326acd2173",
              "IPY_MODEL_24f68d16925346a9af7ec0b3070d7119",
              "IPY_MODEL_07bd6d93872f41308b23850359e4c9f4"
            ],
            "layout": "IPY_MODEL_1ebf9870dca543e8a1b7c95ad52f4df0"
          }
        },
        "7ca40b8d650141869d3573c1ec88ba86": {
          "model_module": "@jupyter-widgets/controls",
          "model_module_version": "1.5.0",
          "model_name": "DescriptionStyleModel",
          "state": {
            "_model_module": "@jupyter-widgets/controls",
            "_model_module_version": "1.5.0",
            "_model_name": "DescriptionStyleModel",
            "_view_count": null,
            "_view_module": "@jupyter-widgets/base",
            "_view_module_version": "1.2.0",
            "_view_name": "StyleView",
            "description_width": ""
          }
        },
        "7dc85c1c812d417ca35dcc34df221c0c": {
          "model_module": "@jupyter-widgets/base",
          "model_module_version": "1.2.0",
          "model_name": "LayoutModel",
          "state": {
            "_model_module": "@jupyter-widgets/base",
            "_model_module_version": "1.2.0",
            "_model_name": "LayoutModel",
            "_view_count": null,
            "_view_module": "@jupyter-widgets/base",
            "_view_module_version": "1.2.0",
            "_view_name": "LayoutView",
            "align_content": null,
            "align_items": null,
            "align_self": null,
            "border": null,
            "bottom": null,
            "display": null,
            "flex": null,
            "flex_flow": null,
            "grid_area": null,
            "grid_auto_columns": null,
            "grid_auto_flow": null,
            "grid_auto_rows": null,
            "grid_column": null,
            "grid_gap": null,
            "grid_row": null,
            "grid_template_areas": null,
            "grid_template_columns": null,
            "grid_template_rows": null,
            "height": null,
            "justify_content": null,
            "justify_items": null,
            "left": null,
            "margin": null,
            "max_height": null,
            "max_width": null,
            "min_height": null,
            "min_width": null,
            "object_fit": null,
            "object_position": null,
            "order": null,
            "overflow": null,
            "overflow_x": null,
            "overflow_y": null,
            "padding": null,
            "right": null,
            "top": null,
            "visibility": null,
            "width": null
          }
        },
        "7eb191cd2d2b497c86b4ddcc67bc6e5a": {
          "model_module": "@jupyter-widgets/controls",
          "model_module_version": "1.5.0",
          "model_name": "FloatProgressModel",
          "state": {
            "_dom_classes": [],
            "_model_module": "@jupyter-widgets/controls",
            "_model_module_version": "1.5.0",
            "_model_name": "FloatProgressModel",
            "_view_count": null,
            "_view_module": "@jupyter-widgets/controls",
            "_view_module_version": "1.5.0",
            "_view_name": "ProgressView",
            "bar_style": "success",
            "description": "",
            "description_tooltip": null,
            "layout": "IPY_MODEL_c9e3ba5c8254471480acf1b6e4f37606",
            "max": 566426227,
            "min": 0,
            "orientation": "horizontal",
            "style": "IPY_MODEL_a36dd2d159e24ddb8871c79b9a93d148",
            "value": 566426227
          }
        },
        "7ed950b5d1564ec5ad90a3584f1981a9": {
          "model_module": "@jupyter-widgets/controls",
          "model_module_version": "1.5.0",
          "model_name": "HTMLModel",
          "state": {
            "_dom_classes": [],
            "_model_module": "@jupyter-widgets/controls",
            "_model_module_version": "1.5.0",
            "_model_name": "HTMLModel",
            "_view_count": null,
            "_view_module": "@jupyter-widgets/controls",
            "_view_module_version": "1.5.0",
            "_view_name": "HTMLView",
            "description": "",
            "description_tooltip": null,
            "layout": "IPY_MODEL_599f42a562e34f96a7ce793154608ff6",
            "placeholder": "​",
            "style": "IPY_MODEL_65f54c92b4d34caea6d6443358b5fec8",
            "value": " 46.2M/46.2M [00:00&lt;00:00, 103MB/s]"
          }
        },
        "7f033150cc3c4796bd5dd3feb7e14bb7": {
          "model_module": "@jupyter-widgets/base",
          "model_module_version": "1.2.0",
          "model_name": "LayoutModel",
          "state": {
            "_model_module": "@jupyter-widgets/base",
            "_model_module_version": "1.2.0",
            "_model_name": "LayoutModel",
            "_view_count": null,
            "_view_module": "@jupyter-widgets/base",
            "_view_module_version": "1.2.0",
            "_view_name": "LayoutView",
            "align_content": null,
            "align_items": null,
            "align_self": null,
            "border": null,
            "bottom": null,
            "display": null,
            "flex": null,
            "flex_flow": null,
            "grid_area": null,
            "grid_auto_columns": null,
            "grid_auto_flow": null,
            "grid_auto_rows": null,
            "grid_column": null,
            "grid_gap": null,
            "grid_row": null,
            "grid_template_areas": null,
            "grid_template_columns": null,
            "grid_template_rows": null,
            "height": null,
            "justify_content": null,
            "justify_items": null,
            "left": null,
            "margin": null,
            "max_height": null,
            "max_width": null,
            "min_height": null,
            "min_width": null,
            "object_fit": null,
            "object_position": null,
            "order": null,
            "overflow": null,
            "overflow_x": null,
            "overflow_y": null,
            "padding": null,
            "right": null,
            "top": null,
            "visibility": null,
            "width": null
          }
        },
        "83a8332a35574869aa1c57d73b97926e": {
          "model_module": "@jupyter-widgets/controls",
          "model_module_version": "1.5.0",
          "model_name": "HTMLModel",
          "state": {
            "_dom_classes": [],
            "_model_module": "@jupyter-widgets/controls",
            "_model_module_version": "1.5.0",
            "_model_name": "HTMLModel",
            "_view_count": null,
            "_view_module": "@jupyter-widgets/controls",
            "_view_module_version": "1.5.0",
            "_view_name": "HTMLView",
            "description": "",
            "description_tooltip": null,
            "layout": "IPY_MODEL_fdea279818fd448cbbc52dfb7c551e79",
            "placeholder": "​",
            "style": "IPY_MODEL_42e71072d3034647b1796d5d1465b574",
            "value": " 99/99 [00:00&lt;00:00, 776.49 examples/s]"
          }
        },
        "8fc7b392eb754d36aec98c08048ce0d5": {
          "model_module": "@jupyter-widgets/base",
          "model_module_version": "1.2.0",
          "model_name": "LayoutModel",
          "state": {
            "_model_module": "@jupyter-widgets/base",
            "_model_module_version": "1.2.0",
            "_model_name": "LayoutModel",
            "_view_count": null,
            "_view_module": "@jupyter-widgets/base",
            "_view_module_version": "1.2.0",
            "_view_name": "LayoutView",
            "align_content": null,
            "align_items": null,
            "align_self": null,
            "border": null,
            "bottom": null,
            "display": null,
            "flex": null,
            "flex_flow": null,
            "grid_area": null,
            "grid_auto_columns": null,
            "grid_auto_flow": null,
            "grid_auto_rows": null,
            "grid_column": null,
            "grid_gap": null,
            "grid_row": null,
            "grid_template_areas": null,
            "grid_template_columns": null,
            "grid_template_rows": null,
            "height": null,
            "justify_content": null,
            "justify_items": null,
            "left": null,
            "margin": null,
            "max_height": null,
            "max_width": null,
            "min_height": null,
            "min_width": null,
            "object_fit": null,
            "object_position": null,
            "order": null,
            "overflow": null,
            "overflow_x": null,
            "overflow_y": null,
            "padding": null,
            "right": null,
            "top": null,
            "visibility": null,
            "width": null
          }
        },
        "909c899ec23f457eb3f6d792fe96cc31": {
          "model_module": "@jupyter-widgets/base",
          "model_module_version": "1.2.0",
          "model_name": "LayoutModel",
          "state": {
            "_model_module": "@jupyter-widgets/base",
            "_model_module_version": "1.2.0",
            "_model_name": "LayoutModel",
            "_view_count": null,
            "_view_module": "@jupyter-widgets/base",
            "_view_module_version": "1.2.0",
            "_view_name": "LayoutView",
            "align_content": null,
            "align_items": null,
            "align_self": null,
            "border": null,
            "bottom": null,
            "display": null,
            "flex": null,
            "flex_flow": null,
            "grid_area": null,
            "grid_auto_columns": null,
            "grid_auto_flow": null,
            "grid_auto_rows": null,
            "grid_column": null,
            "grid_gap": null,
            "grid_row": null,
            "grid_template_areas": null,
            "grid_template_columns": null,
            "grid_template_rows": null,
            "height": null,
            "justify_content": null,
            "justify_items": null,
            "left": null,
            "margin": null,
            "max_height": null,
            "max_width": null,
            "min_height": null,
            "min_width": null,
            "object_fit": null,
            "object_position": null,
            "order": null,
            "overflow": null,
            "overflow_x": null,
            "overflow_y": null,
            "padding": null,
            "right": null,
            "top": null,
            "visibility": null,
            "width": null
          }
        },
        "9297eb22e5184902bb6eb41b8f8620eb": {
          "model_module": "@jupyter-widgets/controls",
          "model_module_version": "1.5.0",
          "model_name": "FloatProgressModel",
          "state": {
            "_dom_classes": [],
            "_model_module": "@jupyter-widgets/controls",
            "_model_module_version": "1.5.0",
            "_model_name": "FloatProgressModel",
            "_view_count": null,
            "_view_module": "@jupyter-widgets/controls",
            "_view_module_version": "1.5.0",
            "_view_name": "ProgressView",
            "bar_style": "success",
            "description": "",
            "description_tooltip": null,
            "layout": "IPY_MODEL_961baddb633e4e8fa65537ae81b496cb",
            "max": 9193,
            "min": 0,
            "orientation": "horizontal",
            "style": "IPY_MODEL_6eb59dc9861d4875bbc3ee2245bfe755",
            "value": 9193
          }
        },
        "93c36b856f524cfb9c2c0d44faa90533": {
          "model_module": "@jupyter-widgets/base",
          "model_module_version": "1.2.0",
          "model_name": "LayoutModel",
          "state": {
            "_model_module": "@jupyter-widgets/base",
            "_model_module_version": "1.2.0",
            "_model_name": "LayoutModel",
            "_view_count": null,
            "_view_module": "@jupyter-widgets/base",
            "_view_module_version": "1.2.0",
            "_view_name": "LayoutView",
            "align_content": null,
            "align_items": null,
            "align_self": null,
            "border": null,
            "bottom": null,
            "display": null,
            "flex": null,
            "flex_flow": null,
            "grid_area": null,
            "grid_auto_columns": null,
            "grid_auto_flow": null,
            "grid_auto_rows": null,
            "grid_column": null,
            "grid_gap": null,
            "grid_row": null,
            "grid_template_areas": null,
            "grid_template_columns": null,
            "grid_template_rows": null,
            "height": null,
            "justify_content": null,
            "justify_items": null,
            "left": null,
            "margin": null,
            "max_height": null,
            "max_width": null,
            "min_height": null,
            "min_width": null,
            "object_fit": null,
            "object_position": null,
            "order": null,
            "overflow": null,
            "overflow_x": null,
            "overflow_y": null,
            "padding": null,
            "right": null,
            "top": null,
            "visibility": null,
            "width": null
          }
        },
        "961baddb633e4e8fa65537ae81b496cb": {
          "model_module": "@jupyter-widgets/base",
          "model_module_version": "1.2.0",
          "model_name": "LayoutModel",
          "state": {
            "_model_module": "@jupyter-widgets/base",
            "_model_module_version": "1.2.0",
            "_model_name": "LayoutModel",
            "_view_count": null,
            "_view_module": "@jupyter-widgets/base",
            "_view_module_version": "1.2.0",
            "_view_name": "LayoutView",
            "align_content": null,
            "align_items": null,
            "align_self": null,
            "border": null,
            "bottom": null,
            "display": null,
            "flex": null,
            "flex_flow": null,
            "grid_area": null,
            "grid_auto_columns": null,
            "grid_auto_flow": null,
            "grid_auto_rows": null,
            "grid_column": null,
            "grid_gap": null,
            "grid_row": null,
            "grid_template_areas": null,
            "grid_template_columns": null,
            "grid_template_rows": null,
            "height": null,
            "justify_content": null,
            "justify_items": null,
            "left": null,
            "margin": null,
            "max_height": null,
            "max_width": null,
            "min_height": null,
            "min_width": null,
            "object_fit": null,
            "object_position": null,
            "order": null,
            "overflow": null,
            "overflow_x": null,
            "overflow_y": null,
            "padding": null,
            "right": null,
            "top": null,
            "visibility": null,
            "width": null
          }
        },
        "9667c31419c247a8a2ff48b93fbc6ddd": {
          "model_module": "@jupyter-widgets/controls",
          "model_module_version": "1.5.0",
          "model_name": "DescriptionStyleModel",
          "state": {
            "_model_module": "@jupyter-widgets/controls",
            "_model_module_version": "1.5.0",
            "_model_name": "DescriptionStyleModel",
            "_view_count": null,
            "_view_module": "@jupyter-widgets/base",
            "_view_module_version": "1.2.0",
            "_view_name": "StyleView",
            "description_width": ""
          }
        },
        "9910cff351304c09ae273fae1db8fcd0": {
          "model_module": "@jupyter-widgets/base",
          "model_module_version": "1.2.0",
          "model_name": "LayoutModel",
          "state": {
            "_model_module": "@jupyter-widgets/base",
            "_model_module_version": "1.2.0",
            "_model_name": "LayoutModel",
            "_view_count": null,
            "_view_module": "@jupyter-widgets/base",
            "_view_module_version": "1.2.0",
            "_view_name": "LayoutView",
            "align_content": null,
            "align_items": null,
            "align_self": null,
            "border": null,
            "bottom": null,
            "display": null,
            "flex": null,
            "flex_flow": null,
            "grid_area": null,
            "grid_auto_columns": null,
            "grid_auto_flow": null,
            "grid_auto_rows": null,
            "grid_column": null,
            "grid_gap": null,
            "grid_row": null,
            "grid_template_areas": null,
            "grid_template_columns": null,
            "grid_template_rows": null,
            "height": null,
            "justify_content": null,
            "justify_items": null,
            "left": null,
            "margin": null,
            "max_height": null,
            "max_width": null,
            "min_height": null,
            "min_width": null,
            "object_fit": null,
            "object_position": null,
            "order": null,
            "overflow": null,
            "overflow_x": null,
            "overflow_y": null,
            "padding": null,
            "right": null,
            "top": null,
            "visibility": null,
            "width": null
          }
        },
        "a2129926007f4f898b66badca0e72860": {
          "model_module": "@jupyter-widgets/controls",
          "model_module_version": "1.5.0",
          "model_name": "DescriptionStyleModel",
          "state": {
            "_model_module": "@jupyter-widgets/controls",
            "_model_module_version": "1.5.0",
            "_model_name": "DescriptionStyleModel",
            "_view_count": null,
            "_view_module": "@jupyter-widgets/base",
            "_view_module_version": "1.2.0",
            "_view_name": "StyleView",
            "description_width": ""
          }
        },
        "a36dd2d159e24ddb8871c79b9a93d148": {
          "model_module": "@jupyter-widgets/controls",
          "model_module_version": "1.5.0",
          "model_name": "ProgressStyleModel",
          "state": {
            "_model_module": "@jupyter-widgets/controls",
            "_model_module_version": "1.5.0",
            "_model_name": "ProgressStyleModel",
            "_view_count": null,
            "_view_module": "@jupyter-widgets/base",
            "_view_module_version": "1.2.0",
            "_view_name": "StyleView",
            "bar_color": null,
            "description_width": ""
          }
        },
        "a42e01dcf42d4ae397560b9be457d62a": {
          "model_module": "@jupyter-widgets/controls",
          "model_module_version": "1.5.0",
          "model_name": "DescriptionStyleModel",
          "state": {
            "_model_module": "@jupyter-widgets/controls",
            "_model_module_version": "1.5.0",
            "_model_name": "DescriptionStyleModel",
            "_view_count": null,
            "_view_module": "@jupyter-widgets/base",
            "_view_module_version": "1.2.0",
            "_view_name": "StyleView",
            "description_width": ""
          }
        },
        "a76d10af75a64d8e998103342fb64e29": {
          "model_module": "@jupyter-widgets/controls",
          "model_module_version": "1.5.0",
          "model_name": "FloatProgressModel",
          "state": {
            "_dom_classes": [],
            "_model_module": "@jupyter-widgets/controls",
            "_model_module_version": "1.5.0",
            "_model_name": "FloatProgressModel",
            "_view_count": null,
            "_view_module": "@jupyter-widgets/controls",
            "_view_module_version": "1.5.0",
            "_view_name": "ProgressView",
            "bar_style": "success",
            "description": "",
            "description_tooltip": null,
            "layout": "IPY_MODEL_dee91057c36b4db08da47d553f758196",
            "max": 47454698,
            "min": 0,
            "orientation": "horizontal",
            "style": "IPY_MODEL_f895633e83784eae8311d61ed4b8b87c",
            "value": 47454698
          }
        },
        "aa82862af99d409498746f0d9a110d7c": {
          "model_module": "@jupyter-widgets/base",
          "model_module_version": "1.2.0",
          "model_name": "LayoutModel",
          "state": {
            "_model_module": "@jupyter-widgets/base",
            "_model_module_version": "1.2.0",
            "_model_name": "LayoutModel",
            "_view_count": null,
            "_view_module": "@jupyter-widgets/base",
            "_view_module_version": "1.2.0",
            "_view_name": "LayoutView",
            "align_content": null,
            "align_items": null,
            "align_self": null,
            "border": null,
            "bottom": null,
            "display": null,
            "flex": null,
            "flex_flow": null,
            "grid_area": null,
            "grid_auto_columns": null,
            "grid_auto_flow": null,
            "grid_auto_rows": null,
            "grid_column": null,
            "grid_gap": null,
            "grid_row": null,
            "grid_template_areas": null,
            "grid_template_columns": null,
            "grid_template_rows": null,
            "height": null,
            "justify_content": null,
            "justify_items": null,
            "left": null,
            "margin": null,
            "max_height": null,
            "max_width": null,
            "min_height": null,
            "min_width": null,
            "object_fit": null,
            "object_position": null,
            "order": null,
            "overflow": null,
            "overflow_x": null,
            "overflow_y": null,
            "padding": null,
            "right": null,
            "top": null,
            "visibility": null,
            "width": null
          }
        },
        "ac875c953c274bedb7539f7b56b3ab7b": {
          "model_module": "@jupyter-widgets/controls",
          "model_module_version": "1.5.0",
          "model_name": "HTMLModel",
          "state": {
            "_dom_classes": [],
            "_model_module": "@jupyter-widgets/controls",
            "_model_module_version": "1.5.0",
            "_model_name": "HTMLModel",
            "_view_count": null,
            "_view_module": "@jupyter-widgets/controls",
            "_view_module_version": "1.5.0",
            "_view_name": "HTMLView",
            "description": "",
            "description_tooltip": null,
            "layout": "IPY_MODEL_f6511a5d1a0f48618c86a52be8c41913",
            "placeholder": "​",
            "style": "IPY_MODEL_35510d2ef9cf492685297e3b2b153702",
            "value": "Generating train split: 100%"
          }
        },
        "af8de42ef17c487caf6a028ff6fce183": {
          "model_module": "@jupyter-widgets/controls",
          "model_module_version": "1.5.0",
          "model_name": "HTMLModel",
          "state": {
            "_dom_classes": [],
            "_model_module": "@jupyter-widgets/controls",
            "_model_module_version": "1.5.0",
            "_model_name": "HTMLModel",
            "_view_count": null,
            "_view_module": "@jupyter-widgets/controls",
            "_view_module_version": "1.5.0",
            "_view_name": "HTMLView",
            "description": "",
            "description_tooltip": null,
            "layout": "IPY_MODEL_f8bd2c887dc94c22aebeb2cf513b209f",
            "placeholder": "​",
            "style": "IPY_MODEL_e34ecec7500740e7a5bbe313c540a500",
            "value": "Downloading data: 100%"
          }
        },
        "b2ca329f8e834935b1d92643d42229f6": {
          "model_module": "@jupyter-widgets/controls",
          "model_module_version": "1.5.0",
          "model_name": "HTMLModel",
          "state": {
            "_dom_classes": [],
            "_model_module": "@jupyter-widgets/controls",
            "_model_module_version": "1.5.0",
            "_model_name": "HTMLModel",
            "_view_count": null,
            "_view_module": "@jupyter-widgets/controls",
            "_view_module_version": "1.5.0",
            "_view_name": "HTMLView",
            "description": "",
            "description_tooltip": null,
            "layout": "IPY_MODEL_8fc7b392eb754d36aec98c08048ce0d5",
            "placeholder": "​",
            "style": "IPY_MODEL_7491c4b1c77f42d1a53fafab020b053b",
            "value": "hotpot_qa.py: 100%"
          }
        },
        "be45bc21a7eb4a89806a5116fdf0088f": {
          "model_module": "@jupyter-widgets/base",
          "model_module_version": "1.2.0",
          "model_name": "LayoutModel",
          "state": {
            "_model_module": "@jupyter-widgets/base",
            "_model_module_version": "1.2.0",
            "_model_name": "LayoutModel",
            "_view_count": null,
            "_view_module": "@jupyter-widgets/base",
            "_view_module_version": "1.2.0",
            "_view_name": "LayoutView",
            "align_content": null,
            "align_items": null,
            "align_self": null,
            "border": null,
            "bottom": null,
            "display": null,
            "flex": null,
            "flex_flow": null,
            "grid_area": null,
            "grid_auto_columns": null,
            "grid_auto_flow": null,
            "grid_auto_rows": null,
            "grid_column": null,
            "grid_gap": null,
            "grid_row": null,
            "grid_template_areas": null,
            "grid_template_columns": null,
            "grid_template_rows": null,
            "height": null,
            "justify_content": null,
            "justify_items": null,
            "left": null,
            "margin": null,
            "max_height": null,
            "max_width": null,
            "min_height": null,
            "min_width": null,
            "object_fit": null,
            "object_position": null,
            "order": null,
            "overflow": null,
            "overflow_x": null,
            "overflow_y": null,
            "padding": null,
            "right": null,
            "top": null,
            "visibility": null,
            "width": null
          }
        },
        "bf126cb4ef0d4f8e86484e2b917caeb4": {
          "model_module": "@jupyter-widgets/base",
          "model_module_version": "1.2.0",
          "model_name": "LayoutModel",
          "state": {
            "_model_module": "@jupyter-widgets/base",
            "_model_module_version": "1.2.0",
            "_model_name": "LayoutModel",
            "_view_count": null,
            "_view_module": "@jupyter-widgets/base",
            "_view_module_version": "1.2.0",
            "_view_name": "LayoutView",
            "align_content": null,
            "align_items": null,
            "align_self": null,
            "border": null,
            "bottom": null,
            "display": null,
            "flex": null,
            "flex_flow": null,
            "grid_area": null,
            "grid_auto_columns": null,
            "grid_auto_flow": null,
            "grid_auto_rows": null,
            "grid_column": null,
            "grid_gap": null,
            "grid_row": null,
            "grid_template_areas": null,
            "grid_template_columns": null,
            "grid_template_rows": null,
            "height": null,
            "justify_content": null,
            "justify_items": null,
            "left": null,
            "margin": null,
            "max_height": null,
            "max_width": null,
            "min_height": null,
            "min_width": null,
            "object_fit": null,
            "object_position": null,
            "order": null,
            "overflow": null,
            "overflow_x": null,
            "overflow_y": null,
            "padding": null,
            "right": null,
            "top": null,
            "visibility": null,
            "width": null
          }
        },
        "bfb446d57d574dea8962cf08f85cdb7e": {
          "model_module": "@jupyter-widgets/controls",
          "model_module_version": "1.5.0",
          "model_name": "HBoxModel",
          "state": {
            "_dom_classes": [],
            "_model_module": "@jupyter-widgets/controls",
            "_model_module_version": "1.5.0",
            "_model_name": "HBoxModel",
            "_view_count": null,
            "_view_module": "@jupyter-widgets/controls",
            "_view_module_version": "1.5.0",
            "_view_name": "HBoxView",
            "box_style": "",
            "children": [
              "IPY_MODEL_d9913182a12b4455bab3d02763ab9a3f",
              "IPY_MODEL_7888df0db1d44b8ab370938952811629",
              "IPY_MODEL_33a4ba1242bc4f9a8fef00840ab54f49"
            ],
            "layout": "IPY_MODEL_d6750acbd9bc436793c3247e7014f1f1"
          }
        },
        "c169906cd7ba4d3eba36e318b9bb76e2": {
          "model_module": "@jupyter-widgets/base",
          "model_module_version": "1.2.0",
          "model_name": "LayoutModel",
          "state": {
            "_model_module": "@jupyter-widgets/base",
            "_model_module_version": "1.2.0",
            "_model_name": "LayoutModel",
            "_view_count": null,
            "_view_module": "@jupyter-widgets/base",
            "_view_module_version": "1.2.0",
            "_view_name": "LayoutView",
            "align_content": null,
            "align_items": null,
            "align_self": null,
            "border": null,
            "bottom": null,
            "display": null,
            "flex": null,
            "flex_flow": null,
            "grid_area": null,
            "grid_auto_columns": null,
            "grid_auto_flow": null,
            "grid_auto_rows": null,
            "grid_column": null,
            "grid_gap": null,
            "grid_row": null,
            "grid_template_areas": null,
            "grid_template_columns": null,
            "grid_template_rows": null,
            "height": null,
            "justify_content": null,
            "justify_items": null,
            "left": null,
            "margin": null,
            "max_height": null,
            "max_width": null,
            "min_height": null,
            "min_width": null,
            "object_fit": null,
            "object_position": null,
            "order": null,
            "overflow": null,
            "overflow_x": null,
            "overflow_y": null,
            "padding": null,
            "right": null,
            "top": null,
            "visibility": null,
            "width": null
          }
        },
        "c7348b248bc84a0eacb695e4951996eb": {
          "model_module": "@jupyter-widgets/controls",
          "model_module_version": "1.5.0",
          "model_name": "HTMLModel",
          "state": {
            "_dom_classes": [],
            "_model_module": "@jupyter-widgets/controls",
            "_model_module_version": "1.5.0",
            "_model_name": "HTMLModel",
            "_view_count": null,
            "_view_module": "@jupyter-widgets/controls",
            "_view_module_version": "1.5.0",
            "_view_name": "HTMLView",
            "description": "",
            "description_tooltip": null,
            "layout": "IPY_MODEL_6be88edc8aee459ab5a36f1378be066a",
            "placeholder": "​",
            "style": "IPY_MODEL_263b5d1c62c943028f1477eaf5193dfe",
            "value": "Generating train split: 100%"
          }
        },
        "c8bc845653244b2695db8938e52c8f6c": {
          "model_module": "@jupyter-widgets/base",
          "model_module_version": "1.2.0",
          "model_name": "LayoutModel",
          "state": {
            "_model_module": "@jupyter-widgets/base",
            "_model_module_version": "1.2.0",
            "_model_name": "LayoutModel",
            "_view_count": null,
            "_view_module": "@jupyter-widgets/base",
            "_view_module_version": "1.2.0",
            "_view_name": "LayoutView",
            "align_content": null,
            "align_items": null,
            "align_self": null,
            "border": null,
            "bottom": null,
            "display": null,
            "flex": null,
            "flex_flow": null,
            "grid_area": null,
            "grid_auto_columns": null,
            "grid_auto_flow": null,
            "grid_auto_rows": null,
            "grid_column": null,
            "grid_gap": null,
            "grid_row": null,
            "grid_template_areas": null,
            "grid_template_columns": null,
            "grid_template_rows": null,
            "height": null,
            "justify_content": null,
            "justify_items": null,
            "left": null,
            "margin": null,
            "max_height": null,
            "max_width": null,
            "min_height": null,
            "min_width": null,
            "object_fit": null,
            "object_position": null,
            "order": null,
            "overflow": null,
            "overflow_x": null,
            "overflow_y": null,
            "padding": null,
            "right": null,
            "top": null,
            "visibility": null,
            "width": null
          }
        },
        "c9e3ba5c8254471480acf1b6e4f37606": {
          "model_module": "@jupyter-widgets/base",
          "model_module_version": "1.2.0",
          "model_name": "LayoutModel",
          "state": {
            "_model_module": "@jupyter-widgets/base",
            "_model_module_version": "1.2.0",
            "_model_name": "LayoutModel",
            "_view_count": null,
            "_view_module": "@jupyter-widgets/base",
            "_view_module_version": "1.2.0",
            "_view_name": "LayoutView",
            "align_content": null,
            "align_items": null,
            "align_self": null,
            "border": null,
            "bottom": null,
            "display": null,
            "flex": null,
            "flex_flow": null,
            "grid_area": null,
            "grid_auto_columns": null,
            "grid_auto_flow": null,
            "grid_auto_rows": null,
            "grid_column": null,
            "grid_gap": null,
            "grid_row": null,
            "grid_template_areas": null,
            "grid_template_columns": null,
            "grid_template_rows": null,
            "height": null,
            "justify_content": null,
            "justify_items": null,
            "left": null,
            "margin": null,
            "max_height": null,
            "max_width": null,
            "min_height": null,
            "min_width": null,
            "object_fit": null,
            "object_position": null,
            "order": null,
            "overflow": null,
            "overflow_x": null,
            "overflow_y": null,
            "padding": null,
            "right": null,
            "top": null,
            "visibility": null,
            "width": null
          }
        },
        "ce137ed7b8124d8192124f5bab62a694": {
          "model_module": "@jupyter-widgets/base",
          "model_module_version": "1.2.0",
          "model_name": "LayoutModel",
          "state": {
            "_model_module": "@jupyter-widgets/base",
            "_model_module_version": "1.2.0",
            "_model_name": "LayoutModel",
            "_view_count": null,
            "_view_module": "@jupyter-widgets/base",
            "_view_module_version": "1.2.0",
            "_view_name": "LayoutView",
            "align_content": null,
            "align_items": null,
            "align_self": null,
            "border": null,
            "bottom": null,
            "display": null,
            "flex": null,
            "flex_flow": null,
            "grid_area": null,
            "grid_auto_columns": null,
            "grid_auto_flow": null,
            "grid_auto_rows": null,
            "grid_column": null,
            "grid_gap": null,
            "grid_row": null,
            "grid_template_areas": null,
            "grid_template_columns": null,
            "grid_template_rows": null,
            "height": null,
            "justify_content": null,
            "justify_items": null,
            "left": null,
            "margin": null,
            "max_height": null,
            "max_width": null,
            "min_height": null,
            "min_width": null,
            "object_fit": null,
            "object_position": null,
            "order": null,
            "overflow": null,
            "overflow_x": null,
            "overflow_y": null,
            "padding": null,
            "right": null,
            "top": null,
            "visibility": null,
            "width": null
          }
        },
        "cef7acc90176429595db7a4c4d2aaea6": {
          "model_module": "@jupyter-widgets/controls",
          "model_module_version": "1.5.0",
          "model_name": "DescriptionStyleModel",
          "state": {
            "_model_module": "@jupyter-widgets/controls",
            "_model_module_version": "1.5.0",
            "_model_name": "DescriptionStyleModel",
            "_view_count": null,
            "_view_module": "@jupyter-widgets/base",
            "_view_module_version": "1.2.0",
            "_view_name": "StyleView",
            "description_width": ""
          }
        },
        "d032cddb97fc47e18c78417af2c00b67": {
          "model_module": "@jupyter-widgets/controls",
          "model_module_version": "1.5.0",
          "model_name": "ProgressStyleModel",
          "state": {
            "_model_module": "@jupyter-widgets/controls",
            "_model_module_version": "1.5.0",
            "_model_name": "ProgressStyleModel",
            "_view_count": null,
            "_view_module": "@jupyter-widgets/base",
            "_view_module_version": "1.2.0",
            "_view_name": "StyleView",
            "bar_color": null,
            "description_width": ""
          }
        },
        "d3ad59fdbeca42498956d5df8b3a4fb7": {
          "model_module": "@jupyter-widgets/controls",
          "model_module_version": "1.5.0",
          "model_name": "DescriptionStyleModel",
          "state": {
            "_model_module": "@jupyter-widgets/controls",
            "_model_module_version": "1.5.0",
            "_model_name": "DescriptionStyleModel",
            "_view_count": null,
            "_view_module": "@jupyter-widgets/base",
            "_view_module_version": "1.2.0",
            "_view_name": "StyleView",
            "description_width": ""
          }
        },
        "d3f7e954ba1e488c923cba7a3abd2add": {
          "model_module": "@jupyter-widgets/controls",
          "model_module_version": "1.5.0",
          "model_name": "HBoxModel",
          "state": {
            "_dom_classes": [],
            "_model_module": "@jupyter-widgets/controls",
            "_model_module_version": "1.5.0",
            "_model_name": "HBoxModel",
            "_view_count": null,
            "_view_module": "@jupyter-widgets/controls",
            "_view_module_version": "1.5.0",
            "_view_name": "HBoxView",
            "box_style": "",
            "children": [
              "IPY_MODEL_5d8eabb731d64977989470427b11c885",
              "IPY_MODEL_a76d10af75a64d8e998103342fb64e29",
              "IPY_MODEL_3adadcaee7414368bc13a5c5dd5f6d86"
            ],
            "layout": "IPY_MODEL_c8bc845653244b2695db8938e52c8f6c"
          }
        },
        "d6750acbd9bc436793c3247e7014f1f1": {
          "model_module": "@jupyter-widgets/base",
          "model_module_version": "1.2.0",
          "model_name": "LayoutModel",
          "state": {
            "_model_module": "@jupyter-widgets/base",
            "_model_module_version": "1.2.0",
            "_model_name": "LayoutModel",
            "_view_count": null,
            "_view_module": "@jupyter-widgets/base",
            "_view_module_version": "1.2.0",
            "_view_name": "LayoutView",
            "align_content": null,
            "align_items": null,
            "align_self": null,
            "border": null,
            "bottom": null,
            "display": null,
            "flex": null,
            "flex_flow": null,
            "grid_area": null,
            "grid_auto_columns": null,
            "grid_auto_flow": null,
            "grid_auto_rows": null,
            "grid_column": null,
            "grid_gap": null,
            "grid_row": null,
            "grid_template_areas": null,
            "grid_template_columns": null,
            "grid_template_rows": null,
            "height": null,
            "justify_content": null,
            "justify_items": null,
            "left": null,
            "margin": null,
            "max_height": null,
            "max_width": null,
            "min_height": null,
            "min_width": null,
            "object_fit": null,
            "object_position": null,
            "order": null,
            "overflow": null,
            "overflow_x": null,
            "overflow_y": null,
            "padding": null,
            "right": null,
            "top": null,
            "visibility": null,
            "width": null
          }
        },
        "d9913182a12b4455bab3d02763ab9a3f": {
          "model_module": "@jupyter-widgets/controls",
          "model_module_version": "1.5.0",
          "model_name": "HTMLModel",
          "state": {
            "_dom_classes": [],
            "_model_module": "@jupyter-widgets/controls",
            "_model_module_version": "1.5.0",
            "_model_name": "HTMLModel",
            "_view_count": null,
            "_view_module": "@jupyter-widgets/controls",
            "_view_module_version": "1.5.0",
            "_view_name": "HTMLView",
            "description": "",
            "description_tooltip": null,
            "layout": "IPY_MODEL_7c0bb76714af4b9aa94f965b5a480357",
            "placeholder": "​",
            "style": "IPY_MODEL_72012b93fa8e4bb4abd9337a8d3f24a8",
            "value": "Generating validation split: 100%"
          }
        },
        "dcc5b4851dcc49ee8bddcea28afefe1d": {
          "model_module": "@jupyter-widgets/controls",
          "model_module_version": "1.5.0",
          "model_name": "ProgressStyleModel",
          "state": {
            "_model_module": "@jupyter-widgets/controls",
            "_model_module_version": "1.5.0",
            "_model_name": "ProgressStyleModel",
            "_view_count": null,
            "_view_module": "@jupyter-widgets/base",
            "_view_module_version": "1.2.0",
            "_view_name": "StyleView",
            "bar_color": null,
            "description_width": ""
          }
        },
        "dd4c32ed4e524436ab80903f719b6b5a": {
          "model_module": "@jupyter-widgets/controls",
          "model_module_version": "1.5.0",
          "model_name": "HTMLModel",
          "state": {
            "_dom_classes": [],
            "_model_module": "@jupyter-widgets/controls",
            "_model_module_version": "1.5.0",
            "_model_name": "HTMLModel",
            "_view_count": null,
            "_view_module": "@jupyter-widgets/controls",
            "_view_module_version": "1.5.0",
            "_view_name": "HTMLView",
            "description": "",
            "description_tooltip": null,
            "layout": "IPY_MODEL_ee398809fa4b462a92810912d9ed3b15",
            "placeholder": "​",
            "style": "IPY_MODEL_d3ad59fdbeca42498956d5df8b3a4fb7",
            "value": " 90447/90447 [00:39&lt;00:00, 3249.18 examples/s]"
          }
        },
        "dee91057c36b4db08da47d553f758196": {
          "model_module": "@jupyter-widgets/base",
          "model_module_version": "1.2.0",
          "model_name": "LayoutModel",
          "state": {
            "_model_module": "@jupyter-widgets/base",
            "_model_module_version": "1.2.0",
            "_model_name": "LayoutModel",
            "_view_count": null,
            "_view_module": "@jupyter-widgets/base",
            "_view_module_version": "1.2.0",
            "_view_name": "LayoutView",
            "align_content": null,
            "align_items": null,
            "align_self": null,
            "border": null,
            "bottom": null,
            "display": null,
            "flex": null,
            "flex_flow": null,
            "grid_area": null,
            "grid_auto_columns": null,
            "grid_auto_flow": null,
            "grid_auto_rows": null,
            "grid_column": null,
            "grid_gap": null,
            "grid_row": null,
            "grid_template_areas": null,
            "grid_template_columns": null,
            "grid_template_rows": null,
            "height": null,
            "justify_content": null,
            "justify_items": null,
            "left": null,
            "margin": null,
            "max_height": null,
            "max_width": null,
            "min_height": null,
            "min_width": null,
            "object_fit": null,
            "object_position": null,
            "order": null,
            "overflow": null,
            "overflow_x": null,
            "overflow_y": null,
            "padding": null,
            "right": null,
            "top": null,
            "visibility": null,
            "width": null
          }
        },
        "df49503695ec4a80b10132645cd71cfd": {
          "model_module": "@jupyter-widgets/base",
          "model_module_version": "1.2.0",
          "model_name": "LayoutModel",
          "state": {
            "_model_module": "@jupyter-widgets/base",
            "_model_module_version": "1.2.0",
            "_model_name": "LayoutModel",
            "_view_count": null,
            "_view_module": "@jupyter-widgets/base",
            "_view_module_version": "1.2.0",
            "_view_name": "LayoutView",
            "align_content": null,
            "align_items": null,
            "align_self": null,
            "border": null,
            "bottom": null,
            "display": null,
            "flex": null,
            "flex_flow": null,
            "grid_area": null,
            "grid_auto_columns": null,
            "grid_auto_flow": null,
            "grid_auto_rows": null,
            "grid_column": null,
            "grid_gap": null,
            "grid_row": null,
            "grid_template_areas": null,
            "grid_template_columns": null,
            "grid_template_rows": null,
            "height": null,
            "justify_content": null,
            "justify_items": null,
            "left": null,
            "margin": null,
            "max_height": null,
            "max_width": null,
            "min_height": null,
            "min_width": null,
            "object_fit": null,
            "object_position": null,
            "order": null,
            "overflow": null,
            "overflow_x": null,
            "overflow_y": null,
            "padding": null,
            "right": null,
            "top": null,
            "visibility": null,
            "width": null
          }
        },
        "e1e27b69c98d44038ce9c1b32282198b": {
          "model_module": "@jupyter-widgets/base",
          "model_module_version": "1.2.0",
          "model_name": "LayoutModel",
          "state": {
            "_model_module": "@jupyter-widgets/base",
            "_model_module_version": "1.2.0",
            "_model_name": "LayoutModel",
            "_view_count": null,
            "_view_module": "@jupyter-widgets/base",
            "_view_module_version": "1.2.0",
            "_view_name": "LayoutView",
            "align_content": null,
            "align_items": null,
            "align_self": null,
            "border": null,
            "bottom": null,
            "display": null,
            "flex": null,
            "flex_flow": null,
            "grid_area": null,
            "grid_auto_columns": null,
            "grid_auto_flow": null,
            "grid_auto_rows": null,
            "grid_column": null,
            "grid_gap": null,
            "grid_row": null,
            "grid_template_areas": null,
            "grid_template_columns": null,
            "grid_template_rows": null,
            "height": null,
            "justify_content": null,
            "justify_items": null,
            "left": null,
            "margin": null,
            "max_height": null,
            "max_width": null,
            "min_height": null,
            "min_width": null,
            "object_fit": null,
            "object_position": null,
            "order": null,
            "overflow": null,
            "overflow_x": null,
            "overflow_y": null,
            "padding": null,
            "right": null,
            "top": null,
            "visibility": null,
            "width": null
          }
        },
        "e3366d153a1a453988bb88a92b907a06": {
          "model_module": "@jupyter-widgets/base",
          "model_module_version": "1.2.0",
          "model_name": "LayoutModel",
          "state": {
            "_model_module": "@jupyter-widgets/base",
            "_model_module_version": "1.2.0",
            "_model_name": "LayoutModel",
            "_view_count": null,
            "_view_module": "@jupyter-widgets/base",
            "_view_module_version": "1.2.0",
            "_view_name": "LayoutView",
            "align_content": null,
            "align_items": null,
            "align_self": null,
            "border": null,
            "bottom": null,
            "display": null,
            "flex": null,
            "flex_flow": null,
            "grid_area": null,
            "grid_auto_columns": null,
            "grid_auto_flow": null,
            "grid_auto_rows": null,
            "grid_column": null,
            "grid_gap": null,
            "grid_row": null,
            "grid_template_areas": null,
            "grid_template_columns": null,
            "grid_template_rows": null,
            "height": null,
            "justify_content": null,
            "justify_items": null,
            "left": null,
            "margin": null,
            "max_height": null,
            "max_width": null,
            "min_height": null,
            "min_width": null,
            "object_fit": null,
            "object_position": null,
            "order": null,
            "overflow": null,
            "overflow_x": null,
            "overflow_y": null,
            "padding": null,
            "right": null,
            "top": null,
            "visibility": null,
            "width": null
          }
        },
        "e34ecec7500740e7a5bbe313c540a500": {
          "model_module": "@jupyter-widgets/controls",
          "model_module_version": "1.5.0",
          "model_name": "DescriptionStyleModel",
          "state": {
            "_model_module": "@jupyter-widgets/controls",
            "_model_module_version": "1.5.0",
            "_model_name": "DescriptionStyleModel",
            "_view_count": null,
            "_view_module": "@jupyter-widgets/base",
            "_view_module_version": "1.2.0",
            "_view_name": "StyleView",
            "description_width": ""
          }
        },
        "e7639f07320246598751163cd9cd994d": {
          "model_module": "@jupyter-widgets/controls",
          "model_module_version": "1.5.0",
          "model_name": "HBoxModel",
          "state": {
            "_dom_classes": [],
            "_model_module": "@jupyter-widgets/controls",
            "_model_module_version": "1.5.0",
            "_model_name": "HBoxModel",
            "_view_count": null,
            "_view_module": "@jupyter-widgets/controls",
            "_view_module_version": "1.5.0",
            "_view_name": "HBoxView",
            "box_style": "",
            "children": [
              "IPY_MODEL_5199efca619147f3a76c64dddc1f4b50",
              "IPY_MODEL_0370b64765054972b6f5c775abd3263a",
              "IPY_MODEL_f050faedad304d1bacc81aa9f1731308"
            ],
            "layout": "IPY_MODEL_eded963959b54eeab6283582ce8a6136"
          }
        },
        "e8ef56b2ad284593a28f10c524f227ec": {
          "model_module": "@jupyter-widgets/controls",
          "model_module_version": "1.5.0",
          "model_name": "HTMLModel",
          "state": {
            "_dom_classes": [],
            "_model_module": "@jupyter-widgets/controls",
            "_model_module_version": "1.5.0",
            "_model_name": "HTMLModel",
            "_view_count": null,
            "_view_module": "@jupyter-widgets/controls",
            "_view_module_version": "1.5.0",
            "_view_name": "HTMLView",
            "description": "",
            "description_tooltip": null,
            "layout": "IPY_MODEL_41196eee29454042a43a1b3b6c752c64",
            "placeholder": "​",
            "style": "IPY_MODEL_cef7acc90176429595db7a4c4d2aaea6",
            "value": "README.md: 100%"
          }
        },
        "e904736b02fe446db9ea042c8590dec3": {
          "model_module": "@jupyter-widgets/controls",
          "model_module_version": "1.5.0",
          "model_name": "HBoxModel",
          "state": {
            "_dom_classes": [],
            "_model_module": "@jupyter-widgets/controls",
            "_model_module_version": "1.5.0",
            "_model_name": "HBoxModel",
            "_view_count": null,
            "_view_module": "@jupyter-widgets/controls",
            "_view_module_version": "1.5.0",
            "_view_name": "HBoxView",
            "box_style": "",
            "children": [
              "IPY_MODEL_2cd051510c014aada2515fbe636d2ff5",
              "IPY_MODEL_32d5e0524ba340eab3b89dd21042309f",
              "IPY_MODEL_7ed950b5d1564ec5ad90a3584f1981a9"
            ],
            "layout": "IPY_MODEL_7dc85c1c812d417ca35dcc34df221c0c"
          }
        },
        "eb3a7a9c013d4f85926070146b284d33": {
          "model_module": "@jupyter-widgets/base",
          "model_module_version": "1.2.0",
          "model_name": "LayoutModel",
          "state": {
            "_model_module": "@jupyter-widgets/base",
            "_model_module_version": "1.2.0",
            "_model_name": "LayoutModel",
            "_view_count": null,
            "_view_module": "@jupyter-widgets/base",
            "_view_module_version": "1.2.0",
            "_view_name": "LayoutView",
            "align_content": null,
            "align_items": null,
            "align_self": null,
            "border": null,
            "bottom": null,
            "display": null,
            "flex": null,
            "flex_flow": null,
            "grid_area": null,
            "grid_auto_columns": null,
            "grid_auto_flow": null,
            "grid_auto_rows": null,
            "grid_column": null,
            "grid_gap": null,
            "grid_row": null,
            "grid_template_areas": null,
            "grid_template_columns": null,
            "grid_template_rows": null,
            "height": null,
            "justify_content": null,
            "justify_items": null,
            "left": null,
            "margin": null,
            "max_height": null,
            "max_width": null,
            "min_height": null,
            "min_width": null,
            "object_fit": null,
            "object_position": null,
            "order": null,
            "overflow": null,
            "overflow_x": null,
            "overflow_y": null,
            "padding": null,
            "right": null,
            "top": null,
            "visibility": null,
            "width": null
          }
        },
        "ec6f7507004848449813861304997422": {
          "model_module": "@jupyter-widgets/controls",
          "model_module_version": "1.5.0",
          "model_name": "HTMLModel",
          "state": {
            "_dom_classes": [],
            "_model_module": "@jupyter-widgets/controls",
            "_model_module_version": "1.5.0",
            "_model_name": "HTMLModel",
            "_view_count": null,
            "_view_module": "@jupyter-widgets/controls",
            "_view_module_version": "1.5.0",
            "_view_name": "HTMLView",
            "description": "",
            "description_tooltip": null,
            "layout": "IPY_MODEL_e3366d153a1a453988bb88a92b907a06",
            "placeholder": "​",
            "style": "IPY_MODEL_7ca40b8d650141869d3573c1ec88ba86",
            "value": " 566M/566M [00:07&lt;00:00, 25.0MB/s]"
          }
        },
        "eded963959b54eeab6283582ce8a6136": {
          "model_module": "@jupyter-widgets/base",
          "model_module_version": "1.2.0",
          "model_name": "LayoutModel",
          "state": {
            "_model_module": "@jupyter-widgets/base",
            "_model_module_version": "1.2.0",
            "_model_name": "LayoutModel",
            "_view_count": null,
            "_view_module": "@jupyter-widgets/base",
            "_view_module_version": "1.2.0",
            "_view_name": "LayoutView",
            "align_content": null,
            "align_items": null,
            "align_self": null,
            "border": null,
            "bottom": null,
            "display": null,
            "flex": null,
            "flex_flow": null,
            "grid_area": null,
            "grid_auto_columns": null,
            "grid_auto_flow": null,
            "grid_auto_rows": null,
            "grid_column": null,
            "grid_gap": null,
            "grid_row": null,
            "grid_template_areas": null,
            "grid_template_columns": null,
            "grid_template_rows": null,
            "height": null,
            "justify_content": null,
            "justify_items": null,
            "left": null,
            "margin": null,
            "max_height": null,
            "max_width": null,
            "min_height": null,
            "min_width": null,
            "object_fit": null,
            "object_position": null,
            "order": null,
            "overflow": null,
            "overflow_x": null,
            "overflow_y": null,
            "padding": null,
            "right": null,
            "top": null,
            "visibility": null,
            "width": null
          }
        },
        "ee398809fa4b462a92810912d9ed3b15": {
          "model_module": "@jupyter-widgets/base",
          "model_module_version": "1.2.0",
          "model_name": "LayoutModel",
          "state": {
            "_model_module": "@jupyter-widgets/base",
            "_model_module_version": "1.2.0",
            "_model_name": "LayoutModel",
            "_view_count": null,
            "_view_module": "@jupyter-widgets/base",
            "_view_module_version": "1.2.0",
            "_view_name": "LayoutView",
            "align_content": null,
            "align_items": null,
            "align_self": null,
            "border": null,
            "bottom": null,
            "display": null,
            "flex": null,
            "flex_flow": null,
            "grid_area": null,
            "grid_auto_columns": null,
            "grid_auto_flow": null,
            "grid_auto_rows": null,
            "grid_column": null,
            "grid_gap": null,
            "grid_row": null,
            "grid_template_areas": null,
            "grid_template_columns": null,
            "grid_template_rows": null,
            "height": null,
            "justify_content": null,
            "justify_items": null,
            "left": null,
            "margin": null,
            "max_height": null,
            "max_width": null,
            "min_height": null,
            "min_width": null,
            "object_fit": null,
            "object_position": null,
            "order": null,
            "overflow": null,
            "overflow_x": null,
            "overflow_y": null,
            "padding": null,
            "right": null,
            "top": null,
            "visibility": null,
            "width": null
          }
        },
        "f050faedad304d1bacc81aa9f1731308": {
          "model_module": "@jupyter-widgets/controls",
          "model_module_version": "1.5.0",
          "model_name": "HTMLModel",
          "state": {
            "_dom_classes": [],
            "_model_module": "@jupyter-widgets/controls",
            "_model_module_version": "1.5.0",
            "_model_name": "HTMLModel",
            "_view_count": null,
            "_view_module": "@jupyter-widgets/controls",
            "_view_module_version": "1.5.0",
            "_view_name": "HTMLView",
            "description": "",
            "description_tooltip": null,
            "layout": "IPY_MODEL_32c86f03f02e48318499418e5b7d587b",
            "placeholder": "​",
            "style": "IPY_MODEL_a2129926007f4f898b66badca0e72860",
            "value": " 7405/7405 [00:02&lt;00:00, 3342.32 examples/s]"
          }
        },
        "f40e7e166d4e4934a539d71184cd5518": {
          "model_module": "@jupyter-widgets/controls",
          "model_module_version": "1.5.0",
          "model_name": "FloatProgressModel",
          "state": {
            "_dom_classes": [],
            "_model_module": "@jupyter-widgets/controls",
            "_model_module_version": "1.5.0",
            "_model_name": "FloatProgressModel",
            "_view_count": null,
            "_view_module": "@jupyter-widgets/controls",
            "_view_module_version": "1.5.0",
            "_view_name": "ProgressView",
            "bar_style": "success",
            "description": "",
            "description_tooltip": null,
            "layout": "IPY_MODEL_93c36b856f524cfb9c2c0d44faa90533",
            "max": 6422,
            "min": 0,
            "orientation": "horizontal",
            "style": "IPY_MODEL_39c21fba163a458c8a7a6ea49eb701e2",
            "value": 6422
          }
        },
        "f6511a5d1a0f48618c86a52be8c41913": {
          "model_module": "@jupyter-widgets/base",
          "model_module_version": "1.2.0",
          "model_name": "LayoutModel",
          "state": {
            "_model_module": "@jupyter-widgets/base",
            "_model_module_version": "1.2.0",
            "_model_name": "LayoutModel",
            "_view_count": null,
            "_view_module": "@jupyter-widgets/base",
            "_view_module_version": "1.2.0",
            "_view_name": "LayoutView",
            "align_content": null,
            "align_items": null,
            "align_self": null,
            "border": null,
            "bottom": null,
            "display": null,
            "flex": null,
            "flex_flow": null,
            "grid_area": null,
            "grid_auto_columns": null,
            "grid_auto_flow": null,
            "grid_auto_rows": null,
            "grid_column": null,
            "grid_gap": null,
            "grid_row": null,
            "grid_template_areas": null,
            "grid_template_columns": null,
            "grid_template_rows": null,
            "height": null,
            "justify_content": null,
            "justify_items": null,
            "left": null,
            "margin": null,
            "max_height": null,
            "max_width": null,
            "min_height": null,
            "min_width": null,
            "object_fit": null,
            "object_position": null,
            "order": null,
            "overflow": null,
            "overflow_x": null,
            "overflow_y": null,
            "padding": null,
            "right": null,
            "top": null,
            "visibility": null,
            "width": null
          }
        },
        "f895633e83784eae8311d61ed4b8b87c": {
          "model_module": "@jupyter-widgets/controls",
          "model_module_version": "1.5.0",
          "model_name": "ProgressStyleModel",
          "state": {
            "_model_module": "@jupyter-widgets/controls",
            "_model_module_version": "1.5.0",
            "_model_name": "ProgressStyleModel",
            "_view_count": null,
            "_view_module": "@jupyter-widgets/base",
            "_view_module_version": "1.2.0",
            "_view_name": "StyleView",
            "bar_color": null,
            "description_width": ""
          }
        },
        "f8bd2c887dc94c22aebeb2cf513b209f": {
          "model_module": "@jupyter-widgets/base",
          "model_module_version": "1.2.0",
          "model_name": "LayoutModel",
          "state": {
            "_model_module": "@jupyter-widgets/base",
            "_model_module_version": "1.2.0",
            "_model_name": "LayoutModel",
            "_view_count": null,
            "_view_module": "@jupyter-widgets/base",
            "_view_module_version": "1.2.0",
            "_view_name": "LayoutView",
            "align_content": null,
            "align_items": null,
            "align_self": null,
            "border": null,
            "bottom": null,
            "display": null,
            "flex": null,
            "flex_flow": null,
            "grid_area": null,
            "grid_auto_columns": null,
            "grid_auto_flow": null,
            "grid_auto_rows": null,
            "grid_column": null,
            "grid_gap": null,
            "grid_row": null,
            "grid_template_areas": null,
            "grid_template_columns": null,
            "grid_template_rows": null,
            "height": null,
            "justify_content": null,
            "justify_items": null,
            "left": null,
            "margin": null,
            "max_height": null,
            "max_width": null,
            "min_height": null,
            "min_width": null,
            "object_fit": null,
            "object_position": null,
            "order": null,
            "overflow": null,
            "overflow_x": null,
            "overflow_y": null,
            "padding": null,
            "right": null,
            "top": null,
            "visibility": null,
            "width": null
          }
        },
        "fdea279818fd448cbbc52dfb7c551e79": {
          "model_module": "@jupyter-widgets/base",
          "model_module_version": "1.2.0",
          "model_name": "LayoutModel",
          "state": {
            "_model_module": "@jupyter-widgets/base",
            "_model_module_version": "1.2.0",
            "_model_name": "LayoutModel",
            "_view_count": null,
            "_view_module": "@jupyter-widgets/base",
            "_view_module_version": "1.2.0",
            "_view_name": "LayoutView",
            "align_content": null,
            "align_items": null,
            "align_self": null,
            "border": null,
            "bottom": null,
            "display": null,
            "flex": null,
            "flex_flow": null,
            "grid_area": null,
            "grid_auto_columns": null,
            "grid_auto_flow": null,
            "grid_auto_rows": null,
            "grid_column": null,
            "grid_gap": null,
            "grid_row": null,
            "grid_template_areas": null,
            "grid_template_columns": null,
            "grid_template_rows": null,
            "height": null,
            "justify_content": null,
            "justify_items": null,
            "left": null,
            "margin": null,
            "max_height": null,
            "max_width": null,
            "min_height": null,
            "min_width": null,
            "object_fit": null,
            "object_position": null,
            "order": null,
            "overflow": null,
            "overflow_x": null,
            "overflow_y": null,
            "padding": null,
            "right": null,
            "top": null,
            "visibility": null,
            "width": null
          }
        }
      }
    }
  },
  "nbformat": 4,
  "nbformat_minor": 0
}
