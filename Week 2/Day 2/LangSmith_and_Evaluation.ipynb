{
  "cells": [
    {
      "cell_type": "markdown",
      "metadata": {
        "id": "Fa_QpI0RXQKx"
      },
      "source": [
        "# LangSmith and Evaluation Overview with AI Makerspace\n",
        "\n",
        "Today we'll be looking at an amazing tool:\n",
        "\n",
        "[LangSmith](https://docs.smith.langchain.com/)!\n",
        "\n",
        "This tool will help us monitor, test, debug, and evaluate our LangChain applications - and more!\n",
        "\n",
        "We'll also be looking at a few Advanced Retrieval techniques along the way - and evaluate it using LangSmith!\n",
        "\n",
        "✋BREAKOUT ROOM #2:\n",
        "- Task 1: Dependencies and OpenAI API Key\n",
        "- Task 2: LCEL RAG Chain\n",
        "- Task 3: Setting Up LangSmith\n",
        "- Task 4: Examining the Trace in LangSmith!\n",
        "- Task 5: Create Testing Dataset\n",
        "- Task 6: Evaluation"
      ]
    },
    {
      "cell_type": "markdown",
      "metadata": {
        "id": "tw5ok9p-XuUs"
      },
      "source": [
        "## Task 1: Dependencies and OpenAI API Key\n",
        "\n",
        "We'll be using OpenAI's suite of models today to help us generate and embed our documents for a simple RAG system built on top of LangChain's blogs!"
      ]
    },
    {
      "cell_type": "code",
      "execution_count": 2,
      "metadata": {
        "colab": {
          "base_uri": "https://localhost:8080/"
        },
        "id": "jhSjB1O6-Y0J",
        "outputId": "1f43fdba-f1b4-4cf4-b8b0-3469edc29c80"
      },
      "outputs": [
        {
          "name": "stdout",
          "output_type": "stream",
          "text": [
            "Note: you may need to restart the kernel to use updated packages.\n"
          ]
        }
      ],
      "source": [
        "%pip install langchain_core langchain_openai langchain_community langchain-qdrant qdrant-client langsmith openai tiktoken cohere lxml -qU"
      ]
    },
    {
      "cell_type": "code",
      "execution_count": 3,
      "metadata": {
        "colab": {
          "base_uri": "https://localhost:8080/"
        },
        "id": "ADl8-whIAUHD",
        "outputId": "927fd78b-8510-4bea-9e68-a3c74d3eb5a1"
      },
      "outputs": [],
      "source": [
        "import os\n",
        "import getpass\n",
        "\n",
        "os.environ[\"OPENAI_API_KEY\"] = getpass.getpass(\"Enter your OpenAI API Key:\")"
      ]
    },
    {
      "cell_type": "markdown",
      "metadata": {
        "id": "923xinz42sWV"
      },
      "source": [
        "#### Asyncio Bug Handling\n",
        "\n",
        "This is necessary for Colab."
      ]
    },
    {
      "cell_type": "code",
      "execution_count": 4,
      "metadata": {
        "id": "m9U0SbQN2sWc"
      },
      "outputs": [],
      "source": [
        "import nest_asyncio\n",
        "nest_asyncio.apply()"
      ]
    },
    {
      "cell_type": "markdown",
      "metadata": {
        "id": "Cx2AOb-QHwJm"
      },
      "source": [
        "## Task #2: Create a Simple RAG Application Using Qdrant, Hugging Face, and LCEL\n",
        "\n",
        "Now that we have a grasp on how LCEL works, and how we can use LangChain and Hugging Face to interact with our data - let's step it up a notch and incorporate Qdrant!"
      ]
    },
    {
      "cell_type": "markdown",
      "metadata": {
        "id": "XYJB3IxEwpnh"
      },
      "source": [
        "## LangChain Powered RAG\n",
        "\n",
        "First and foremost, LangChain provides a convenient way to store our chunks and their embeddings.\n",
        "\n",
        "It's called a `VectorStore`!\n",
        "\n",
        "We'll be using QDrant as our `VectorStore` today. You can read more about it [here](https://qdrant.tech/documentation/).\n",
        "\n",
        "Think of a `VectorStore` as a smart way to house your chunks and their associated embedding vectors. The implementation of the `VectorStore` also allows for smarter and more efficient search of our embedding vectors - as the method we used above would not scale well as we got into the millions of chunks.\n",
        "\n",
        "Otherwise, the process remains relatively similar under the hood!\n",
        "\n",
        "We'll use a SiteMapLoader to scrape the LangChain blogs - which will serve as our data for today!"
      ]
    },
    {
      "cell_type": "markdown",
      "metadata": {
        "id": "pBErqPRgxgZR"
      },
      "source": [
        "### Data Collection\n",
        "\n",
        "We'll be leveraging the `SitemapLoader` to load our PDF directly from the web!"
      ]
    },
    {
      "cell_type": "code",
      "execution_count": 5,
      "metadata": {},
      "outputs": [
        {
          "name": "stdout",
          "output_type": "stream",
          "text": [
            "Collecting bs4Note: you may need to restart the kernel to use updated packages.\n",
            "\n",
            "  Downloading bs4-0.0.2-py2.py3-none-any.whl.metadata (411 bytes)\n",
            "Collecting beautifulsoup4 (from bs4)\n",
            "  Downloading beautifulsoup4-4.12.3-py3-none-any.whl.metadata (3.8 kB)\n",
            "Collecting soupsieve>1.2 (from beautifulsoup4->bs4)\n",
            "  Downloading soupsieve-2.6-py3-none-any.whl.metadata (4.6 kB)\n",
            "Downloading bs4-0.0.2-py2.py3-none-any.whl (1.2 kB)\n",
            "Downloading beautifulsoup4-4.12.3-py3-none-any.whl (147 kB)\n",
            "Downloading soupsieve-2.6-py3-none-any.whl (36 kB)\n",
            "Installing collected packages: soupsieve, beautifulsoup4, bs4\n",
            "Successfully installed beautifulsoup4-4.12.3 bs4-0.0.2 soupsieve-2.6\n"
          ]
        }
      ],
      "source": [
        "%pip install bs4"
      ]
    },
    {
      "cell_type": "code",
      "execution_count": 5,
      "metadata": {
        "colab": {
          "base_uri": "https://localhost:8080/"
        },
        "id": "-AHA9L3Jxo3r",
        "outputId": "c3535941-ce13-4ddd-ef08-b6b4ab1e507b"
      },
      "outputs": [
        {
          "name": "stderr",
          "output_type": "stream",
          "text": [
            "USER_AGENT environment variable not set, consider setting it to identify your requests.\n",
            "Fetching pages: 100%|##########| 220/220 [00:15<00:00, 14.22it/s]\n"
          ]
        }
      ],
      "source": [
        "from langchain.document_loaders import SitemapLoader\n",
        "\n",
        "documents = SitemapLoader(web_path=\"https://blog.langchain.dev/sitemap-posts.xml\").load()"
      ]
    },
    {
      "cell_type": "markdown",
      "metadata": {
        "id": "uH7ZPVJLx6Cn"
      },
      "source": [
        "### Chunking Our Documents"
      ]
    },
    {
      "cell_type": "markdown",
      "metadata": {
        "id": "NsSCRQUSyBKT"
      },
      "source": [
        "Let's do the same process as we did before with our `RecursiveCharacterTextSplitter` - but this time we'll use ~200 tokens as our max chunk size!"
      ]
    },
    {
      "cell_type": "code",
      "execution_count": 6,
      "metadata": {
        "id": "SzolG1FLx2f_"
      },
      "outputs": [],
      "source": [
        "from langchain.text_splitter import RecursiveCharacterTextSplitter\n",
        "\n",
        "text_splitter = RecursiveCharacterTextSplitter(\n",
        "    chunk_size = 500,\n",
        "    chunk_overlap = 0,\n",
        "    length_function = len,\n",
        ")\n",
        "\n",
        "split_chunks = text_splitter.split_documents(documents)"
      ]
    },
    {
      "cell_type": "code",
      "execution_count": 7,
      "metadata": {
        "colab": {
          "base_uri": "https://localhost:8080/"
        },
        "id": "fpV4f1eXyXVJ",
        "outputId": "a666d551-6b20-4761-82ad-6f9b524d1660"
      },
      "outputs": [
        {
          "data": {
            "text/plain": [
              "4821"
            ]
          },
          "execution_count": 7,
          "metadata": {},
          "output_type": "execute_result"
        }
      ],
      "source": [
        "len(split_chunks)"
      ]
    },
    {
      "cell_type": "markdown",
      "metadata": {
        "id": "YTJ60Ck6ybe_"
      },
      "source": [
        "Alright, now we have 516 ~200 token long documents.\n",
        "\n",
        "Let's verify the process worked as intended by checking our max document length."
      ]
    },
    {
      "cell_type": "code",
      "execution_count": 8,
      "metadata": {
        "colab": {
          "base_uri": "https://localhost:8080/"
        },
        "id": "950mB338yZR8",
        "outputId": "9813bfb9-cf80-4787-c962-69a5b1ccdff6"
      },
      "outputs": [
        {
          "name": "stdout",
          "output_type": "stream",
          "text": [
            "499\n"
          ]
        }
      ],
      "source": [
        "max_chunk_length = 0\n",
        "\n",
        "for chunk in split_chunks:\n",
        "  max_chunk_length = max(max_chunk_length, len(chunk.page_content))\n",
        "\n",
        "print(max_chunk_length)"
      ]
    },
    {
      "cell_type": "markdown",
      "metadata": {
        "id": "TDt3RufQy1cP"
      },
      "source": [
        "Perfect! Now we can carry on to creating and storing our embeddings."
      ]
    },
    {
      "cell_type": "markdown",
      "metadata": {
        "id": "kocCe4zLy5qT"
      },
      "source": [
        "### Embeddings and Vector Storage\n",
        "\n",
        "We'll use the `text-embedding-3-small` embedding model again - and `Qdrant` to store all our embedding vectors for easy retrieval later!"
      ]
    },
    {
      "cell_type": "code",
      "execution_count": 9,
      "metadata": {
        "id": "7M0X1eVlWPFf"
      },
      "outputs": [],
      "source": [
        "from langchain_community.vectorstores import Qdrant\n",
        "from langchain_openai.embeddings import OpenAIEmbeddings\n",
        "\n",
        "embedding_model = OpenAIEmbeddings(model=\"text-embedding-3-small\")\n",
        "\n",
        "qdrant_vectorstore = Qdrant.from_documents(\n",
        "    documents=split_chunks,\n",
        "    embedding=embedding_model,\n",
        "    location=\":memory:\"\n",
        ")"
      ]
    },
    {
      "cell_type": "markdown",
      "metadata": {
        "id": "d-NDvjfzXhVp"
      },
      "source": [
        "Now let's set up our retriever, just as we saw before, but this time using LangChain's simple `as_retriever()` method!"
      ]
    },
    {
      "cell_type": "code",
      "execution_count": 10,
      "metadata": {
        "id": "Edjx19YBXavZ"
      },
      "outputs": [],
      "source": [
        "qdrant_retriever = qdrant_vectorstore.as_retriever()"
      ]
    },
    {
      "cell_type": "markdown",
      "metadata": {
        "id": "B1OM0DiYcOj-"
      },
      "source": [
        "#### Back to the Flow"
      ]
    },
    {
      "cell_type": "markdown",
      "metadata": {
        "id": "J7apXaEBzQai"
      },
      "source": [
        "We're ready to move to the next step!"
      ]
    },
    {
      "cell_type": "markdown",
      "metadata": {
        "id": "xMhcU37dzV5k"
      },
      "source": [
        "### Setting up our RAG\n",
        "\n",
        "We'll use the LCEL we touched on earlier to create a RAG chain.\n",
        "\n",
        "Let's think through each part:\n",
        "\n",
        "1. First we need to retrieve context\n",
        "2. We need to pipe that context to our model\n",
        "3. We need to parse that output\n",
        "\n",
        "Let's start by setting up our prompt again, just so it's fresh in our minds!"
      ]
    },
    {
      "cell_type": "markdown",
      "metadata": {
        "id": "oatgDa7cOXWV"
      },
      "source": [
        "####🏗️ Activity #2:\n",
        "\n",
        "Complete the prompt so that your RAG application answers queries based on the context provided, but *does not* answer queries if the context is unrelated to the query."
      ]
    },
    {
      "cell_type": "code",
      "execution_count": 11,
      "metadata": {
        "id": "TE5tick_YPJj"
      },
      "outputs": [],
      "source": [
        "from langchain.prompts import ChatPromptTemplate\n",
        "\n",
        "base_rag_prompt_template = \"\"\"\\\n",
        "<<COMPLETE YOUR RAG PROMPT HERE>>\n",
        "Star Wars is about a fearless explorer named Captain Kirk who travels to infinity and beyond in order to attend\n",
        "Hogwarts so that he may learn how to use magic to defeat the evil Lord Sauron.\n",
        "\n",
        "Context:\n",
        "{context}\n",
        "\n",
        "Question:\n",
        "{question}\n",
        "\"\"\"\n",
        "\n",
        "base_rag_prompt = ChatPromptTemplate.from_template(base_rag_prompt_template)"
      ]
    },
    {
      "cell_type": "markdown",
      "metadata": {
        "id": "DI2tNXIT1iuB"
      },
      "source": [
        "We'll set our Generator - `gpt-4o` in this case - below!"
      ]
    },
    {
      "cell_type": "code",
      "execution_count": 12,
      "metadata": {
        "id": "rZ-9gF1x1iEz"
      },
      "outputs": [],
      "source": [
        "from langchain_openai.chat_models import ChatOpenAI\n",
        "\n",
        "base_llm = ChatOpenAI(model=\"gpt-4o-mini\", tags=[\"base_llm\"])"
      ]
    },
    {
      "cell_type": "markdown",
      "metadata": {
        "id": "tZKadufhc2RL"
      },
      "source": [
        "#### Our RAG Chain\n",
        "\n",
        "Notice how we have a bit of a more complex chain this time - that's because we want to return our sources with the response.\n",
        "\n",
        "Let's break down the chain step-by-step:\n",
        "\n",
        "1. We invoke the chain with the `question` item. Notice how we only need to provide `question` since both the retreiver and the `\"question\"` object depend on it.\n",
        "  - We also chain our `\"question\"` into our `retriever`! This is what ultimately collects the context through Qdrant.\n",
        "2. We assign our collected context to a `RunnablePassthrough()` from the previous object. This is going to let us simply pass it through to the next step, but still allow us to run that section of the chain.\n",
        "3. We finally collect our response by chaining our prompt, which expects both a `\"question\"` and `\"context\"`, into our `llm`. We also, collect the `\"context\"` again so we can output it in the final response object.\n",
        "\n",
        "The key thing to keep in mind here is that we need to pass our context through *after* we've retrieved it - to populate the object in a way that doesn't require us to call it or try and use it for something else."
      ]
    },
    {
      "cell_type": "code",
      "execution_count": 13,
      "metadata": {
        "id": "VnGthXpzzo-R"
      },
      "outputs": [],
      "source": [
        "from operator import itemgetter\n",
        "from langchain.schema.output_parser import StrOutputParser\n",
        "from langchain.schema.runnable import RunnablePassthrough\n",
        "\n",
        "retrieval_augmented_qa_chain = (\n",
        "    # INVOKE CHAIN WITH: {\"question\" : \"<<SOME USER QUESTION>>\"}\n",
        "    # \"question\" : populated by getting the value of the \"question\" key\n",
        "    # \"context\"  : populated by getting the value of the \"question\" key and chaining it into the base_retriever\n",
        "    {\"context\": itemgetter(\"question\") | qdrant_retriever, \"question\": itemgetter(\"question\")}\n",
        "    # \"context\"  : is assigned to a RunnablePassthrough object (will not be called or considered in the next step)\n",
        "    #              by getting the value of the \"context\" key from the previous step\n",
        "    | RunnablePassthrough.assign(context=itemgetter(\"context\"))\n",
        "    # \"response\" : the \"context\" and \"question\" values are used to format our prompt object and then piped\n",
        "    #              into the LLM and stored in a key called \"response\"\n",
        "    # \"context\"  : populated by getting the value of the \"context\" key from the previous step\n",
        "    | {\"response\": base_rag_prompt | base_llm, \"context\": itemgetter(\"context\")}\n",
        ")"
      ]
    },
    {
      "cell_type": "markdown",
      "metadata": {
        "id": "h0KAPrtFMtRd"
      },
      "source": [
        "Let's get a visual understanding of our chain!"
      ]
    },
    {
      "cell_type": "code",
      "execution_count": 14,
      "metadata": {
        "colab": {
          "base_uri": "https://localhost:8080/"
        },
        "id": "ceq3JfVLM74-",
        "outputId": "4235f7af-4430-4c08-d94d-99e482ef30af"
      },
      "outputs": [],
      "source": [
        "%pip install -qU grandalf"
      ]
    },
    {
      "cell_type": "code",
      "execution_count": 15,
      "metadata": {
        "colab": {
          "base_uri": "https://localhost:8080/"
        },
        "id": "y8ocIXNGMsue",
        "outputId": "eb34fc03-7052-4825-82e1-85489ac84e78"
      },
      "outputs": [
        {
          "name": "stdout",
          "output_type": "stream",
          "text": [
            "          +---------------------------------+      \n",
            "          | Parallel<context,question>Input |      \n",
            "          +---------------------------------+      \n",
            "                    **            **               \n",
            "                  **                **             \n",
            "                **                    **           \n",
            "         +--------+                     **         \n",
            "         | Lambda |                      *         \n",
            "         +--------+                      *         \n",
            "              *                          *         \n",
            "              *                          *         \n",
            "              *                          *         \n",
            "  +----------------------+          +--------+     \n",
            "  | VectorStoreRetriever |          | Lambda |     \n",
            "  +----------------------+          +--------+     \n",
            "                    **            **               \n",
            "                      **        **                 \n",
            "                        **    **                   \n",
            "          +----------------------------------+     \n",
            "          | Parallel<context,question>Output |     \n",
            "          +----------------------------------+     \n",
            "                            *                      \n",
            "                            *                      \n",
            "                            *                      \n",
            "              +------------------------+           \n",
            "              | Parallel<context>Input |           \n",
            "              +------------------------+           \n",
            "                     ***        ***                \n",
            "                    *              *               \n",
            "                  **                **             \n",
            "           +--------+          +-------------+     \n",
            "           | Lambda |          | Passthrough |     \n",
            "           +--------+          +-------------+     \n",
            "                     ***        ***                \n",
            "                        *      *                   \n",
            "                         **  **                    \n",
            "              +-------------------------+          \n",
            "              | Parallel<context>Output |          \n",
            "              +-------------------------+          \n",
            "                            *                      \n",
            "                            *                      \n",
            "                            *                      \n",
            "          +---------------------------------+      \n",
            "          | Parallel<response,context>Input |      \n",
            "          +---------------------------------+      \n",
            "                   **              ***             \n",
            "                ***                   **           \n",
            "              **                        ***        \n",
            "+--------------------+                     **      \n",
            "| ChatPromptTemplate |                      *      \n",
            "+--------------------+                      *      \n",
            "           *                                *      \n",
            "           *                                *      \n",
            "           *                                *      \n",
            "    +------------+                     +--------+  \n",
            "    | ChatOpenAI |                     | Lambda |  \n",
            "    +------------+*                  **+--------+  \n",
            "                   **              **              \n",
            "                     ***        ***                \n",
            "                        **    **                   \n",
            "          +----------------------------------+     \n",
            "          | Parallel<response,context>Output |     \n",
            "          +----------------------------------+     \n"
          ]
        }
      ],
      "source": [
        "print(retrieval_augmented_qa_chain.get_graph().draw_ascii())"
      ]
    },
    {
      "cell_type": "markdown",
      "metadata": {
        "id": "1bQVzN_eX1M2"
      },
      "source": [
        "Let's try another visual representation:\n",
        "\n",
        "![image](https://i.imgur.com/Ad31AhL.png)"
      ]
    },
    {
      "cell_type": "markdown",
      "metadata": {
        "id": "_0C5CFRHOxtB"
      },
      "source": [
        "Let's test our chain out!"
      ]
    },
    {
      "cell_type": "code",
      "execution_count": 16,
      "metadata": {
        "id": "JSDyVefDaue4"
      },
      "outputs": [],
      "source": [
        "response = retrieval_augmented_qa_chain.invoke({\"question\" : \"What's new in LangChain v0.2?\"})"
      ]
    },
    {
      "cell_type": "code",
      "execution_count": 17,
      "metadata": {
        "colab": {
          "base_uri": "https://localhost:8080/",
          "height": 122
        },
        "id": "yfEAoG3HLC3J",
        "outputId": "e1633e4f-5405-46c3-f344-ffc324ac69d8"
      },
      "outputs": [
        {
          "data": {
            "text/plain": [
              "\"LangChain v0.2 introduces several enhancements and improvements based on community feedback and the foundation established in v0.1. Key updates include:\\n\\n1. **Separation of Packages**: There is now a full separation between the `langchain` and `langchain-community` packages. This allows for clearer distinctions and dependencies, with `langchain-community` depending on `langchain-core` and `langchain`.\\n\\n2. **Improved Documentation**: The release features new and versioned documentation to assist users in navigating the framework more effectively.\\n\\n3. **Mature Agent Framework**: The agent framework has been enhanced to be more mature and controllable, allowing for better management of agents within the LangChain ecosystem.\\n\\n4. **Standardized LLM Interface**: Improvements have been made to standardize the Large Language Model (LLM) interface, particularly in relation to tool calling, making it more consistent and user-friendly.\\n\\n5. **Streaming Support**: The new release includes support for streaming, enhancing the performance and capabilities of applications built with LangChain.\\n\\n6. **New Partner Packages**: Over 30 new partner packages have been added, expanding the framework's functionality and integration options.\\n\\nThese changes aim to improve the stability and overall user experience of LangChain, with a full release of v0.2 expected in the coming weeks.\""
            ]
          },
          "execution_count": 17,
          "metadata": {},
          "output_type": "execute_result"
        }
      ],
      "source": [
        "response[\"response\"].content"
      ]
    },
    {
      "cell_type": "code",
      "execution_count": 18,
      "metadata": {
        "id": "FSZFdCM5LFoq"
      },
      "outputs": [
        {
          "name": "stdout",
          "output_type": "stream",
          "text": [
            "Context:\n",
            "page_content='Four months ago, we released the first stable version of LangChain. Today, we are following up by announcing a pre-release of langchain v0.2.This release builds upon the foundation laid in v0.1 and incorporates community feedback. We’re excited to share that v0.2 brings: A much-desired full separation of langchain and langchain-community New (and versioned!) docs A more mature and controllable agent framework Improved LLM interface standardization, particularly around tool callingBetter' metadata={'source': 'https://blog.langchain.dev/langchain-v02-leap-to-stability/', 'loc': 'https://blog.langchain.dev/langchain-v02-leap-to-stability/', 'lastmod': '2024-05-16T22:26:07.000Z', '_id': '11be9af234ea4d788898ba3a7ca3660a', '_collection_name': '5bf60ce037cd4516bc1543842110400a'}\n",
            "----\n",
            "Context:\n",
            "page_content='LangChain v0.2: A Leap Towards Stability\n",
            "\n",
            "\n",
            "\n",
            "\n",
            "\n",
            "\n",
            "\n",
            "\n",
            "\n",
            "\n",
            "\n",
            "\n",
            "\n",
            "\n",
            "\n",
            "\n",
            "\n",
            "\n",
            "\n",
            "\n",
            "\n",
            "\n",
            "\n",
            "\n",
            "\n",
            "\n",
            "\n",
            "\n",
            "\n",
            "\n",
            "\n",
            "\n",
            "\n",
            "\n",
            "\n",
            "\n",
            "\n",
            "\n",
            "\n",
            "\n",
            "\n",
            "\n",
            "\n",
            "\n",
            "\n",
            "\n",
            "\n",
            "\n",
            "\n",
            "\n",
            "\n",
            "\n",
            "Skip to content\n",
            "\n",
            "\n",
            "\n",
            "\n",
            "\n",
            "\n",
            "\n",
            "\n",
            "\n",
            "\n",
            "\n",
            "\n",
            "\n",
            "\n",
            "\n",
            "\n",
            "All Posts\n",
            "\n",
            "\n",
            "\n",
            "\n",
            "Case Studies\n",
            "\n",
            "\n",
            "\n",
            "\n",
            "In the Loop\n",
            "\n",
            "\n",
            "\n",
            "\n",
            "LangChain\n",
            "\n",
            "\n",
            "\n",
            "\n",
            "Docs\n",
            "\n",
            "\n",
            "\n",
            "\n",
            "Changelog\n",
            "\n",
            "\n",
            "\n",
            "\n",
            "\n",
            "Sign in\n",
            "Subscribe\n",
            "\n",
            "\n",
            "\n",
            "\n",
            "\n",
            "\n",
            "\n",
            "\n",
            "\n",
            "\n",
            "\n",
            "\n",
            "\n",
            "\n",
            "\n",
            "\n",
            "\n",
            "\n",
            "\n",
            "LangChain v0.2: A Leap Towards Stability\n",
            "Today, we're announcing the pre-release of LangChain v0.2, which improves the stability and security of LangChain.\n",
            "\n",
            "5 min read\n",
            "May 10, 2024' metadata={'source': 'https://blog.langchain.dev/langchain-v02-leap-to-stability/', 'loc': 'https://blog.langchain.dev/langchain-v02-leap-to-stability/', 'lastmod': '2024-05-16T22:26:07.000Z', '_id': '1a838750306d4d1daa2d1f37883d0afe', '_collection_name': '5bf60ce037cd4516bc1543842110400a'}\n",
            "----\n",
            "Context:\n",
            "page_content='LangChain v0.1.0\n",
            "\n",
            "\n",
            "\n",
            "\n",
            "\n",
            "\n",
            "\n",
            "\n",
            "\n",
            "\n",
            "\n",
            "\n",
            "\n",
            "\n",
            "\n",
            "\n",
            "\n",
            "\n",
            "\n",
            "\n",
            "\n",
            "\n",
            "\n",
            "\n",
            "\n",
            "\n",
            "\n",
            "\n",
            "\n",
            "\n",
            "\n",
            "\n",
            "\n",
            "\n",
            "\n",
            "\n",
            "\n",
            "\n",
            "\n",
            "\n",
            "\n",
            "\n",
            "\n",
            "\n",
            "\n",
            "\n",
            "\n",
            "\n",
            "\n",
            "\n",
            "\n",
            "\n",
            "Skip to content\n",
            "\n",
            "\n",
            "\n",
            "\n",
            "\n",
            "\n",
            "\n",
            "\n",
            "\n",
            "\n",
            "\n",
            "\n",
            "\n",
            "\n",
            "\n",
            "\n",
            "All Posts\n",
            "\n",
            "\n",
            "\n",
            "\n",
            "Case Studies\n",
            "\n",
            "\n",
            "\n",
            "\n",
            "In the Loop\n",
            "\n",
            "\n",
            "\n",
            "\n",
            "LangChain\n",
            "\n",
            "\n",
            "\n",
            "\n",
            "Docs\n",
            "\n",
            "\n",
            "\n",
            "\n",
            "Changelog\n",
            "\n",
            "\n",
            "\n",
            "\n",
            "\n",
            "Sign in\n",
            "Subscribe\n",
            "\n",
            "\n",
            "\n",
            "\n",
            "\n",
            "\n",
            "\n",
            "\n",
            "\n",
            "\n",
            "\n",
            "\n",
            "\n",
            "\n",
            "\n",
            "\n",
            "\n",
            "\n",
            "\n",
            "LangChain v0.1.0\n",
            "\n",
            "By LangChain\n",
            "10 min read\n",
            "Jan 8, 2024' metadata={'source': 'https://blog.langchain.dev/langchain-v0-1-0/', 'loc': 'https://blog.langchain.dev/langchain-v0-1-0/', 'lastmod': '2024-02-09T21:45:58.000Z', '_id': 'f5950553bbee431c84f11588269945a1', '_collection_name': '5bf60ce037cd4516bc1543842110400a'}\n",
            "----\n",
            "Context:\n",
            "page_content='streaming support30+ new partner packages.This is just a pre-release, with the full v0.2 release coming in a few weeks. Let’s dive into what langchain v0.2 will include.Embracing stability: The evolution of LangChain architectureOne of the most notable changes in langchain v0.2 is the decoupling of the langchain package from langchain-community. As a result, langchain-community now depends on langchain-core and langchain. This is a continuation of the work we began with langchain v0.1.0 to' metadata={'source': 'https://blog.langchain.dev/langchain-v02-leap-to-stability/', 'loc': 'https://blog.langchain.dev/langchain-v02-leap-to-stability/', 'lastmod': '2024-05-16T22:26:07.000Z', '_id': 'f26efbda3ea04dfb8b14dbed06ab13ca', '_collection_name': '5bf60ce037cd4516bc1543842110400a'}\n",
            "----\n"
          ]
        }
      ],
      "source": [
        "for context in response[\"context\"]:\n",
        "  print(\"Context:\")\n",
        "  print(context)\n",
        "  print(\"----\")"
      ]
    },
    {
      "cell_type": "markdown",
      "metadata": {
        "id": "nagiJ6l6noPL"
      },
      "source": [
        "Let's see if it can handle a query that is totally unrelated to the source documents."
      ]
    },
    {
      "cell_type": "code",
      "execution_count": 19,
      "metadata": {
        "id": "HOd2nJKZnsty"
      },
      "outputs": [],
      "source": [
        "response = retrieval_augmented_qa_chain.invoke({\"question\" : \"What is the airspeed velocity of an unladen swallow?\"})"
      ]
    },
    {
      "cell_type": "code",
      "execution_count": 20,
      "metadata": {
        "colab": {
          "base_uri": "https://localhost:8080/",
          "height": 105
        },
        "id": "TmLCKNGZLTh6",
        "outputId": "1478d061-7129-4b14-c717-c99d130a9488"
      },
      "outputs": [
        {
          "data": {
            "text/plain": [
              "'The airspeed velocity of an unladen swallow is a classic question that humorously references a scene from the film \"Monty Python and the Holy Grail.\" In the context of the film, the question is often posed without a straightforward answer, leading to comedic misunderstandings. \\n\\nHowever, if we consider the European swallow, which is often referenced, studies suggest that its airspeed velocity is approximately 11 meters per second, or about 24 miles per hour.'"
            ]
          },
          "execution_count": 20,
          "metadata": {},
          "output_type": "execute_result"
        }
      ],
      "source": [
        "response[\"response\"].content"
      ]
    },
    {
      "cell_type": "markdown",
      "metadata": {
        "id": "fJtSdDsXZXam"
      },
      "source": [
        "## Task 3: Setting Up LangSmith\n",
        "\n",
        "Now that we have a chain - we're ready to get started with LangSmith!\n",
        "\n",
        "We're going to go ahead and use the following `env` variables to get our Colab notebook set up to start reporting.\n",
        "\n",
        "If all you needed was simple monitoring - this is all you would need to do!"
      ]
    },
    {
      "cell_type": "code",
      "execution_count": 21,
      "metadata": {
        "id": "iqPdBXSBD4a-"
      },
      "outputs": [],
      "source": [
        "from uuid import uuid4\n",
        "\n",
        "unique_id = uuid4().hex[0:8]\n",
        "\n",
        "os.environ[\"LANGCHAIN_TRACING_V2\"] = \"true\"\n",
        "os.environ[\"LANGCHAIN_PROJECT\"] = f\"LangSmith - {unique_id}\""
      ]
    },
    {
      "cell_type": "markdown",
      "metadata": {
        "id": "Ms4msyKLaIr6"
      },
      "source": [
        "### LangSmith API\n",
        "\n",
        "In order to use LangSmith - you will need a beta key, you can join the queue through the `Beta Sign Up` button on LangSmith's homepage!\n",
        "\n",
        "Join [here](https://www.langchain.com/langsmith)"
      ]
    },
    {
      "cell_type": "code",
      "execution_count": 24,
      "metadata": {
        "colab": {
          "base_uri": "https://localhost:8080/"
        },
        "id": "MVq1EYngEMhV",
        "outputId": "5560a787-8114-4c72-b95a-6a776043427a"
      },
      "outputs": [],
      "source": [
        "os.environ[\"LANGCHAIN_API_KEY\"] = getpass.getpass('Enter your LangSmith API key: ')"
      ]
    },
    {
      "cell_type": "markdown",
      "metadata": {
        "id": "6qy0MMBLacXv"
      },
      "source": [
        "Let's test our our first generation!"
      ]
    },
    {
      "cell_type": "code",
      "execution_count": 25,
      "metadata": {
        "colab": {
          "base_uri": "https://localhost:8080/"
        },
        "id": "3eoqBtBQERXP",
        "outputId": "fc1ea857-6784-4e7e-9fd4-94fbdd9f693a"
      },
      "outputs": [
        {
          "data": {
            "text/plain": [
              "AIMessage(content='LangSmith is a framework built on top of LangChain, designed to enhance the development and observability of AI-powered applications, particularly those utilizing large language models (LLMs). It provides features for tracking and improving the reliability of LLM-related functions through tools like a sleek user interface and an SDK that allows for granular control and customization. Developers can implement LangSmith by adding a @traceable decorator to their functions, enabling better oversight of the development lifecycle and facilitating rapid iteration. LangSmith aims to streamline processes such as prompt engineering and source citation in applications, making it easier for teams to optimize and assess the quality of their products.', additional_kwargs={'refusal': None}, response_metadata={'token_usage': {'completion_tokens': 126, 'prompt_tokens': 930, 'total_tokens': 1056}, 'model_name': 'gpt-4o-mini-2024-07-18', 'system_fingerprint': 'fp_48196bc67a', 'finish_reason': 'stop', 'logprobs': None}, id='run-c6ea8263-2494-4d45-911c-b8f4f87c2b49-0', usage_metadata={'input_tokens': 930, 'output_tokens': 126, 'total_tokens': 1056})"
            ]
          },
          "execution_count": 25,
          "metadata": {},
          "output_type": "execute_result"
        }
      ],
      "source": [
        "retrieval_augmented_qa_chain.invoke({\"question\" : \"What is LangSmith?\"}, {\"tags\" : [\"Demo Run\"]})['response']"
      ]
    },
    {
      "cell_type": "markdown",
      "metadata": {
        "id": "oZxABFzPr2ny"
      },
      "source": [
        "## Task 4: Examining the Trace in LangSmith!\n",
        "\n",
        "Head on over to your LangSmith web UI to check out how the trace looks in LangSmith!"
      ]
    },
    {
      "cell_type": "markdown",
      "metadata": {
        "id": "c52o58AfsLK6"
      },
      "source": [
        "#### 🏗️ Activity #1:\n",
        "\n",
        "Include a screenshot of your trace and explain what it means."
      ]
    },
    {
      "attachments": {
        "image.png": {
          "image/png": "[encoded data removed]"
        }
      },
      "cell_type": "markdown",
      "metadata": {},
      "source": [
        "![image.png](attachment:image.png)"
      ]
    },
    {
      "cell_type": "markdown",
      "metadata": {
        "id": "fLxh0-thanXt"
      },
      "source": [
        "## Task 5: Loading Our Testing Set"
      ]
    },
    {
      "cell_type": "code",
      "execution_count": 26,
      "metadata": {
        "colab": {
          "base_uri": "https://localhost:8080/"
        },
        "id": "lsJ8uCbT7S1Z",
        "outputId": "cdcbe030-aae2-46da-8cb7-30811da9f87d"
      },
      "outputs": [
        {
          "name": "stderr",
          "output_type": "stream",
          "text": [
            "Cloning into 'DataRepository'...\n"
          ]
        }
      ],
      "source": [
        "!git clone https://github.com/AI-Maker-Space/DataRepository.git"
      ]
    },
    {
      "cell_type": "code",
      "execution_count": 28,
      "metadata": {},
      "outputs": [
        {
          "name": "stdout",
          "output_type": "stream",
          "text": [
            "Collecting pandas\n",
            "  Using cached pandas-2.2.2-cp310-cp310-win_amd64.whl.metadata (19 kB)\n",
            "Requirement already satisfied: numpy>=1.22.4 in c:\\users\\andre\\onedrive\\documents\\aie4\\aie4\\week 2\\day 2\\.venv\\lib\\site-packages (from pandas) (1.26.4)\n",
            "Requirement already satisfied: python-dateutil>=2.8.2 in c:\\users\\andre\\onedrive\\documents\\aie4\\aie4\\week 2\\day 2\\.venv\\lib\\site-packages (from pandas) (2.9.0.post0)\n",
            "Collecting pytz>=2020.1 (from pandas)\n",
            "  Using cached pytz-2024.1-py2.py3-none-any.whl.metadata (22 kB)\n",
            "Collecting tzdata>=2022.7 (from pandas)\n",
            "  Using cached tzdata-2024.1-py2.py3-none-any.whl.metadata (1.4 kB)\n",
            "Requirement already satisfied: six>=1.5 in c:\\users\\andre\\onedrive\\documents\\aie4\\aie4\\week 2\\day 2\\.venv\\lib\\site-packages (from python-dateutil>=2.8.2->pandas) (1.16.0)\n",
            "Using cached pandas-2.2.2-cp310-cp310-win_amd64.whl (11.6 MB)\n",
            "Using cached pytz-2024.1-py2.py3-none-any.whl (505 kB)\n",
            "Using cached tzdata-2024.1-py2.py3-none-any.whl (345 kB)\n",
            "Installing collected packages: pytz, tzdata, pandas\n",
            "Successfully installed pandas-2.2.2 pytz-2024.1 tzdata-2024.1\n",
            "Note: you may need to restart the kernel to use updated packages.\n"
          ]
        }
      ],
      "source": [
        "%pip install pandas"
      ]
    },
    {
      "cell_type": "code",
      "execution_count": 29,
      "metadata": {
        "id": "w5fmy5Gy7X03"
      },
      "outputs": [],
      "source": [
        "import pandas as pd\n",
        "\n",
        "test_df = pd.read_csv(\"DataRepository/langchain_blog_test_data.csv\")"
      ]
    },
    {
      "cell_type": "markdown",
      "metadata": {
        "id": "nyBtPs7p9Mbz"
      },
      "source": [
        "Now we can set up our LangSmith client - and we'll add the above created dataset to our LangSmith instance!\n",
        "\n",
        "> NOTE: Read more about this process [here](https://docs.smith.langchain.com/old/evaluation/faq/manage-datasets#create-from-list-of-values)"
      ]
    },
    {
      "cell_type": "code",
      "execution_count": 30,
      "metadata": {
        "id": "T9exE2e6F3gF"
      },
      "outputs": [],
      "source": [
        "from langsmith import Client\n",
        "\n",
        "client = Client()\n",
        "\n",
        "dataset_name = \"langsmith-demo-dataset-aie4-triples-v3\"\n",
        "\n",
        "dataset = client.create_dataset(\n",
        "    dataset_name=dataset_name, description=\"LangChain Blog Test Questions\"\n",
        ")\n",
        "\n",
        "for triplet in test_df.iterrows():\n",
        "  triplet = triplet[1]\n",
        "  client.create_example(\n",
        "      inputs={\"question\" : triplet[\"question\"], \"context\": triplet[\"context\"]},\n",
        "      outputs={\"answer\" : triplet[\"answer\"]},\n",
        "      dataset_id=dataset.id\n",
        "  )"
      ]
    },
    {
      "cell_type": "markdown",
      "metadata": {
        "id": "QXgi14vSbFIc"
      },
      "source": [
        "## Task 6: Evaluation\n",
        "\n",
        "Now we can run the evaluation!\n",
        "\n",
        "We'll need to start by preparing some custom data preparation functions to ensure our chain works with the expected inputs/outputs from the `evaluate` process in LangSmith.\n",
        "\n",
        "> NOTE: More reading on this available [here](https://docs.smith.langchain.com/how_to_guides/evaluation/evaluate_llm_application#evaluate-a-langchain-runnable)"
      ]
    },
    {
      "cell_type": "code",
      "execution_count": 31,
      "metadata": {
        "id": "fbjnv3bMwQKg"
      },
      "outputs": [],
      "source": [
        "def prepare_data_ref(run, example):\n",
        "  return {\n",
        "      \"prediction\" : run.outputs[\"response\"],\n",
        "      \"reference\" : example.outputs[\"answer\"],\n",
        "      \"input\" : example.inputs[\"question\"]\n",
        "  }\n",
        "\n",
        "def prepare_data_noref(run, example):\n",
        "  return {\n",
        "      \"prediction\" : run.outputs[\"response\"],\n",
        "      \"input\" : example.inputs[\"question\"]\n",
        "  }\n",
        "\n",
        "def prepare_context_ref(run, example):\n",
        "  return {\n",
        "      \"prediction\" : run.outputs[\"response\"],\n",
        "      \"reference\" : example.inputs[\"context\"],\n",
        "      \"input\" : example.inputs[\"question\"]\n",
        "  }"
      ]
    },
    {
      "cell_type": "markdown",
      "metadata": {
        "id": "OuwnMdtl9nwz"
      },
      "source": [
        "We'll be using a few custom evaluators to evaluate our pipeline, as well as a few \"built in\" methods!\n",
        "\n",
        "Check out the built-ins [here](https://docs.smith.langchain.com/reference/sdk_reference/langchain_evaluators)!"
      ]
    },
    {
      "cell_type": "code",
      "execution_count": 35,
      "metadata": {},
      "outputs": [
        {
          "name": "stdout",
          "output_type": "stream",
          "text": [
            "langsmith-demo-dataset-aie4-triples-v3\n"
          ]
        }
      ],
      "source": [
        "print(dataset_name)"
      ]
    },
    {
      "cell_type": "code",
      "execution_count": 38,
      "metadata": {
        "colab": {
          "base_uri": "https://localhost:8080/",
          "height": 118,
          "referenced_widgets": [
            "501c5e204387460e8e9a585c9b2ca834",
            "323a077888c84bdfbac393d1ebef9d6c",
            "710fe93f3241401bafa10a1e0a1bda02",
            "c65a6921701742da9b67c591b19b6336",
            "17d4193e78a14050a11c5f8306b3ba0b",
            "99751d16888640078ae4820cacab5760",
            "a8f5f4beaa8f4a3b94002c5ed122c2a7",
            "54e7ccad2e774261a3313316a1397f66",
            "41e287b8dc674f839b6485c9606207d5",
            "f7457f38948d472da4027ba1566b47e4",
            "af61b863014d4a8c960570de31a02b3f"
          ]
        },
        "id": "CENtd4K_IQa3",
        "outputId": "872581e4-9c21-414f-d25e-9454c47c0587"
      },
      "outputs": [
        {
          "name": "stdout",
          "output_type": "stream",
          "text": [
            "View the evaluation results for experiment: 'Base RAG Evaluation-5a9d1dc7' at:\n",
            "https://smith.langchain.com/o/f206ace4-4b0e-5c71-8a93-a9d86db68d52/datasets/c8436578-2b16-47a7-9562-b0d470adf1bf/compare?selectedSessions=0296e77f-9a13-4c5d-86ba-d629ee5ba2d7\n",
            "\n",
            "\n"
          ]
        },
        {
          "name": "stderr",
          "output_type": "stream",
          "text": [
            "8it [00:15,  1.72s/it]Error running evaluator <DynamicRunEvaluator evaluate> on run 6d45ac39-fa75-4239-9b61-0edf691bf42f: RateLimitError(\"Error code: 429 - {'error': {'message': 'Rate limit reached for gpt-4 in organization org-fbkOjwsGtPad9VnnUDcR750s on tokens per min (TPM): Limit 10000, Used 9266, Requested 1372. Please try again in 3.827s. Visit https://platform.openai.com/account/rate-limits to learn more.', 'type': 'tokens', 'param': None, 'code': 'rate_limit_exceeded'}}\")\n",
            "Traceback (most recent call last):\n",
            "  File \"c:\\Users\\andre\\OneDrive\\Documents\\AIE4\\AIE4\\Week 2\\Day 2\\.venv\\lib\\site-packages\\langsmith\\evaluation\\_runner.py\", line 1267, in _run_evaluators\n",
            "    evaluator_response = evaluator.evaluate_run(\n",
            "  File \"c:\\Users\\andre\\OneDrive\\Documents\\AIE4\\AIE4\\Week 2\\Day 2\\.venv\\lib\\site-packages\\langsmith\\evaluation\\evaluator.py\", line 278, in evaluate_run\n",
            "    result = self.func(\n",
            "  File \"c:\\Users\\andre\\OneDrive\\Documents\\AIE4\\AIE4\\Week 2\\Day 2\\.venv\\lib\\site-packages\\langsmith\\run_helpers.py\", line 609, in wrapper\n",
            "    raise e\n",
            "  File \"c:\\Users\\andre\\OneDrive\\Documents\\AIE4\\AIE4\\Week 2\\Day 2\\.venv\\lib\\site-packages\\langsmith\\run_helpers.py\", line 606, in wrapper\n",
            "    function_result = run_container[\"context\"].run(func, *args, **kwargs)\n",
            "  File \"c:\\Users\\andre\\OneDrive\\Documents\\AIE4\\AIE4\\Week 2\\Day 2\\.venv\\lib\\site-packages\\langsmith\\evaluation\\integrations\\_langchain.py\", line 260, in evaluate\n",
            "    results = self.evaluator.evaluate_strings(**eval_inputs)\n",
            "  File \"c:\\Users\\andre\\OneDrive\\Documents\\AIE4\\AIE4\\Week 2\\Day 2\\.venv\\lib\\site-packages\\langchain\\evaluation\\schema.py\", line 220, in evaluate_strings\n",
            "    return self._evaluate_strings(\n",
            "  File \"c:\\Users\\andre\\OneDrive\\Documents\\AIE4\\AIE4\\Week 2\\Day 2\\.venv\\lib\\site-packages\\langchain\\evaluation\\qa\\eval_chain.py\", line 303, in _evaluate_strings\n",
            "    result = self(\n",
            "  File \"c:\\Users\\andre\\OneDrive\\Documents\\AIE4\\AIE4\\Week 2\\Day 2\\.venv\\lib\\site-packages\\langchain_core\\_api\\deprecation.py\", line 170, in warning_emitting_wrapper\n",
            "    return wrapped(*args, **kwargs)\n",
            "  File \"c:\\Users\\andre\\OneDrive\\Documents\\AIE4\\AIE4\\Week 2\\Day 2\\.venv\\lib\\site-packages\\langchain\\chains\\base.py\", line 381, in __call__\n",
            "    return self.invoke(\n",
            "  File \"c:\\Users\\andre\\OneDrive\\Documents\\AIE4\\AIE4\\Week 2\\Day 2\\.venv\\lib\\site-packages\\langchain\\chains\\base.py\", line 164, in invoke\n",
            "    raise e\n",
            "  File \"c:\\Users\\andre\\OneDrive\\Documents\\AIE4\\AIE4\\Week 2\\Day 2\\.venv\\lib\\site-packages\\langchain\\chains\\base.py\", line 154, in invoke\n",
            "    self._call(inputs, run_manager=run_manager)\n",
            "  File \"c:\\Users\\andre\\OneDrive\\Documents\\AIE4\\AIE4\\Week 2\\Day 2\\.venv\\lib\\site-packages\\langchain\\chains\\llm.py\", line 126, in _call\n",
            "    response = self.generate([inputs], run_manager=run_manager)\n",
            "  File \"c:\\Users\\andre\\OneDrive\\Documents\\AIE4\\AIE4\\Week 2\\Day 2\\.venv\\lib\\site-packages\\langchain\\chains\\llm.py\", line 138, in generate\n",
            "    return self.llm.generate_prompt(\n",
            "  File \"c:\\Users\\andre\\OneDrive\\Documents\\AIE4\\AIE4\\Week 2\\Day 2\\.venv\\lib\\site-packages\\langchain_core\\language_models\\chat_models.py\", line 776, in generate_prompt\n",
            "    return self.generate(prompt_messages, stop=stop, callbacks=callbacks, **kwargs)\n",
            "  File \"c:\\Users\\andre\\OneDrive\\Documents\\AIE4\\AIE4\\Week 2\\Day 2\\.venv\\lib\\site-packages\\langchain_core\\language_models\\chat_models.py\", line 633, in generate\n",
            "    raise e\n",
            "  File \"c:\\Users\\andre\\OneDrive\\Documents\\AIE4\\AIE4\\Week 2\\Day 2\\.venv\\lib\\site-packages\\langchain_core\\language_models\\chat_models.py\", line 623, in generate\n",
            "    self._generate_with_cache(\n",
            "  File \"c:\\Users\\andre\\OneDrive\\Documents\\AIE4\\AIE4\\Week 2\\Day 2\\.venv\\lib\\site-packages\\langchain_core\\language_models\\chat_models.py\", line 845, in _generate_with_cache\n",
            "    result = self._generate(\n",
            "  File \"c:\\Users\\andre\\OneDrive\\Documents\\AIE4\\AIE4\\Week 2\\Day 2\\.venv\\lib\\site-packages\\langchain_openai\\chat_models\\base.py\", line 635, in _generate\n",
            "    response = self.client.create(**payload)\n",
            "  File \"c:\\Users\\andre\\OneDrive\\Documents\\AIE4\\AIE4\\Week 2\\Day 2\\.venv\\lib\\site-packages\\openai\\_utils\\_utils.py\", line 274, in wrapper\n",
            "    return func(*args, **kwargs)\n",
            "  File \"c:\\Users\\andre\\OneDrive\\Documents\\AIE4\\AIE4\\Week 2\\Day 2\\.venv\\lib\\site-packages\\openai\\resources\\chat\\completions.py\", line 668, in create\n",
            "    return self._post(\n",
            "  File \"c:\\Users\\andre\\OneDrive\\Documents\\AIE4\\AIE4\\Week 2\\Day 2\\.venv\\lib\\site-packages\\openai\\_base_client.py\", line 1260, in post\n",
            "    return cast(ResponseT, self.request(cast_to, opts, stream=stream, stream_cls=stream_cls))\n",
            "  File \"c:\\Users\\andre\\OneDrive\\Documents\\AIE4\\AIE4\\Week 2\\Day 2\\.venv\\lib\\site-packages\\openai\\_base_client.py\", line 937, in request\n",
            "    return self._request(\n",
            "  File \"c:\\Users\\andre\\OneDrive\\Documents\\AIE4\\AIE4\\Week 2\\Day 2\\.venv\\lib\\site-packages\\openai\\_base_client.py\", line 1026, in _request\n",
            "    return self._retry_request(\n",
            "  File \"c:\\Users\\andre\\OneDrive\\Documents\\AIE4\\AIE4\\Week 2\\Day 2\\.venv\\lib\\site-packages\\openai\\_base_client.py\", line 1075, in _retry_request\n",
            "    return self._request(\n",
            "  File \"c:\\Users\\andre\\OneDrive\\Documents\\AIE4\\AIE4\\Week 2\\Day 2\\.venv\\lib\\site-packages\\openai\\_base_client.py\", line 1026, in _request\n",
            "    return self._retry_request(\n",
            "  File \"c:\\Users\\andre\\OneDrive\\Documents\\AIE4\\AIE4\\Week 2\\Day 2\\.venv\\lib\\site-packages\\openai\\_base_client.py\", line 1075, in _retry_request\n",
            "    return self._request(\n",
            "  File \"c:\\Users\\andre\\OneDrive\\Documents\\AIE4\\AIE4\\Week 2\\Day 2\\.venv\\lib\\site-packages\\openai\\_base_client.py\", line 1041, in _request\n",
            "    raise self._make_status_error_from_response(err.response) from None\n",
            "openai.RateLimitError: Error code: 429 - {'error': {'message': 'Rate limit reached for gpt-4 in organization org-fbkOjwsGtPad9VnnUDcR750s on tokens per min (TPM): Limit 10000, Used 9266, Requested 1372. Please try again in 3.827s. Visit https://platform.openai.com/account/rate-limits to learn more.', 'type': 'tokens', 'param': None, 'code': 'rate_limit_exceeded'}}\n",
            "9it [00:16,  1.55s/it]Error running evaluator <DynamicRunEvaluator evaluate> on run c10bbcce-1894-4586-ae3d-a973e35cfbfe: RateLimitError(\"Error code: 429 - {'error': {'message': 'Rate limit reached for gpt-4 in organization org-fbkOjwsGtPad9VnnUDcR750s on tokens per min (TPM): Limit 10000, Used 9670, Requested 1528. Please try again in 7.188s. Visit https://platform.openai.com/account/rate-limits to learn more.', 'type': 'tokens', 'param': None, 'code': 'rate_limit_exceeded'}}\")\n",
            "Traceback (most recent call last):\n",
            "  File \"c:\\Users\\andre\\OneDrive\\Documents\\AIE4\\AIE4\\Week 2\\Day 2\\.venv\\lib\\site-packages\\langsmith\\evaluation\\_runner.py\", line 1267, in _run_evaluators\n",
            "    evaluator_response = evaluator.evaluate_run(\n",
            "  File \"c:\\Users\\andre\\OneDrive\\Documents\\AIE4\\AIE4\\Week 2\\Day 2\\.venv\\lib\\site-packages\\langsmith\\evaluation\\evaluator.py\", line 278, in evaluate_run\n",
            "    result = self.func(\n",
            "  File \"c:\\Users\\andre\\OneDrive\\Documents\\AIE4\\AIE4\\Week 2\\Day 2\\.venv\\lib\\site-packages\\langsmith\\run_helpers.py\", line 609, in wrapper\n",
            "    raise e\n",
            "  File \"c:\\Users\\andre\\OneDrive\\Documents\\AIE4\\AIE4\\Week 2\\Day 2\\.venv\\lib\\site-packages\\langsmith\\run_helpers.py\", line 606, in wrapper\n",
            "    function_result = run_container[\"context\"].run(func, *args, **kwargs)\n",
            "  File \"c:\\Users\\andre\\OneDrive\\Documents\\AIE4\\AIE4\\Week 2\\Day 2\\.venv\\lib\\site-packages\\langsmith\\evaluation\\integrations\\_langchain.py\", line 260, in evaluate\n",
            "    results = self.evaluator.evaluate_strings(**eval_inputs)\n",
            "  File \"c:\\Users\\andre\\OneDrive\\Documents\\AIE4\\AIE4\\Week 2\\Day 2\\.venv\\lib\\site-packages\\langchain\\evaluation\\schema.py\", line 220, in evaluate_strings\n",
            "    return self._evaluate_strings(\n",
            "  File \"c:\\Users\\andre\\OneDrive\\Documents\\AIE4\\AIE4\\Week 2\\Day 2\\.venv\\lib\\site-packages\\langchain\\evaluation\\qa\\eval_chain.py\", line 303, in _evaluate_strings\n",
            "    result = self(\n",
            "  File \"c:\\Users\\andre\\OneDrive\\Documents\\AIE4\\AIE4\\Week 2\\Day 2\\.venv\\lib\\site-packages\\langchain_core\\_api\\deprecation.py\", line 170, in warning_emitting_wrapper\n",
            "    return wrapped(*args, **kwargs)\n",
            "  File \"c:\\Users\\andre\\OneDrive\\Documents\\AIE4\\AIE4\\Week 2\\Day 2\\.venv\\lib\\site-packages\\langchain\\chains\\base.py\", line 381, in __call__\n",
            "    return self.invoke(\n",
            "  File \"c:\\Users\\andre\\OneDrive\\Documents\\AIE4\\AIE4\\Week 2\\Day 2\\.venv\\lib\\site-packages\\langchain\\chains\\base.py\", line 164, in invoke\n",
            "    raise e\n",
            "  File \"c:\\Users\\andre\\OneDrive\\Documents\\AIE4\\AIE4\\Week 2\\Day 2\\.venv\\lib\\site-packages\\langchain\\chains\\base.py\", line 154, in invoke\n",
            "    self._call(inputs, run_manager=run_manager)\n",
            "  File \"c:\\Users\\andre\\OneDrive\\Documents\\AIE4\\AIE4\\Week 2\\Day 2\\.venv\\lib\\site-packages\\langchain\\chains\\llm.py\", line 126, in _call\n",
            "    response = self.generate([inputs], run_manager=run_manager)\n",
            "  File \"c:\\Users\\andre\\OneDrive\\Documents\\AIE4\\AIE4\\Week 2\\Day 2\\.venv\\lib\\site-packages\\langchain\\chains\\llm.py\", line 138, in generate\n",
            "    return self.llm.generate_prompt(\n",
            "  File \"c:\\Users\\andre\\OneDrive\\Documents\\AIE4\\AIE4\\Week 2\\Day 2\\.venv\\lib\\site-packages\\langchain_core\\language_models\\chat_models.py\", line 776, in generate_prompt\n",
            "    return self.generate(prompt_messages, stop=stop, callbacks=callbacks, **kwargs)\n",
            "  File \"c:\\Users\\andre\\OneDrive\\Documents\\AIE4\\AIE4\\Week 2\\Day 2\\.venv\\lib\\site-packages\\langchain_core\\language_models\\chat_models.py\", line 633, in generate\n",
            "    raise e\n",
            "  File \"c:\\Users\\andre\\OneDrive\\Documents\\AIE4\\AIE4\\Week 2\\Day 2\\.venv\\lib\\site-packages\\langchain_core\\language_models\\chat_models.py\", line 623, in generate\n",
            "    self._generate_with_cache(\n",
            "  File \"c:\\Users\\andre\\OneDrive\\Documents\\AIE4\\AIE4\\Week 2\\Day 2\\.venv\\lib\\site-packages\\langchain_core\\language_models\\chat_models.py\", line 845, in _generate_with_cache\n",
            "    result = self._generate(\n",
            "  File \"c:\\Users\\andre\\OneDrive\\Documents\\AIE4\\AIE4\\Week 2\\Day 2\\.venv\\lib\\site-packages\\langchain_openai\\chat_models\\base.py\", line 635, in _generate\n",
            "    response = self.client.create(**payload)\n",
            "  File \"c:\\Users\\andre\\OneDrive\\Documents\\AIE4\\AIE4\\Week 2\\Day 2\\.venv\\lib\\site-packages\\openai\\_utils\\_utils.py\", line 274, in wrapper\n",
            "    return func(*args, **kwargs)\n",
            "  File \"c:\\Users\\andre\\OneDrive\\Documents\\AIE4\\AIE4\\Week 2\\Day 2\\.venv\\lib\\site-packages\\openai\\resources\\chat\\completions.py\", line 668, in create\n",
            "    return self._post(\n",
            "  File \"c:\\Users\\andre\\OneDrive\\Documents\\AIE4\\AIE4\\Week 2\\Day 2\\.venv\\lib\\site-packages\\openai\\_base_client.py\", line 1260, in post\n",
            "    return cast(ResponseT, self.request(cast_to, opts, stream=stream, stream_cls=stream_cls))\n",
            "  File \"c:\\Users\\andre\\OneDrive\\Documents\\AIE4\\AIE4\\Week 2\\Day 2\\.venv\\lib\\site-packages\\openai\\_base_client.py\", line 937, in request\n",
            "    return self._request(\n",
            "  File \"c:\\Users\\andre\\OneDrive\\Documents\\AIE4\\AIE4\\Week 2\\Day 2\\.venv\\lib\\site-packages\\openai\\_base_client.py\", line 1026, in _request\n",
            "    return self._retry_request(\n",
            "  File \"c:\\Users\\andre\\OneDrive\\Documents\\AIE4\\AIE4\\Week 2\\Day 2\\.venv\\lib\\site-packages\\openai\\_base_client.py\", line 1075, in _retry_request\n",
            "    return self._request(\n",
            "  File \"c:\\Users\\andre\\OneDrive\\Documents\\AIE4\\AIE4\\Week 2\\Day 2\\.venv\\lib\\site-packages\\openai\\_base_client.py\", line 1026, in _request\n",
            "    return self._retry_request(\n",
            "  File \"c:\\Users\\andre\\OneDrive\\Documents\\AIE4\\AIE4\\Week 2\\Day 2\\.venv\\lib\\site-packages\\openai\\_base_client.py\", line 1075, in _retry_request\n",
            "    return self._request(\n",
            "  File \"c:\\Users\\andre\\OneDrive\\Documents\\AIE4\\AIE4\\Week 2\\Day 2\\.venv\\lib\\site-packages\\openai\\_base_client.py\", line 1041, in _request\n",
            "    raise self._make_status_error_from_response(err.response) from None\n",
            "openai.RateLimitError: Error code: 429 - {'error': {'message': 'Rate limit reached for gpt-4 in organization org-fbkOjwsGtPad9VnnUDcR750s on tokens per min (TPM): Limit 10000, Used 9670, Requested 1528. Please try again in 7.188s. Visit https://platform.openai.com/account/rate-limits to learn more.', 'type': 'tokens', 'param': None, 'code': 'rate_limit_exceeded'}}\n",
            "10it [00:17,  1.31s/it]Error running evaluator <DynamicRunEvaluator evaluate> on run 38429955-cb18-4bb1-a3a3-0483784d2099: RateLimitError(\"Error code: 429 - {'error': {'message': 'Rate limit reached for gpt-4 in organization org-fbkOjwsGtPad9VnnUDcR750s on tokens per min (TPM): Limit 10000, Used 9612, Requested 1687. Please try again in 7.793s. Visit https://platform.openai.com/account/rate-limits to learn more.', 'type': 'tokens', 'param': None, 'code': 'rate_limit_exceeded'}}\")\n",
            "Traceback (most recent call last):\n",
            "  File \"c:\\Users\\andre\\OneDrive\\Documents\\AIE4\\AIE4\\Week 2\\Day 2\\.venv\\lib\\site-packages\\langsmith\\evaluation\\_runner.py\", line 1267, in _run_evaluators\n",
            "    evaluator_response = evaluator.evaluate_run(\n",
            "  File \"c:\\Users\\andre\\OneDrive\\Documents\\AIE4\\AIE4\\Week 2\\Day 2\\.venv\\lib\\site-packages\\langsmith\\evaluation\\evaluator.py\", line 278, in evaluate_run\n",
            "    result = self.func(\n",
            "  File \"c:\\Users\\andre\\OneDrive\\Documents\\AIE4\\AIE4\\Week 2\\Day 2\\.venv\\lib\\site-packages\\langsmith\\run_helpers.py\", line 609, in wrapper\n",
            "    raise e\n",
            "  File \"c:\\Users\\andre\\OneDrive\\Documents\\AIE4\\AIE4\\Week 2\\Day 2\\.venv\\lib\\site-packages\\langsmith\\run_helpers.py\", line 606, in wrapper\n",
            "    function_result = run_container[\"context\"].run(func, *args, **kwargs)\n",
            "  File \"c:\\Users\\andre\\OneDrive\\Documents\\AIE4\\AIE4\\Week 2\\Day 2\\.venv\\lib\\site-packages\\langsmith\\evaluation\\integrations\\_langchain.py\", line 260, in evaluate\n",
            "    results = self.evaluator.evaluate_strings(**eval_inputs)\n",
            "  File \"c:\\Users\\andre\\OneDrive\\Documents\\AIE4\\AIE4\\Week 2\\Day 2\\.venv\\lib\\site-packages\\langchain\\evaluation\\schema.py\", line 220, in evaluate_strings\n",
            "    return self._evaluate_strings(\n",
            "  File \"c:\\Users\\andre\\OneDrive\\Documents\\AIE4\\AIE4\\Week 2\\Day 2\\.venv\\lib\\site-packages\\langchain\\evaluation\\qa\\eval_chain.py\", line 303, in _evaluate_strings\n",
            "    result = self(\n",
            "  File \"c:\\Users\\andre\\OneDrive\\Documents\\AIE4\\AIE4\\Week 2\\Day 2\\.venv\\lib\\site-packages\\langchain_core\\_api\\deprecation.py\", line 170, in warning_emitting_wrapper\n",
            "    return wrapped(*args, **kwargs)\n",
            "  File \"c:\\Users\\andre\\OneDrive\\Documents\\AIE4\\AIE4\\Week 2\\Day 2\\.venv\\lib\\site-packages\\langchain\\chains\\base.py\", line 381, in __call__\n",
            "    return self.invoke(\n",
            "  File \"c:\\Users\\andre\\OneDrive\\Documents\\AIE4\\AIE4\\Week 2\\Day 2\\.venv\\lib\\site-packages\\langchain\\chains\\base.py\", line 164, in invoke\n",
            "    raise e\n",
            "  File \"c:\\Users\\andre\\OneDrive\\Documents\\AIE4\\AIE4\\Week 2\\Day 2\\.venv\\lib\\site-packages\\langchain\\chains\\base.py\", line 154, in invoke\n",
            "    self._call(inputs, run_manager=run_manager)\n",
            "  File \"c:\\Users\\andre\\OneDrive\\Documents\\AIE4\\AIE4\\Week 2\\Day 2\\.venv\\lib\\site-packages\\langchain\\chains\\llm.py\", line 126, in _call\n",
            "    response = self.generate([inputs], run_manager=run_manager)\n",
            "  File \"c:\\Users\\andre\\OneDrive\\Documents\\AIE4\\AIE4\\Week 2\\Day 2\\.venv\\lib\\site-packages\\langchain\\chains\\llm.py\", line 138, in generate\n",
            "    return self.llm.generate_prompt(\n",
            "  File \"c:\\Users\\andre\\OneDrive\\Documents\\AIE4\\AIE4\\Week 2\\Day 2\\.venv\\lib\\site-packages\\langchain_core\\language_models\\chat_models.py\", line 776, in generate_prompt\n",
            "    return self.generate(prompt_messages, stop=stop, callbacks=callbacks, **kwargs)\n",
            "  File \"c:\\Users\\andre\\OneDrive\\Documents\\AIE4\\AIE4\\Week 2\\Day 2\\.venv\\lib\\site-packages\\langchain_core\\language_models\\chat_models.py\", line 633, in generate\n",
            "    raise e\n",
            "  File \"c:\\Users\\andre\\OneDrive\\Documents\\AIE4\\AIE4\\Week 2\\Day 2\\.venv\\lib\\site-packages\\langchain_core\\language_models\\chat_models.py\", line 623, in generate\n",
            "    self._generate_with_cache(\n",
            "  File \"c:\\Users\\andre\\OneDrive\\Documents\\AIE4\\AIE4\\Week 2\\Day 2\\.venv\\lib\\site-packages\\langchain_core\\language_models\\chat_models.py\", line 845, in _generate_with_cache\n",
            "    result = self._generate(\n",
            "  File \"c:\\Users\\andre\\OneDrive\\Documents\\AIE4\\AIE4\\Week 2\\Day 2\\.venv\\lib\\site-packages\\langchain_openai\\chat_models\\base.py\", line 635, in _generate\n",
            "    response = self.client.create(**payload)\n",
            "  File \"c:\\Users\\andre\\OneDrive\\Documents\\AIE4\\AIE4\\Week 2\\Day 2\\.venv\\lib\\site-packages\\openai\\_utils\\_utils.py\", line 274, in wrapper\n",
            "    return func(*args, **kwargs)\n",
            "  File \"c:\\Users\\andre\\OneDrive\\Documents\\AIE4\\AIE4\\Week 2\\Day 2\\.venv\\lib\\site-packages\\openai\\resources\\chat\\completions.py\", line 668, in create\n",
            "    return self._post(\n",
            "  File \"c:\\Users\\andre\\OneDrive\\Documents\\AIE4\\AIE4\\Week 2\\Day 2\\.venv\\lib\\site-packages\\openai\\_base_client.py\", line 1260, in post\n",
            "    return cast(ResponseT, self.request(cast_to, opts, stream=stream, stream_cls=stream_cls))\n",
            "  File \"c:\\Users\\andre\\OneDrive\\Documents\\AIE4\\AIE4\\Week 2\\Day 2\\.venv\\lib\\site-packages\\openai\\_base_client.py\", line 937, in request\n",
            "    return self._request(\n",
            "  File \"c:\\Users\\andre\\OneDrive\\Documents\\AIE4\\AIE4\\Week 2\\Day 2\\.venv\\lib\\site-packages\\openai\\_base_client.py\", line 1026, in _request\n",
            "    return self._retry_request(\n",
            "  File \"c:\\Users\\andre\\OneDrive\\Documents\\AIE4\\AIE4\\Week 2\\Day 2\\.venv\\lib\\site-packages\\openai\\_base_client.py\", line 1075, in _retry_request\n",
            "    return self._request(\n",
            "  File \"c:\\Users\\andre\\OneDrive\\Documents\\AIE4\\AIE4\\Week 2\\Day 2\\.venv\\lib\\site-packages\\openai\\_base_client.py\", line 1026, in _request\n",
            "    return self._retry_request(\n",
            "  File \"c:\\Users\\andre\\OneDrive\\Documents\\AIE4\\AIE4\\Week 2\\Day 2\\.venv\\lib\\site-packages\\openai\\_base_client.py\", line 1075, in _retry_request\n",
            "    return self._request(\n",
            "  File \"c:\\Users\\andre\\OneDrive\\Documents\\AIE4\\AIE4\\Week 2\\Day 2\\.venv\\lib\\site-packages\\openai\\_base_client.py\", line 1041, in _request\n",
            "    raise self._make_status_error_from_response(err.response) from None\n",
            "openai.RateLimitError: Error code: 429 - {'error': {'message': 'Rate limit reached for gpt-4 in organization org-fbkOjwsGtPad9VnnUDcR750s on tokens per min (TPM): Limit 10000, Used 9612, Requested 1687. Please try again in 7.793s. Visit https://platform.openai.com/account/rate-limits to learn more.', 'type': 'tokens', 'param': None, 'code': 'rate_limit_exceeded'}}\n",
            "11it [00:17,  1.03s/it]Error running evaluator <DynamicRunEvaluator evaluate> on run 3fe7b48e-e54c-4fdc-ae38-80d4edfdfb69: RateLimitError(\"Error code: 429 - {'error': {'message': 'Rate limit reached for gpt-4 in organization org-fbkOjwsGtPad9VnnUDcR750s on tokens per min (TPM): Limit 10000, Used 9939, Requested 1247. Please try again in 7.116s. Visit https://platform.openai.com/account/rate-limits to learn more.', 'type': 'tokens', 'param': None, 'code': 'rate_limit_exceeded'}}\")\n",
            "Traceback (most recent call last):\n",
            "  File \"c:\\Users\\andre\\OneDrive\\Documents\\AIE4\\AIE4\\Week 2\\Day 2\\.venv\\lib\\site-packages\\langsmith\\evaluation\\_runner.py\", line 1267, in _run_evaluators\n",
            "    evaluator_response = evaluator.evaluate_run(\n",
            "  File \"c:\\Users\\andre\\OneDrive\\Documents\\AIE4\\AIE4\\Week 2\\Day 2\\.venv\\lib\\site-packages\\langsmith\\evaluation\\evaluator.py\", line 278, in evaluate_run\n",
            "    result = self.func(\n",
            "  File \"c:\\Users\\andre\\OneDrive\\Documents\\AIE4\\AIE4\\Week 2\\Day 2\\.venv\\lib\\site-packages\\langsmith\\run_helpers.py\", line 609, in wrapper\n",
            "    raise e\n",
            "  File \"c:\\Users\\andre\\OneDrive\\Documents\\AIE4\\AIE4\\Week 2\\Day 2\\.venv\\lib\\site-packages\\langsmith\\run_helpers.py\", line 606, in wrapper\n",
            "    function_result = run_container[\"context\"].run(func, *args, **kwargs)\n",
            "  File \"c:\\Users\\andre\\OneDrive\\Documents\\AIE4\\AIE4\\Week 2\\Day 2\\.venv\\lib\\site-packages\\langsmith\\evaluation\\integrations\\_langchain.py\", line 260, in evaluate\n",
            "    results = self.evaluator.evaluate_strings(**eval_inputs)\n",
            "  File \"c:\\Users\\andre\\OneDrive\\Documents\\AIE4\\AIE4\\Week 2\\Day 2\\.venv\\lib\\site-packages\\langchain\\evaluation\\schema.py\", line 220, in evaluate_strings\n",
            "    return self._evaluate_strings(\n",
            "  File \"c:\\Users\\andre\\OneDrive\\Documents\\AIE4\\AIE4\\Week 2\\Day 2\\.venv\\lib\\site-packages\\langchain\\evaluation\\qa\\eval_chain.py\", line 303, in _evaluate_strings\n",
            "    result = self(\n",
            "  File \"c:\\Users\\andre\\OneDrive\\Documents\\AIE4\\AIE4\\Week 2\\Day 2\\.venv\\lib\\site-packages\\langchain_core\\_api\\deprecation.py\", line 170, in warning_emitting_wrapper\n",
            "    return wrapped(*args, **kwargs)\n",
            "  File \"c:\\Users\\andre\\OneDrive\\Documents\\AIE4\\AIE4\\Week 2\\Day 2\\.venv\\lib\\site-packages\\langchain\\chains\\base.py\", line 381, in __call__\n",
            "    return self.invoke(\n",
            "  File \"c:\\Users\\andre\\OneDrive\\Documents\\AIE4\\AIE4\\Week 2\\Day 2\\.venv\\lib\\site-packages\\langchain\\chains\\base.py\", line 164, in invoke\n",
            "    raise e\n",
            "  File \"c:\\Users\\andre\\OneDrive\\Documents\\AIE4\\AIE4\\Week 2\\Day 2\\.venv\\lib\\site-packages\\langchain\\chains\\base.py\", line 154, in invoke\n",
            "    self._call(inputs, run_manager=run_manager)\n",
            "  File \"c:\\Users\\andre\\OneDrive\\Documents\\AIE4\\AIE4\\Week 2\\Day 2\\.venv\\lib\\site-packages\\langchain\\chains\\llm.py\", line 126, in _call\n",
            "    response = self.generate([inputs], run_manager=run_manager)\n",
            "  File \"c:\\Users\\andre\\OneDrive\\Documents\\AIE4\\AIE4\\Week 2\\Day 2\\.venv\\lib\\site-packages\\langchain\\chains\\llm.py\", line 138, in generate\n",
            "    return self.llm.generate_prompt(\n",
            "  File \"c:\\Users\\andre\\OneDrive\\Documents\\AIE4\\AIE4\\Week 2\\Day 2\\.venv\\lib\\site-packages\\langchain_core\\language_models\\chat_models.py\", line 776, in generate_prompt\n",
            "    return self.generate(prompt_messages, stop=stop, callbacks=callbacks, **kwargs)\n",
            "  File \"c:\\Users\\andre\\OneDrive\\Documents\\AIE4\\AIE4\\Week 2\\Day 2\\.venv\\lib\\site-packages\\langchain_core\\language_models\\chat_models.py\", line 633, in generate\n",
            "    raise e\n",
            "  File \"c:\\Users\\andre\\OneDrive\\Documents\\AIE4\\AIE4\\Week 2\\Day 2\\.venv\\lib\\site-packages\\langchain_core\\language_models\\chat_models.py\", line 623, in generate\n",
            "    self._generate_with_cache(\n",
            "  File \"c:\\Users\\andre\\OneDrive\\Documents\\AIE4\\AIE4\\Week 2\\Day 2\\.venv\\lib\\site-packages\\langchain_core\\language_models\\chat_models.py\", line 845, in _generate_with_cache\n",
            "    result = self._generate(\n",
            "  File \"c:\\Users\\andre\\OneDrive\\Documents\\AIE4\\AIE4\\Week 2\\Day 2\\.venv\\lib\\site-packages\\langchain_openai\\chat_models\\base.py\", line 635, in _generate\n",
            "    response = self.client.create(**payload)\n",
            "  File \"c:\\Users\\andre\\OneDrive\\Documents\\AIE4\\AIE4\\Week 2\\Day 2\\.venv\\lib\\site-packages\\openai\\_utils\\_utils.py\", line 274, in wrapper\n",
            "    return func(*args, **kwargs)\n",
            "  File \"c:\\Users\\andre\\OneDrive\\Documents\\AIE4\\AIE4\\Week 2\\Day 2\\.venv\\lib\\site-packages\\openai\\resources\\chat\\completions.py\", line 668, in create\n",
            "    return self._post(\n",
            "  File \"c:\\Users\\andre\\OneDrive\\Documents\\AIE4\\AIE4\\Week 2\\Day 2\\.venv\\lib\\site-packages\\openai\\_base_client.py\", line 1260, in post\n",
            "    return cast(ResponseT, self.request(cast_to, opts, stream=stream, stream_cls=stream_cls))\n",
            "  File \"c:\\Users\\andre\\OneDrive\\Documents\\AIE4\\AIE4\\Week 2\\Day 2\\.venv\\lib\\site-packages\\openai\\_base_client.py\", line 937, in request\n",
            "    return self._request(\n",
            "  File \"c:\\Users\\andre\\OneDrive\\Documents\\AIE4\\AIE4\\Week 2\\Day 2\\.venv\\lib\\site-packages\\openai\\_base_client.py\", line 1026, in _request\n",
            "    return self._retry_request(\n",
            "  File \"c:\\Users\\andre\\OneDrive\\Documents\\AIE4\\AIE4\\Week 2\\Day 2\\.venv\\lib\\site-packages\\openai\\_base_client.py\", line 1075, in _retry_request\n",
            "    return self._request(\n",
            "  File \"c:\\Users\\andre\\OneDrive\\Documents\\AIE4\\AIE4\\Week 2\\Day 2\\.venv\\lib\\site-packages\\openai\\_base_client.py\", line 1026, in _request\n",
            "    return self._retry_request(\n",
            "  File \"c:\\Users\\andre\\OneDrive\\Documents\\AIE4\\AIE4\\Week 2\\Day 2\\.venv\\lib\\site-packages\\openai\\_base_client.py\", line 1075, in _retry_request\n",
            "    return self._request(\n",
            "  File \"c:\\Users\\andre\\OneDrive\\Documents\\AIE4\\AIE4\\Week 2\\Day 2\\.venv\\lib\\site-packages\\openai\\_base_client.py\", line 1041, in _request\n",
            "    raise self._make_status_error_from_response(err.response) from None\n",
            "openai.RateLimitError: Error code: 429 - {'error': {'message': 'Rate limit reached for gpt-4 in organization org-fbkOjwsGtPad9VnnUDcR750s on tokens per min (TPM): Limit 10000, Used 9939, Requested 1247. Please try again in 7.116s. Visit https://platform.openai.com/account/rate-limits to learn more.', 'type': 'tokens', 'param': None, 'code': 'rate_limit_exceeded'}}\n",
            "13it [00:20,  1.20s/it]Error running evaluator <DynamicRunEvaluator evaluate> on run bddacdd5-8ae4-4cf8-a5ed-41e07e650580: RateLimitError(\"Error code: 429 - {'error': {'message': 'Rate limit reached for gpt-4 in organization org-fbkOjwsGtPad9VnnUDcR750s on tokens per min (TPM): Limit 10000, Used 9827, Requested 1388. Please try again in 7.29s. Visit https://platform.openai.com/account/rate-limits to learn more.', 'type': 'tokens', 'param': None, 'code': 'rate_limit_exceeded'}}\")\n",
            "Traceback (most recent call last):\n",
            "  File \"c:\\Users\\andre\\OneDrive\\Documents\\AIE4\\AIE4\\Week 2\\Day 2\\.venv\\lib\\site-packages\\langsmith\\evaluation\\_runner.py\", line 1267, in _run_evaluators\n",
            "    evaluator_response = evaluator.evaluate_run(\n",
            "  File \"c:\\Users\\andre\\OneDrive\\Documents\\AIE4\\AIE4\\Week 2\\Day 2\\.venv\\lib\\site-packages\\langsmith\\evaluation\\evaluator.py\", line 278, in evaluate_run\n",
            "    result = self.func(\n",
            "  File \"c:\\Users\\andre\\OneDrive\\Documents\\AIE4\\AIE4\\Week 2\\Day 2\\.venv\\lib\\site-packages\\langsmith\\run_helpers.py\", line 609, in wrapper\n",
            "    raise e\n",
            "  File \"c:\\Users\\andre\\OneDrive\\Documents\\AIE4\\AIE4\\Week 2\\Day 2\\.venv\\lib\\site-packages\\langsmith\\run_helpers.py\", line 606, in wrapper\n",
            "    function_result = run_container[\"context\"].run(func, *args, **kwargs)\n",
            "  File \"c:\\Users\\andre\\OneDrive\\Documents\\AIE4\\AIE4\\Week 2\\Day 2\\.venv\\lib\\site-packages\\langsmith\\evaluation\\integrations\\_langchain.py\", line 260, in evaluate\n",
            "    results = self.evaluator.evaluate_strings(**eval_inputs)\n",
            "  File \"c:\\Users\\andre\\OneDrive\\Documents\\AIE4\\AIE4\\Week 2\\Day 2\\.venv\\lib\\site-packages\\langchain\\evaluation\\schema.py\", line 220, in evaluate_strings\n",
            "    return self._evaluate_strings(\n",
            "  File \"c:\\Users\\andre\\OneDrive\\Documents\\AIE4\\AIE4\\Week 2\\Day 2\\.venv\\lib\\site-packages\\langchain\\evaluation\\qa\\eval_chain.py\", line 303, in _evaluate_strings\n",
            "    result = self(\n",
            "  File \"c:\\Users\\andre\\OneDrive\\Documents\\AIE4\\AIE4\\Week 2\\Day 2\\.venv\\lib\\site-packages\\langchain_core\\_api\\deprecation.py\", line 170, in warning_emitting_wrapper\n",
            "    return wrapped(*args, **kwargs)\n",
            "  File \"c:\\Users\\andre\\OneDrive\\Documents\\AIE4\\AIE4\\Week 2\\Day 2\\.venv\\lib\\site-packages\\langchain\\chains\\base.py\", line 381, in __call__\n",
            "    return self.invoke(\n",
            "  File \"c:\\Users\\andre\\OneDrive\\Documents\\AIE4\\AIE4\\Week 2\\Day 2\\.venv\\lib\\site-packages\\langchain\\chains\\base.py\", line 164, in invoke\n",
            "    raise e\n",
            "  File \"c:\\Users\\andre\\OneDrive\\Documents\\AIE4\\AIE4\\Week 2\\Day 2\\.venv\\lib\\site-packages\\langchain\\chains\\base.py\", line 154, in invoke\n",
            "    self._call(inputs, run_manager=run_manager)\n",
            "  File \"c:\\Users\\andre\\OneDrive\\Documents\\AIE4\\AIE4\\Week 2\\Day 2\\.venv\\lib\\site-packages\\langchain\\chains\\llm.py\", line 126, in _call\n",
            "    response = self.generate([inputs], run_manager=run_manager)\n",
            "  File \"c:\\Users\\andre\\OneDrive\\Documents\\AIE4\\AIE4\\Week 2\\Day 2\\.venv\\lib\\site-packages\\langchain\\chains\\llm.py\", line 138, in generate\n",
            "    return self.llm.generate_prompt(\n",
            "  File \"c:\\Users\\andre\\OneDrive\\Documents\\AIE4\\AIE4\\Week 2\\Day 2\\.venv\\lib\\site-packages\\langchain_core\\language_models\\chat_models.py\", line 776, in generate_prompt\n",
            "    return self.generate(prompt_messages, stop=stop, callbacks=callbacks, **kwargs)\n",
            "  File \"c:\\Users\\andre\\OneDrive\\Documents\\AIE4\\AIE4\\Week 2\\Day 2\\.venv\\lib\\site-packages\\langchain_core\\language_models\\chat_models.py\", line 633, in generate\n",
            "    raise e\n",
            "  File \"c:\\Users\\andre\\OneDrive\\Documents\\AIE4\\AIE4\\Week 2\\Day 2\\.venv\\lib\\site-packages\\langchain_core\\language_models\\chat_models.py\", line 623, in generate\n",
            "    self._generate_with_cache(\n",
            "  File \"c:\\Users\\andre\\OneDrive\\Documents\\AIE4\\AIE4\\Week 2\\Day 2\\.venv\\lib\\site-packages\\langchain_core\\language_models\\chat_models.py\", line 845, in _generate_with_cache\n",
            "    result = self._generate(\n",
            "  File \"c:\\Users\\andre\\OneDrive\\Documents\\AIE4\\AIE4\\Week 2\\Day 2\\.venv\\lib\\site-packages\\langchain_openai\\chat_models\\base.py\", line 635, in _generate\n",
            "    response = self.client.create(**payload)\n",
            "  File \"c:\\Users\\andre\\OneDrive\\Documents\\AIE4\\AIE4\\Week 2\\Day 2\\.venv\\lib\\site-packages\\openai\\_utils\\_utils.py\", line 274, in wrapper\n",
            "    return func(*args, **kwargs)\n",
            "  File \"c:\\Users\\andre\\OneDrive\\Documents\\AIE4\\AIE4\\Week 2\\Day 2\\.venv\\lib\\site-packages\\openai\\resources\\chat\\completions.py\", line 668, in create\n",
            "    return self._post(\n",
            "  File \"c:\\Users\\andre\\OneDrive\\Documents\\AIE4\\AIE4\\Week 2\\Day 2\\.venv\\lib\\site-packages\\openai\\_base_client.py\", line 1260, in post\n",
            "    return cast(ResponseT, self.request(cast_to, opts, stream=stream, stream_cls=stream_cls))\n",
            "  File \"c:\\Users\\andre\\OneDrive\\Documents\\AIE4\\AIE4\\Week 2\\Day 2\\.venv\\lib\\site-packages\\openai\\_base_client.py\", line 937, in request\n",
            "    return self._request(\n",
            "  File \"c:\\Users\\andre\\OneDrive\\Documents\\AIE4\\AIE4\\Week 2\\Day 2\\.venv\\lib\\site-packages\\openai\\_base_client.py\", line 1026, in _request\n",
            "    return self._retry_request(\n",
            "  File \"c:\\Users\\andre\\OneDrive\\Documents\\AIE4\\AIE4\\Week 2\\Day 2\\.venv\\lib\\site-packages\\openai\\_base_client.py\", line 1075, in _retry_request\n",
            "    return self._request(\n",
            "  File \"c:\\Users\\andre\\OneDrive\\Documents\\AIE4\\AIE4\\Week 2\\Day 2\\.venv\\lib\\site-packages\\openai\\_base_client.py\", line 1026, in _request\n",
            "    return self._retry_request(\n",
            "  File \"c:\\Users\\andre\\OneDrive\\Documents\\AIE4\\AIE4\\Week 2\\Day 2\\.venv\\lib\\site-packages\\openai\\_base_client.py\", line 1075, in _retry_request\n",
            "    return self._request(\n",
            "  File \"c:\\Users\\andre\\OneDrive\\Documents\\AIE4\\AIE4\\Week 2\\Day 2\\.venv\\lib\\site-packages\\openai\\_base_client.py\", line 1041, in _request\n",
            "    raise self._make_status_error_from_response(err.response) from None\n",
            "openai.RateLimitError: Error code: 429 - {'error': {'message': 'Rate limit reached for gpt-4 in organization org-fbkOjwsGtPad9VnnUDcR750s on tokens per min (TPM): Limit 10000, Used 9827, Requested 1388. Please try again in 7.29s. Visit https://platform.openai.com/account/rate-limits to learn more.', 'type': 'tokens', 'param': None, 'code': 'rate_limit_exceeded'}}\n",
            "15it [00:21,  1.04it/s]Error running evaluator <DynamicRunEvaluator evaluate> on run d3d993bb-a68a-475d-a4d6-cdb9e9789208: RateLimitError(\"Error code: 429 - {'error': {'message': 'Rate limit reached for gpt-4 in organization org-fbkOjwsGtPad9VnnUDcR750s on tokens per min (TPM): Limit 10000, Used 9548, Requested 1657. Please try again in 7.23s. Visit https://platform.openai.com/account/rate-limits to learn more.', 'type': 'tokens', 'param': None, 'code': 'rate_limit_exceeded'}}\")\n",
            "Traceback (most recent call last):\n",
            "  File \"c:\\Users\\andre\\OneDrive\\Documents\\AIE4\\AIE4\\Week 2\\Day 2\\.venv\\lib\\site-packages\\langsmith\\evaluation\\_runner.py\", line 1267, in _run_evaluators\n",
            "    evaluator_response = evaluator.evaluate_run(\n",
            "  File \"c:\\Users\\andre\\OneDrive\\Documents\\AIE4\\AIE4\\Week 2\\Day 2\\.venv\\lib\\site-packages\\langsmith\\evaluation\\evaluator.py\", line 278, in evaluate_run\n",
            "    result = self.func(\n",
            "  File \"c:\\Users\\andre\\OneDrive\\Documents\\AIE4\\AIE4\\Week 2\\Day 2\\.venv\\lib\\site-packages\\langsmith\\run_helpers.py\", line 609, in wrapper\n",
            "    raise e\n",
            "  File \"c:\\Users\\andre\\OneDrive\\Documents\\AIE4\\AIE4\\Week 2\\Day 2\\.venv\\lib\\site-packages\\langsmith\\run_helpers.py\", line 606, in wrapper\n",
            "    function_result = run_container[\"context\"].run(func, *args, **kwargs)\n",
            "  File \"c:\\Users\\andre\\OneDrive\\Documents\\AIE4\\AIE4\\Week 2\\Day 2\\.venv\\lib\\site-packages\\langsmith\\evaluation\\integrations\\_langchain.py\", line 260, in evaluate\n",
            "    results = self.evaluator.evaluate_strings(**eval_inputs)\n",
            "  File \"c:\\Users\\andre\\OneDrive\\Documents\\AIE4\\AIE4\\Week 2\\Day 2\\.venv\\lib\\site-packages\\langchain\\evaluation\\schema.py\", line 220, in evaluate_strings\n",
            "    return self._evaluate_strings(\n",
            "  File \"c:\\Users\\andre\\OneDrive\\Documents\\AIE4\\AIE4\\Week 2\\Day 2\\.venv\\lib\\site-packages\\langchain\\evaluation\\qa\\eval_chain.py\", line 303, in _evaluate_strings\n",
            "    result = self(\n",
            "  File \"c:\\Users\\andre\\OneDrive\\Documents\\AIE4\\AIE4\\Week 2\\Day 2\\.venv\\lib\\site-packages\\langchain_core\\_api\\deprecation.py\", line 170, in warning_emitting_wrapper\n",
            "    return wrapped(*args, **kwargs)\n",
            "  File \"c:\\Users\\andre\\OneDrive\\Documents\\AIE4\\AIE4\\Week 2\\Day 2\\.venv\\lib\\site-packages\\langchain\\chains\\base.py\", line 381, in __call__\n",
            "    return self.invoke(\n",
            "  File \"c:\\Users\\andre\\OneDrive\\Documents\\AIE4\\AIE4\\Week 2\\Day 2\\.venv\\lib\\site-packages\\langchain\\chains\\base.py\", line 164, in invoke\n",
            "    raise e\n",
            "  File \"c:\\Users\\andre\\OneDrive\\Documents\\AIE4\\AIE4\\Week 2\\Day 2\\.venv\\lib\\site-packages\\langchain\\chains\\base.py\", line 154, in invoke\n",
            "    self._call(inputs, run_manager=run_manager)\n",
            "  File \"c:\\Users\\andre\\OneDrive\\Documents\\AIE4\\AIE4\\Week 2\\Day 2\\.venv\\lib\\site-packages\\langchain\\chains\\llm.py\", line 126, in _call\n",
            "    response = self.generate([inputs], run_manager=run_manager)\n",
            "  File \"c:\\Users\\andre\\OneDrive\\Documents\\AIE4\\AIE4\\Week 2\\Day 2\\.venv\\lib\\site-packages\\langchain\\chains\\llm.py\", line 138, in generate\n",
            "    return self.llm.generate_prompt(\n",
            "  File \"c:\\Users\\andre\\OneDrive\\Documents\\AIE4\\AIE4\\Week 2\\Day 2\\.venv\\lib\\site-packages\\langchain_core\\language_models\\chat_models.py\", line 776, in generate_prompt\n",
            "    return self.generate(prompt_messages, stop=stop, callbacks=callbacks, **kwargs)\n",
            "  File \"c:\\Users\\andre\\OneDrive\\Documents\\AIE4\\AIE4\\Week 2\\Day 2\\.venv\\lib\\site-packages\\langchain_core\\language_models\\chat_models.py\", line 633, in generate\n",
            "    raise e\n",
            "  File \"c:\\Users\\andre\\OneDrive\\Documents\\AIE4\\AIE4\\Week 2\\Day 2\\.venv\\lib\\site-packages\\langchain_core\\language_models\\chat_models.py\", line 623, in generate\n",
            "    self._generate_with_cache(\n",
            "  File \"c:\\Users\\andre\\OneDrive\\Documents\\AIE4\\AIE4\\Week 2\\Day 2\\.venv\\lib\\site-packages\\langchain_core\\language_models\\chat_models.py\", line 845, in _generate_with_cache\n",
            "    result = self._generate(\n",
            "  File \"c:\\Users\\andre\\OneDrive\\Documents\\AIE4\\AIE4\\Week 2\\Day 2\\.venv\\lib\\site-packages\\langchain_openai\\chat_models\\base.py\", line 635, in _generate\n",
            "    response = self.client.create(**payload)\n",
            "  File \"c:\\Users\\andre\\OneDrive\\Documents\\AIE4\\AIE4\\Week 2\\Day 2\\.venv\\lib\\site-packages\\openai\\_utils\\_utils.py\", line 274, in wrapper\n",
            "    return func(*args, **kwargs)\n",
            "  File \"c:\\Users\\andre\\OneDrive\\Documents\\AIE4\\AIE4\\Week 2\\Day 2\\.venv\\lib\\site-packages\\openai\\resources\\chat\\completions.py\", line 668, in create\n",
            "    return self._post(\n",
            "  File \"c:\\Users\\andre\\OneDrive\\Documents\\AIE4\\AIE4\\Week 2\\Day 2\\.venv\\lib\\site-packages\\openai\\_base_client.py\", line 1260, in post\n",
            "    return cast(ResponseT, self.request(cast_to, opts, stream=stream, stream_cls=stream_cls))\n",
            "  File \"c:\\Users\\andre\\OneDrive\\Documents\\AIE4\\AIE4\\Week 2\\Day 2\\.venv\\lib\\site-packages\\openai\\_base_client.py\", line 937, in request\n",
            "    return self._request(\n",
            "  File \"c:\\Users\\andre\\OneDrive\\Documents\\AIE4\\AIE4\\Week 2\\Day 2\\.venv\\lib\\site-packages\\openai\\_base_client.py\", line 1026, in _request\n",
            "    return self._retry_request(\n",
            "  File \"c:\\Users\\andre\\OneDrive\\Documents\\AIE4\\AIE4\\Week 2\\Day 2\\.venv\\lib\\site-packages\\openai\\_base_client.py\", line 1075, in _retry_request\n",
            "    return self._request(\n",
            "  File \"c:\\Users\\andre\\OneDrive\\Documents\\AIE4\\AIE4\\Week 2\\Day 2\\.venv\\lib\\site-packages\\openai\\_base_client.py\", line 1026, in _request\n",
            "    return self._retry_request(\n",
            "  File \"c:\\Users\\andre\\OneDrive\\Documents\\AIE4\\AIE4\\Week 2\\Day 2\\.venv\\lib\\site-packages\\openai\\_base_client.py\", line 1075, in _retry_request\n",
            "    return self._request(\n",
            "  File \"c:\\Users\\andre\\OneDrive\\Documents\\AIE4\\AIE4\\Week 2\\Day 2\\.venv\\lib\\site-packages\\openai\\_base_client.py\", line 1041, in _request\n",
            "    raise self._make_status_error_from_response(err.response) from None\n",
            "openai.RateLimitError: Error code: 429 - {'error': {'message': 'Rate limit reached for gpt-4 in organization org-fbkOjwsGtPad9VnnUDcR750s on tokens per min (TPM): Limit 10000, Used 9548, Requested 1657. Please try again in 7.23s. Visit https://platform.openai.com/account/rate-limits to learn more.', 'type': 'tokens', 'param': None, 'code': 'rate_limit_exceeded'}}\n",
            "16it [00:22,  1.25it/s]Error running evaluator <DynamicRunEvaluator evaluate> on run 88b40aaf-4b3d-4556-b85b-2d12ddb4f177: RateLimitError(\"Error code: 429 - {'error': {'message': 'Rate limit reached for gpt-4 in organization org-fbkOjwsGtPad9VnnUDcR750s on tokens per min (TPM): Limit 10000, Used 9917, Requested 1535. Please try again in 8.712s. Visit https://platform.openai.com/account/rate-limits to learn more.', 'type': 'tokens', 'param': None, 'code': 'rate_limit_exceeded'}}\")\n",
            "Traceback (most recent call last):\n",
            "  File \"c:\\Users\\andre\\OneDrive\\Documents\\AIE4\\AIE4\\Week 2\\Day 2\\.venv\\lib\\site-packages\\langsmith\\evaluation\\_runner.py\", line 1267, in _run_evaluators\n",
            "    evaluator_response = evaluator.evaluate_run(\n",
            "  File \"c:\\Users\\andre\\OneDrive\\Documents\\AIE4\\AIE4\\Week 2\\Day 2\\.venv\\lib\\site-packages\\langsmith\\evaluation\\evaluator.py\", line 278, in evaluate_run\n",
            "    result = self.func(\n",
            "  File \"c:\\Users\\andre\\OneDrive\\Documents\\AIE4\\AIE4\\Week 2\\Day 2\\.venv\\lib\\site-packages\\langsmith\\run_helpers.py\", line 609, in wrapper\n",
            "    raise e\n",
            "  File \"c:\\Users\\andre\\OneDrive\\Documents\\AIE4\\AIE4\\Week 2\\Day 2\\.venv\\lib\\site-packages\\langsmith\\run_helpers.py\", line 606, in wrapper\n",
            "    function_result = run_container[\"context\"].run(func, *args, **kwargs)\n",
            "  File \"c:\\Users\\andre\\OneDrive\\Documents\\AIE4\\AIE4\\Week 2\\Day 2\\.venv\\lib\\site-packages\\langsmith\\evaluation\\integrations\\_langchain.py\", line 260, in evaluate\n",
            "    results = self.evaluator.evaluate_strings(**eval_inputs)\n",
            "  File \"c:\\Users\\andre\\OneDrive\\Documents\\AIE4\\AIE4\\Week 2\\Day 2\\.venv\\lib\\site-packages\\langchain\\evaluation\\schema.py\", line 220, in evaluate_strings\n",
            "    return self._evaluate_strings(\n",
            "  File \"c:\\Users\\andre\\OneDrive\\Documents\\AIE4\\AIE4\\Week 2\\Day 2\\.venv\\lib\\site-packages\\langchain\\evaluation\\qa\\eval_chain.py\", line 303, in _evaluate_strings\n",
            "    result = self(\n",
            "  File \"c:\\Users\\andre\\OneDrive\\Documents\\AIE4\\AIE4\\Week 2\\Day 2\\.venv\\lib\\site-packages\\langchain_core\\_api\\deprecation.py\", line 170, in warning_emitting_wrapper\n",
            "    return wrapped(*args, **kwargs)\n",
            "  File \"c:\\Users\\andre\\OneDrive\\Documents\\AIE4\\AIE4\\Week 2\\Day 2\\.venv\\lib\\site-packages\\langchain\\chains\\base.py\", line 381, in __call__\n",
            "    return self.invoke(\n",
            "  File \"c:\\Users\\andre\\OneDrive\\Documents\\AIE4\\AIE4\\Week 2\\Day 2\\.venv\\lib\\site-packages\\langchain\\chains\\base.py\", line 164, in invoke\n",
            "    raise e\n",
            "  File \"c:\\Users\\andre\\OneDrive\\Documents\\AIE4\\AIE4\\Week 2\\Day 2\\.venv\\lib\\site-packages\\langchain\\chains\\base.py\", line 154, in invoke\n",
            "    self._call(inputs, run_manager=run_manager)\n",
            "  File \"c:\\Users\\andre\\OneDrive\\Documents\\AIE4\\AIE4\\Week 2\\Day 2\\.venv\\lib\\site-packages\\langchain\\chains\\llm.py\", line 126, in _call\n",
            "    response = self.generate([inputs], run_manager=run_manager)\n",
            "  File \"c:\\Users\\andre\\OneDrive\\Documents\\AIE4\\AIE4\\Week 2\\Day 2\\.venv\\lib\\site-packages\\langchain\\chains\\llm.py\", line 138, in generate\n",
            "    return self.llm.generate_prompt(\n",
            "  File \"c:\\Users\\andre\\OneDrive\\Documents\\AIE4\\AIE4\\Week 2\\Day 2\\.venv\\lib\\site-packages\\langchain_core\\language_models\\chat_models.py\", line 776, in generate_prompt\n",
            "    return self.generate(prompt_messages, stop=stop, callbacks=callbacks, **kwargs)\n",
            "  File \"c:\\Users\\andre\\OneDrive\\Documents\\AIE4\\AIE4\\Week 2\\Day 2\\.venv\\lib\\site-packages\\langchain_core\\language_models\\chat_models.py\", line 633, in generate\n",
            "    raise e\n",
            "  File \"c:\\Users\\andre\\OneDrive\\Documents\\AIE4\\AIE4\\Week 2\\Day 2\\.venv\\lib\\site-packages\\langchain_core\\language_models\\chat_models.py\", line 623, in generate\n",
            "    self._generate_with_cache(\n",
            "  File \"c:\\Users\\andre\\OneDrive\\Documents\\AIE4\\AIE4\\Week 2\\Day 2\\.venv\\lib\\site-packages\\langchain_core\\language_models\\chat_models.py\", line 845, in _generate_with_cache\n",
            "    result = self._generate(\n",
            "  File \"c:\\Users\\andre\\OneDrive\\Documents\\AIE4\\AIE4\\Week 2\\Day 2\\.venv\\lib\\site-packages\\langchain_openai\\chat_models\\base.py\", line 635, in _generate\n",
            "    response = self.client.create(**payload)\n",
            "  File \"c:\\Users\\andre\\OneDrive\\Documents\\AIE4\\AIE4\\Week 2\\Day 2\\.venv\\lib\\site-packages\\openai\\_utils\\_utils.py\", line 274, in wrapper\n",
            "    return func(*args, **kwargs)\n",
            "  File \"c:\\Users\\andre\\OneDrive\\Documents\\AIE4\\AIE4\\Week 2\\Day 2\\.venv\\lib\\site-packages\\openai\\resources\\chat\\completions.py\", line 668, in create\n",
            "    return self._post(\n",
            "  File \"c:\\Users\\andre\\OneDrive\\Documents\\AIE4\\AIE4\\Week 2\\Day 2\\.venv\\lib\\site-packages\\openai\\_base_client.py\", line 1260, in post\n",
            "    return cast(ResponseT, self.request(cast_to, opts, stream=stream, stream_cls=stream_cls))\n",
            "  File \"c:\\Users\\andre\\OneDrive\\Documents\\AIE4\\AIE4\\Week 2\\Day 2\\.venv\\lib\\site-packages\\openai\\_base_client.py\", line 937, in request\n",
            "    return self._request(\n",
            "  File \"c:\\Users\\andre\\OneDrive\\Documents\\AIE4\\AIE4\\Week 2\\Day 2\\.venv\\lib\\site-packages\\openai\\_base_client.py\", line 1026, in _request\n",
            "    return self._retry_request(\n",
            "  File \"c:\\Users\\andre\\OneDrive\\Documents\\AIE4\\AIE4\\Week 2\\Day 2\\.venv\\lib\\site-packages\\openai\\_base_client.py\", line 1075, in _retry_request\n",
            "    return self._request(\n",
            "  File \"c:\\Users\\andre\\OneDrive\\Documents\\AIE4\\AIE4\\Week 2\\Day 2\\.venv\\lib\\site-packages\\openai\\_base_client.py\", line 1026, in _request\n",
            "    return self._retry_request(\n",
            "  File \"c:\\Users\\andre\\OneDrive\\Documents\\AIE4\\AIE4\\Week 2\\Day 2\\.venv\\lib\\site-packages\\openai\\_base_client.py\", line 1075, in _retry_request\n",
            "    return self._request(\n",
            "  File \"c:\\Users\\andre\\OneDrive\\Documents\\AIE4\\AIE4\\Week 2\\Day 2\\.venv\\lib\\site-packages\\openai\\_base_client.py\", line 1041, in _request\n",
            "    raise self._make_status_error_from_response(err.response) from None\n",
            "openai.RateLimitError: Error code: 429 - {'error': {'message': 'Rate limit reached for gpt-4 in organization org-fbkOjwsGtPad9VnnUDcR750s on tokens per min (TPM): Limit 10000, Used 9917, Requested 1535. Please try again in 8.712s. Visit https://platform.openai.com/account/rate-limits to learn more.', 'type': 'tokens', 'param': None, 'code': 'rate_limit_exceeded'}}\n",
            "18it [00:26,  1.36s/it]Error running evaluator <DynamicRunEvaluator evaluate> on run ef5d5745-58dd-4f14-b071-d79670864ba1: RateLimitError(\"Error code: 429 - {'error': {'message': 'Rate limit reached for gpt-4 in organization org-fbkOjwsGtPad9VnnUDcR750s on tokens per min (TPM): Limit 10000, Used 9589, Requested 1150. Please try again in 4.434s. Visit https://platform.openai.com/account/rate-limits to learn more.', 'type': 'tokens', 'param': None, 'code': 'rate_limit_exceeded'}}\")\n",
            "Traceback (most recent call last):\n",
            "  File \"c:\\Users\\andre\\OneDrive\\Documents\\AIE4\\AIE4\\Week 2\\Day 2\\.venv\\lib\\site-packages\\langsmith\\evaluation\\_runner.py\", line 1267, in _run_evaluators\n",
            "    evaluator_response = evaluator.evaluate_run(\n",
            "  File \"c:\\Users\\andre\\OneDrive\\Documents\\AIE4\\AIE4\\Week 2\\Day 2\\.venv\\lib\\site-packages\\langsmith\\evaluation\\evaluator.py\", line 278, in evaluate_run\n",
            "    result = self.func(\n",
            "  File \"c:\\Users\\andre\\OneDrive\\Documents\\AIE4\\AIE4\\Week 2\\Day 2\\.venv\\lib\\site-packages\\langsmith\\run_helpers.py\", line 609, in wrapper\n",
            "    raise e\n",
            "  File \"c:\\Users\\andre\\OneDrive\\Documents\\AIE4\\AIE4\\Week 2\\Day 2\\.venv\\lib\\site-packages\\langsmith\\run_helpers.py\", line 606, in wrapper\n",
            "    function_result = run_container[\"context\"].run(func, *args, **kwargs)\n",
            "  File \"c:\\Users\\andre\\OneDrive\\Documents\\AIE4\\AIE4\\Week 2\\Day 2\\.venv\\lib\\site-packages\\langsmith\\evaluation\\integrations\\_langchain.py\", line 260, in evaluate\n",
            "    results = self.evaluator.evaluate_strings(**eval_inputs)\n",
            "  File \"c:\\Users\\andre\\OneDrive\\Documents\\AIE4\\AIE4\\Week 2\\Day 2\\.venv\\lib\\site-packages\\langchain\\evaluation\\schema.py\", line 220, in evaluate_strings\n",
            "    return self._evaluate_strings(\n",
            "  File \"c:\\Users\\andre\\OneDrive\\Documents\\AIE4\\AIE4\\Week 2\\Day 2\\.venv\\lib\\site-packages\\langchain\\evaluation\\qa\\eval_chain.py\", line 303, in _evaluate_strings\n",
            "    result = self(\n",
            "  File \"c:\\Users\\andre\\OneDrive\\Documents\\AIE4\\AIE4\\Week 2\\Day 2\\.venv\\lib\\site-packages\\langchain_core\\_api\\deprecation.py\", line 170, in warning_emitting_wrapper\n",
            "    return wrapped(*args, **kwargs)\n",
            "  File \"c:\\Users\\andre\\OneDrive\\Documents\\AIE4\\AIE4\\Week 2\\Day 2\\.venv\\lib\\site-packages\\langchain\\chains\\base.py\", line 381, in __call__\n",
            "    return self.invoke(\n",
            "  File \"c:\\Users\\andre\\OneDrive\\Documents\\AIE4\\AIE4\\Week 2\\Day 2\\.venv\\lib\\site-packages\\langchain\\chains\\base.py\", line 164, in invoke\n",
            "    raise e\n",
            "  File \"c:\\Users\\andre\\OneDrive\\Documents\\AIE4\\AIE4\\Week 2\\Day 2\\.venv\\lib\\site-packages\\langchain\\chains\\base.py\", line 154, in invoke\n",
            "    self._call(inputs, run_manager=run_manager)\n",
            "  File \"c:\\Users\\andre\\OneDrive\\Documents\\AIE4\\AIE4\\Week 2\\Day 2\\.venv\\lib\\site-packages\\langchain\\chains\\llm.py\", line 126, in _call\n",
            "    response = self.generate([inputs], run_manager=run_manager)\n",
            "  File \"c:\\Users\\andre\\OneDrive\\Documents\\AIE4\\AIE4\\Week 2\\Day 2\\.venv\\lib\\site-packages\\langchain\\chains\\llm.py\", line 138, in generate\n",
            "    return self.llm.generate_prompt(\n",
            "  File \"c:\\Users\\andre\\OneDrive\\Documents\\AIE4\\AIE4\\Week 2\\Day 2\\.venv\\lib\\site-packages\\langchain_core\\language_models\\chat_models.py\", line 776, in generate_prompt\n",
            "    return self.generate(prompt_messages, stop=stop, callbacks=callbacks, **kwargs)\n",
            "  File \"c:\\Users\\andre\\OneDrive\\Documents\\AIE4\\AIE4\\Week 2\\Day 2\\.venv\\lib\\site-packages\\langchain_core\\language_models\\chat_models.py\", line 633, in generate\n",
            "    raise e\n",
            "  File \"c:\\Users\\andre\\OneDrive\\Documents\\AIE4\\AIE4\\Week 2\\Day 2\\.venv\\lib\\site-packages\\langchain_core\\language_models\\chat_models.py\", line 623, in generate\n",
            "    self._generate_with_cache(\n",
            "  File \"c:\\Users\\andre\\OneDrive\\Documents\\AIE4\\AIE4\\Week 2\\Day 2\\.venv\\lib\\site-packages\\langchain_core\\language_models\\chat_models.py\", line 845, in _generate_with_cache\n",
            "    result = self._generate(\n",
            "  File \"c:\\Users\\andre\\OneDrive\\Documents\\AIE4\\AIE4\\Week 2\\Day 2\\.venv\\lib\\site-packages\\langchain_openai\\chat_models\\base.py\", line 635, in _generate\n",
            "    response = self.client.create(**payload)\n",
            "  File \"c:\\Users\\andre\\OneDrive\\Documents\\AIE4\\AIE4\\Week 2\\Day 2\\.venv\\lib\\site-packages\\openai\\_utils\\_utils.py\", line 274, in wrapper\n",
            "    return func(*args, **kwargs)\n",
            "  File \"c:\\Users\\andre\\OneDrive\\Documents\\AIE4\\AIE4\\Week 2\\Day 2\\.venv\\lib\\site-packages\\openai\\resources\\chat\\completions.py\", line 668, in create\n",
            "    return self._post(\n",
            "  File \"c:\\Users\\andre\\OneDrive\\Documents\\AIE4\\AIE4\\Week 2\\Day 2\\.venv\\lib\\site-packages\\openai\\_base_client.py\", line 1260, in post\n",
            "    return cast(ResponseT, self.request(cast_to, opts, stream=stream, stream_cls=stream_cls))\n",
            "  File \"c:\\Users\\andre\\OneDrive\\Documents\\AIE4\\AIE4\\Week 2\\Day 2\\.venv\\lib\\site-packages\\openai\\_base_client.py\", line 937, in request\n",
            "    return self._request(\n",
            "  File \"c:\\Users\\andre\\OneDrive\\Documents\\AIE4\\AIE4\\Week 2\\Day 2\\.venv\\lib\\site-packages\\openai\\_base_client.py\", line 1026, in _request\n",
            "    return self._retry_request(\n",
            "  File \"c:\\Users\\andre\\OneDrive\\Documents\\AIE4\\AIE4\\Week 2\\Day 2\\.venv\\lib\\site-packages\\openai\\_base_client.py\", line 1075, in _retry_request\n",
            "    return self._request(\n",
            "  File \"c:\\Users\\andre\\OneDrive\\Documents\\AIE4\\AIE4\\Week 2\\Day 2\\.venv\\lib\\site-packages\\openai\\_base_client.py\", line 1026, in _request\n",
            "    return self._retry_request(\n",
            "  File \"c:\\Users\\andre\\OneDrive\\Documents\\AIE4\\AIE4\\Week 2\\Day 2\\.venv\\lib\\site-packages\\openai\\_base_client.py\", line 1075, in _retry_request\n",
            "    return self._request(\n",
            "  File \"c:\\Users\\andre\\OneDrive\\Documents\\AIE4\\AIE4\\Week 2\\Day 2\\.venv\\lib\\site-packages\\openai\\_base_client.py\", line 1041, in _request\n",
            "    raise self._make_status_error_from_response(err.response) from None\n",
            "openai.RateLimitError: Error code: 429 - {'error': {'message': 'Rate limit reached for gpt-4 in organization org-fbkOjwsGtPad9VnnUDcR750s on tokens per min (TPM): Limit 10000, Used 9589, Requested 1150. Please try again in 4.434s. Visit https://platform.openai.com/account/rate-limits to learn more.', 'type': 'tokens', 'param': None, 'code': 'rate_limit_exceeded'}}\n",
            "20it [00:31,  2.07s/it]Error running evaluator <DynamicRunEvaluator evaluate> on run 522749bd-723d-45bd-aa60-2fec4dbad5eb: RateLimitError(\"Error code: 429 - {'error': {'message': 'Rate limit reached for gpt-4 in organization org-fbkOjwsGtPad9VnnUDcR750s on tokens per min (TPM): Limit 10000, Used 8613, Requested 1418. Please try again in 186ms. Visit https://platform.openai.com/account/rate-limits to learn more.', 'type': 'tokens', 'param': None, 'code': 'rate_limit_exceeded'}}\")\n",
            "Traceback (most recent call last):\n",
            "  File \"c:\\Users\\andre\\OneDrive\\Documents\\AIE4\\AIE4\\Week 2\\Day 2\\.venv\\lib\\site-packages\\langsmith\\evaluation\\_runner.py\", line 1267, in _run_evaluators\n",
            "    evaluator_response = evaluator.evaluate_run(\n",
            "  File \"c:\\Users\\andre\\OneDrive\\Documents\\AIE4\\AIE4\\Week 2\\Day 2\\.venv\\lib\\site-packages\\langsmith\\evaluation\\evaluator.py\", line 278, in evaluate_run\n",
            "    result = self.func(\n",
            "  File \"c:\\Users\\andre\\OneDrive\\Documents\\AIE4\\AIE4\\Week 2\\Day 2\\.venv\\lib\\site-packages\\langsmith\\run_helpers.py\", line 609, in wrapper\n",
            "    raise e\n",
            "  File \"c:\\Users\\andre\\OneDrive\\Documents\\AIE4\\AIE4\\Week 2\\Day 2\\.venv\\lib\\site-packages\\langsmith\\run_helpers.py\", line 606, in wrapper\n",
            "    function_result = run_container[\"context\"].run(func, *args, **kwargs)\n",
            "  File \"c:\\Users\\andre\\OneDrive\\Documents\\AIE4\\AIE4\\Week 2\\Day 2\\.venv\\lib\\site-packages\\langsmith\\evaluation\\integrations\\_langchain.py\", line 260, in evaluate\n",
            "    results = self.evaluator.evaluate_strings(**eval_inputs)\n",
            "  File \"c:\\Users\\andre\\OneDrive\\Documents\\AIE4\\AIE4\\Week 2\\Day 2\\.venv\\lib\\site-packages\\langchain\\evaluation\\schema.py\", line 220, in evaluate_strings\n",
            "    return self._evaluate_strings(\n",
            "  File \"c:\\Users\\andre\\OneDrive\\Documents\\AIE4\\AIE4\\Week 2\\Day 2\\.venv\\lib\\site-packages\\langchain\\evaluation\\qa\\eval_chain.py\", line 303, in _evaluate_strings\n",
            "    result = self(\n",
            "  File \"c:\\Users\\andre\\OneDrive\\Documents\\AIE4\\AIE4\\Week 2\\Day 2\\.venv\\lib\\site-packages\\langchain_core\\_api\\deprecation.py\", line 170, in warning_emitting_wrapper\n",
            "    return wrapped(*args, **kwargs)\n",
            "  File \"c:\\Users\\andre\\OneDrive\\Documents\\AIE4\\AIE4\\Week 2\\Day 2\\.venv\\lib\\site-packages\\langchain\\chains\\base.py\", line 381, in __call__\n",
            "    return self.invoke(\n",
            "  File \"c:\\Users\\andre\\OneDrive\\Documents\\AIE4\\AIE4\\Week 2\\Day 2\\.venv\\lib\\site-packages\\langchain\\chains\\base.py\", line 164, in invoke\n",
            "    raise e\n",
            "  File \"c:\\Users\\andre\\OneDrive\\Documents\\AIE4\\AIE4\\Week 2\\Day 2\\.venv\\lib\\site-packages\\langchain\\chains\\base.py\", line 154, in invoke\n",
            "    self._call(inputs, run_manager=run_manager)\n",
            "  File \"c:\\Users\\andre\\OneDrive\\Documents\\AIE4\\AIE4\\Week 2\\Day 2\\.venv\\lib\\site-packages\\langchain\\chains\\llm.py\", line 126, in _call\n",
            "    response = self.generate([inputs], run_manager=run_manager)\n",
            "  File \"c:\\Users\\andre\\OneDrive\\Documents\\AIE4\\AIE4\\Week 2\\Day 2\\.venv\\lib\\site-packages\\langchain\\chains\\llm.py\", line 138, in generate\n",
            "    return self.llm.generate_prompt(\n",
            "  File \"c:\\Users\\andre\\OneDrive\\Documents\\AIE4\\AIE4\\Week 2\\Day 2\\.venv\\lib\\site-packages\\langchain_core\\language_models\\chat_models.py\", line 776, in generate_prompt\n",
            "    return self.generate(prompt_messages, stop=stop, callbacks=callbacks, **kwargs)\n",
            "  File \"c:\\Users\\andre\\OneDrive\\Documents\\AIE4\\AIE4\\Week 2\\Day 2\\.venv\\lib\\site-packages\\langchain_core\\language_models\\chat_models.py\", line 633, in generate\n",
            "    raise e\n",
            "  File \"c:\\Users\\andre\\OneDrive\\Documents\\AIE4\\AIE4\\Week 2\\Day 2\\.venv\\lib\\site-packages\\langchain_core\\language_models\\chat_models.py\", line 623, in generate\n",
            "    self._generate_with_cache(\n",
            "  File \"c:\\Users\\andre\\OneDrive\\Documents\\AIE4\\AIE4\\Week 2\\Day 2\\.venv\\lib\\site-packages\\langchain_core\\language_models\\chat_models.py\", line 845, in _generate_with_cache\n",
            "    result = self._generate(\n",
            "  File \"c:\\Users\\andre\\OneDrive\\Documents\\AIE4\\AIE4\\Week 2\\Day 2\\.venv\\lib\\site-packages\\langchain_openai\\chat_models\\base.py\", line 635, in _generate\n",
            "    response = self.client.create(**payload)\n",
            "  File \"c:\\Users\\andre\\OneDrive\\Documents\\AIE4\\AIE4\\Week 2\\Day 2\\.venv\\lib\\site-packages\\openai\\_utils\\_utils.py\", line 274, in wrapper\n",
            "    return func(*args, **kwargs)\n",
            "  File \"c:\\Users\\andre\\OneDrive\\Documents\\AIE4\\AIE4\\Week 2\\Day 2\\.venv\\lib\\site-packages\\openai\\resources\\chat\\completions.py\", line 668, in create\n",
            "    return self._post(\n",
            "  File \"c:\\Users\\andre\\OneDrive\\Documents\\AIE4\\AIE4\\Week 2\\Day 2\\.venv\\lib\\site-packages\\openai\\_base_client.py\", line 1260, in post\n",
            "    return cast(ResponseT, self.request(cast_to, opts, stream=stream, stream_cls=stream_cls))\n",
            "  File \"c:\\Users\\andre\\OneDrive\\Documents\\AIE4\\AIE4\\Week 2\\Day 2\\.venv\\lib\\site-packages\\openai\\_base_client.py\", line 937, in request\n",
            "    return self._request(\n",
            "  File \"c:\\Users\\andre\\OneDrive\\Documents\\AIE4\\AIE4\\Week 2\\Day 2\\.venv\\lib\\site-packages\\openai\\_base_client.py\", line 1026, in _request\n",
            "    return self._retry_request(\n",
            "  File \"c:\\Users\\andre\\OneDrive\\Documents\\AIE4\\AIE4\\Week 2\\Day 2\\.venv\\lib\\site-packages\\openai\\_base_client.py\", line 1075, in _retry_request\n",
            "    return self._request(\n",
            "  File \"c:\\Users\\andre\\OneDrive\\Documents\\AIE4\\AIE4\\Week 2\\Day 2\\.venv\\lib\\site-packages\\openai\\_base_client.py\", line 1026, in _request\n",
            "    return self._retry_request(\n",
            "  File \"c:\\Users\\andre\\OneDrive\\Documents\\AIE4\\AIE4\\Week 2\\Day 2\\.venv\\lib\\site-packages\\openai\\_base_client.py\", line 1075, in _retry_request\n",
            "    return self._request(\n",
            "  File \"c:\\Users\\andre\\OneDrive\\Documents\\AIE4\\AIE4\\Week 2\\Day 2\\.venv\\lib\\site-packages\\openai\\_base_client.py\", line 1041, in _request\n",
            "    raise self._make_status_error_from_response(err.response) from None\n",
            "openai.RateLimitError: Error code: 429 - {'error': {'message': 'Rate limit reached for gpt-4 in organization org-fbkOjwsGtPad9VnnUDcR750s on tokens per min (TPM): Limit 10000, Used 8613, Requested 1418. Please try again in 186ms. Visit https://platform.openai.com/account/rate-limits to learn more.', 'type': 'tokens', 'param': None, 'code': 'rate_limit_exceeded'}}\n",
            "21it [00:32,  1.91s/it]Error running evaluator <DynamicRunEvaluator evaluate> on run 8b4a64c6-1592-47ed-abf8-42f6aad891d0: RateLimitError(\"Error code: 429 - {'error': {'message': 'Rate limit reached for gpt-4 in organization org-fbkOjwsGtPad9VnnUDcR750s on tokens per min (TPM): Limit 10000, Used 9436, Requested 2221. Please try again in 9.942s. Visit https://platform.openai.com/account/rate-limits to learn more.', 'type': 'tokens', 'param': None, 'code': 'rate_limit_exceeded'}}\")\n",
            "Traceback (most recent call last):\n",
            "  File \"c:\\Users\\andre\\OneDrive\\Documents\\AIE4\\AIE4\\Week 2\\Day 2\\.venv\\lib\\site-packages\\langsmith\\evaluation\\_runner.py\", line 1267, in _run_evaluators\n",
            "    evaluator_response = evaluator.evaluate_run(\n",
            "  File \"c:\\Users\\andre\\OneDrive\\Documents\\AIE4\\AIE4\\Week 2\\Day 2\\.venv\\lib\\site-packages\\langsmith\\evaluation\\evaluator.py\", line 278, in evaluate_run\n",
            "    result = self.func(\n",
            "  File \"c:\\Users\\andre\\OneDrive\\Documents\\AIE4\\AIE4\\Week 2\\Day 2\\.venv\\lib\\site-packages\\langsmith\\run_helpers.py\", line 609, in wrapper\n",
            "    raise e\n",
            "  File \"c:\\Users\\andre\\OneDrive\\Documents\\AIE4\\AIE4\\Week 2\\Day 2\\.venv\\lib\\site-packages\\langsmith\\run_helpers.py\", line 606, in wrapper\n",
            "    function_result = run_container[\"context\"].run(func, *args, **kwargs)\n",
            "  File \"c:\\Users\\andre\\OneDrive\\Documents\\AIE4\\AIE4\\Week 2\\Day 2\\.venv\\lib\\site-packages\\langsmith\\evaluation\\integrations\\_langchain.py\", line 260, in evaluate\n",
            "    results = self.evaluator.evaluate_strings(**eval_inputs)\n",
            "  File \"c:\\Users\\andre\\OneDrive\\Documents\\AIE4\\AIE4\\Week 2\\Day 2\\.venv\\lib\\site-packages\\langchain\\evaluation\\schema.py\", line 220, in evaluate_strings\n",
            "    return self._evaluate_strings(\n",
            "  File \"c:\\Users\\andre\\OneDrive\\Documents\\AIE4\\AIE4\\Week 2\\Day 2\\.venv\\lib\\site-packages\\langchain\\evaluation\\qa\\eval_chain.py\", line 303, in _evaluate_strings\n",
            "    result = self(\n",
            "  File \"c:\\Users\\andre\\OneDrive\\Documents\\AIE4\\AIE4\\Week 2\\Day 2\\.venv\\lib\\site-packages\\langchain_core\\_api\\deprecation.py\", line 170, in warning_emitting_wrapper\n",
            "    return wrapped(*args, **kwargs)\n",
            "  File \"c:\\Users\\andre\\OneDrive\\Documents\\AIE4\\AIE4\\Week 2\\Day 2\\.venv\\lib\\site-packages\\langchain\\chains\\base.py\", line 381, in __call__\n",
            "    return self.invoke(\n",
            "  File \"c:\\Users\\andre\\OneDrive\\Documents\\AIE4\\AIE4\\Week 2\\Day 2\\.venv\\lib\\site-packages\\langchain\\chains\\base.py\", line 164, in invoke\n",
            "    raise e\n",
            "  File \"c:\\Users\\andre\\OneDrive\\Documents\\AIE4\\AIE4\\Week 2\\Day 2\\.venv\\lib\\site-packages\\langchain\\chains\\base.py\", line 154, in invoke\n",
            "    self._call(inputs, run_manager=run_manager)\n",
            "  File \"c:\\Users\\andre\\OneDrive\\Documents\\AIE4\\AIE4\\Week 2\\Day 2\\.venv\\lib\\site-packages\\langchain\\chains\\llm.py\", line 126, in _call\n",
            "    response = self.generate([inputs], run_manager=run_manager)\n",
            "  File \"c:\\Users\\andre\\OneDrive\\Documents\\AIE4\\AIE4\\Week 2\\Day 2\\.venv\\lib\\site-packages\\langchain\\chains\\llm.py\", line 138, in generate\n",
            "    return self.llm.generate_prompt(\n",
            "  File \"c:\\Users\\andre\\OneDrive\\Documents\\AIE4\\AIE4\\Week 2\\Day 2\\.venv\\lib\\site-packages\\langchain_core\\language_models\\chat_models.py\", line 776, in generate_prompt\n",
            "    return self.generate(prompt_messages, stop=stop, callbacks=callbacks, **kwargs)\n",
            "  File \"c:\\Users\\andre\\OneDrive\\Documents\\AIE4\\AIE4\\Week 2\\Day 2\\.venv\\lib\\site-packages\\langchain_core\\language_models\\chat_models.py\", line 633, in generate\n",
            "    raise e\n",
            "  File \"c:\\Users\\andre\\OneDrive\\Documents\\AIE4\\AIE4\\Week 2\\Day 2\\.venv\\lib\\site-packages\\langchain_core\\language_models\\chat_models.py\", line 623, in generate\n",
            "    self._generate_with_cache(\n",
            "  File \"c:\\Users\\andre\\OneDrive\\Documents\\AIE4\\AIE4\\Week 2\\Day 2\\.venv\\lib\\site-packages\\langchain_core\\language_models\\chat_models.py\", line 845, in _generate_with_cache\n",
            "    result = self._generate(\n",
            "  File \"c:\\Users\\andre\\OneDrive\\Documents\\AIE4\\AIE4\\Week 2\\Day 2\\.venv\\lib\\site-packages\\langchain_openai\\chat_models\\base.py\", line 635, in _generate\n",
            "    response = self.client.create(**payload)\n",
            "  File \"c:\\Users\\andre\\OneDrive\\Documents\\AIE4\\AIE4\\Week 2\\Day 2\\.venv\\lib\\site-packages\\openai\\_utils\\_utils.py\", line 274, in wrapper\n",
            "    return func(*args, **kwargs)\n",
            "  File \"c:\\Users\\andre\\OneDrive\\Documents\\AIE4\\AIE4\\Week 2\\Day 2\\.venv\\lib\\site-packages\\openai\\resources\\chat\\completions.py\", line 668, in create\n",
            "    return self._post(\n",
            "  File \"c:\\Users\\andre\\OneDrive\\Documents\\AIE4\\AIE4\\Week 2\\Day 2\\.venv\\lib\\site-packages\\openai\\_base_client.py\", line 1260, in post\n",
            "    return cast(ResponseT, self.request(cast_to, opts, stream=stream, stream_cls=stream_cls))\n",
            "  File \"c:\\Users\\andre\\OneDrive\\Documents\\AIE4\\AIE4\\Week 2\\Day 2\\.venv\\lib\\site-packages\\openai\\_base_client.py\", line 937, in request\n",
            "    return self._request(\n",
            "  File \"c:\\Users\\andre\\OneDrive\\Documents\\AIE4\\AIE4\\Week 2\\Day 2\\.venv\\lib\\site-packages\\openai\\_base_client.py\", line 1026, in _request\n",
            "    return self._retry_request(\n",
            "  File \"c:\\Users\\andre\\OneDrive\\Documents\\AIE4\\AIE4\\Week 2\\Day 2\\.venv\\lib\\site-packages\\openai\\_base_client.py\", line 1075, in _retry_request\n",
            "    return self._request(\n",
            "  File \"c:\\Users\\andre\\OneDrive\\Documents\\AIE4\\AIE4\\Week 2\\Day 2\\.venv\\lib\\site-packages\\openai\\_base_client.py\", line 1026, in _request\n",
            "    return self._retry_request(\n",
            "  File \"c:\\Users\\andre\\OneDrive\\Documents\\AIE4\\AIE4\\Week 2\\Day 2\\.venv\\lib\\site-packages\\openai\\_base_client.py\", line 1075, in _retry_request\n",
            "    return self._request(\n",
            "  File \"c:\\Users\\andre\\OneDrive\\Documents\\AIE4\\AIE4\\Week 2\\Day 2\\.venv\\lib\\site-packages\\openai\\_base_client.py\", line 1041, in _request\n",
            "    raise self._make_status_error_from_response(err.response) from None\n",
            "openai.RateLimitError: Error code: 429 - {'error': {'message': 'Rate limit reached for gpt-4 in organization org-fbkOjwsGtPad9VnnUDcR750s on tokens per min (TPM): Limit 10000, Used 9436, Requested 2221. Please try again in 9.942s. Visit https://platform.openai.com/account/rate-limits to learn more.', 'type': 'tokens', 'param': None, 'code': 'rate_limit_exceeded'}}\n",
            "23it [00:39,  1.72s/it]\n"
          ]
        }
      ],
      "source": [
        "from langsmith.evaluation import LangChainStringEvaluator, evaluate\n",
        "\n",
        "cot_qa_evaluator = LangChainStringEvaluator(\"cot_qa\", prepare_data=prepare_context_ref)\n",
        "\n",
        "unlabeled_dopeness_evaluator = LangChainStringEvaluator(\n",
        "    \"criteria\",\n",
        "    config={\n",
        "        \"criteria\" : {\n",
        "            \"dopeness\" : \"Is the answer to the question dope, meaning cool - awesome - and legit?\"\n",
        "        }\n",
        "    },\n",
        "    prepare_data=prepare_data_noref\n",
        ")\n",
        "\n",
        "labeled_score_evaluator = LangChainStringEvaluator(\n",
        "    \"labeled_score_string\",\n",
        "    config={\n",
        "        \"criteria\": {\n",
        "            \"accuracy\": \"Is the generated answer the same as the reference answer?\"\n",
        "        },\n",
        "    },\n",
        "    prepare_data=prepare_data_ref\n",
        ")\n",
        "\n",
        "def evaluate_with_delay(*args, **kwargs):\n",
        "    # Call the evaluate function\n",
        "    results = evaluate(*args, **kwargs)\n",
        "    \n",
        "    # Introduce a delay after the evaluation\n",
        "    time.sleep(2)  # Adjust this delay as needed\n",
        "    \n",
        "    return results\n",
        "\n",
        "base_rag_results = evaluate(\n",
        "    retrieval_augmented_qa_chain.invoke,\n",
        "    data=dataset_name,\n",
        "    evaluators=[\n",
        "        cot_qa_evaluator,\n",
        "        unlabeled_dopeness_evaluator,\n",
        "        labeled_score_evaluator,\n",
        "        ],\n",
        "    experiment_prefix=\"Base RAG Evaluation\"\n",
        ")"
      ]
    },
    {
      "cell_type": "markdown",
      "metadata": {
        "id": "YPocfrNFiYWi"
      },
      "source": [
        "#### ❓Question #1:\n",
        "\n",
        "What conclusions can you draw about the above results?\n",
        "\n",
        "Describe in your own words what the metrics are expressing."
      ]
    },
    {
      "cell_type": "markdown",
      "metadata": {},
      "source": [
        "COT Contextual Accuracy Evaluator verifies whether the response is consistent with the context. The metrics are 'grade', 'value', and 'score'. For a response that is consisten, the grade is CORRECT, the value is CORRECT, and the score is 1. An incorrect response receives a grade of INCORRECT, a value of INCORRECT, and a score of 0. For example, if the response indicates that further information can be obtained from help@gmail.com, but the context said further information can be obtained from support@gmail.com, then the score would be 1.\n",
        "\n",
        "The Dopeness Evaluator assesses whether the response is \"cool, awesome, and legit.\" The metrics are 'value' and 'score. A value of Y and a score of 1 indicate that the response satisfied the criteria. Because of the subjectiveness of \"cool, awesome, and legit\", LangSmith appears to slightly adjust the criteria and looks for answers that are clear, concise, and have flair.\n",
        "\n",
        "The Labeled Score Evaluator assesses the accuracy of the response and has only one metric, 'score'. A higher score indicates better performance. For example, a response that provides accurate information but includes additional information that was not asked may receive a score of 8. A response that accurately answers a question and does not add unrequested information may receive a score of 10."
      ]
    }
  ],
  "metadata": {
    "colab": {
      "provenance": [],
      "toc_visible": true
    },
    "kernelspec": {
      "display_name": "Python 3",
      "name": "python3"
    },
    "language_info": {
      "codemirror_mode": {
        "name": "ipython",
        "version": 3
      },
      "file_extension": ".py",
      "mimetype": "text/x-python",
      "name": "python",
      "nbconvert_exporter": "python",
      "pygments_lexer": "ipython3",
      "version": "3.10.9"
    },
    "widgets": {
      "application/vnd.jupyter.widget-state+json": {
        "17d4193e78a14050a11c5f8306b3ba0b": {
          "model_module": "@jupyter-widgets/base",
          "model_module_version": "1.2.0",
          "model_name": "LayoutModel",
          "state": {
            "_model_module": "@jupyter-widgets/base",
            "_model_module_version": "1.2.0",
            "_model_name": "LayoutModel",
            "_view_count": null,
            "_view_module": "@jupyter-widgets/base",
            "_view_module_version": "1.2.0",
            "_view_name": "LayoutView",
            "align_content": null,
            "align_items": null,
            "align_self": null,
            "border": null,
            "bottom": null,
            "display": null,
            "flex": null,
            "flex_flow": null,
            "grid_area": null,
            "grid_auto_columns": null,
            "grid_auto_flow": null,
            "grid_auto_rows": null,
            "grid_column": null,
            "grid_gap": null,
            "grid_row": null,
            "grid_template_areas": null,
            "grid_template_columns": null,
            "grid_template_rows": null,
            "height": null,
            "justify_content": null,
            "justify_items": null,
            "left": null,
            "margin": null,
            "max_height": null,
            "max_width": null,
            "min_height": null,
            "min_width": null,
            "object_fit": null,
            "object_position": null,
            "order": null,
            "overflow": null,
            "overflow_x": null,
            "overflow_y": null,
            "padding": null,
            "right": null,
            "top": null,
            "visibility": null,
            "width": null
          }
        },
        "323a077888c84bdfbac393d1ebef9d6c": {
          "model_module": "@jupyter-widgets/controls",
          "model_module_version": "1.5.0",
          "model_name": "HTMLModel",
          "state": {
            "_dom_classes": [],
            "_model_module": "@jupyter-widgets/controls",
            "_model_module_version": "1.5.0",
            "_model_name": "HTMLModel",
            "_view_count": null,
            "_view_module": "@jupyter-widgets/controls",
            "_view_module_version": "1.5.0",
            "_view_name": "HTMLView",
            "description": "",
            "description_tooltip": null,
            "layout": "IPY_MODEL_99751d16888640078ae4820cacab5760",
            "placeholder": "​",
            "style": "IPY_MODEL_a8f5f4beaa8f4a3b94002c5ed122c2a7",
            "value": ""
          }
        },
        "41e287b8dc674f839b6485c9606207d5": {
          "model_module": "@jupyter-widgets/controls",
          "model_module_version": "1.5.0",
          "model_name": "ProgressStyleModel",
          "state": {
            "_model_module": "@jupyter-widgets/controls",
            "_model_module_version": "1.5.0",
            "_model_name": "ProgressStyleModel",
            "_view_count": null,
            "_view_module": "@jupyter-widgets/base",
            "_view_module_version": "1.2.0",
            "_view_name": "StyleView",
            "bar_color": null,
            "description_width": ""
          }
        },
        "501c5e204387460e8e9a585c9b2ca834": {
          "model_module": "@jupyter-widgets/controls",
          "model_module_version": "1.5.0",
          "model_name": "HBoxModel",
          "state": {
            "_dom_classes": [],
            "_model_module": "@jupyter-widgets/controls",
            "_model_module_version": "1.5.0",
            "_model_name": "HBoxModel",
            "_view_count": null,
            "_view_module": "@jupyter-widgets/controls",
            "_view_module_version": "1.5.0",
            "_view_name": "HBoxView",
            "box_style": "",
            "children": [
              "IPY_MODEL_323a077888c84bdfbac393d1ebef9d6c",
              "IPY_MODEL_710fe93f3241401bafa10a1e0a1bda02",
              "IPY_MODEL_c65a6921701742da9b67c591b19b6336"
            ],
            "layout": "IPY_MODEL_17d4193e78a14050a11c5f8306b3ba0b"
          }
        },
        "54e7ccad2e774261a3313316a1397f66": {
          "model_module": "@jupyter-widgets/base",
          "model_module_version": "1.2.0",
          "model_name": "LayoutModel",
          "state": {
            "_model_module": "@jupyter-widgets/base",
            "_model_module_version": "1.2.0",
            "_model_name": "LayoutModel",
            "_view_count": null,
            "_view_module": "@jupyter-widgets/base",
            "_view_module_version": "1.2.0",
            "_view_name": "LayoutView",
            "align_content": null,
            "align_items": null,
            "align_self": null,
            "border": null,
            "bottom": null,
            "display": null,
            "flex": null,
            "flex_flow": null,
            "grid_area": null,
            "grid_auto_columns": null,
            "grid_auto_flow": null,
            "grid_auto_rows": null,
            "grid_column": null,
            "grid_gap": null,
            "grid_row": null,
            "grid_template_areas": null,
            "grid_template_columns": null,
            "grid_template_rows": null,
            "height": null,
            "justify_content": null,
            "justify_items": null,
            "left": null,
            "margin": null,
            "max_height": null,
            "max_width": null,
            "min_height": null,
            "min_width": null,
            "object_fit": null,
            "object_position": null,
            "order": null,
            "overflow": null,
            "overflow_x": null,
            "overflow_y": null,
            "padding": null,
            "right": null,
            "top": null,
            "visibility": null,
            "width": "20px"
          }
        },
        "710fe93f3241401bafa10a1e0a1bda02": {
          "model_module": "@jupyter-widgets/controls",
          "model_module_version": "1.5.0",
          "model_name": "FloatProgressModel",
          "state": {
            "_dom_classes": [],
            "_model_module": "@jupyter-widgets/controls",
            "_model_module_version": "1.5.0",
            "_model_name": "FloatProgressModel",
            "_view_count": null,
            "_view_module": "@jupyter-widgets/controls",
            "_view_module_version": "1.5.0",
            "_view_name": "ProgressView",
            "bar_style": "success",
            "description": "",
            "description_tooltip": null,
            "layout": "IPY_MODEL_54e7ccad2e774261a3313316a1397f66",
            "max": 1,
            "min": 0,
            "orientation": "horizontal",
            "style": "IPY_MODEL_41e287b8dc674f839b6485c9606207d5",
            "value": 1
          }
        },
        "99751d16888640078ae4820cacab5760": {
          "model_module": "@jupyter-widgets/base",
          "model_module_version": "1.2.0",
          "model_name": "LayoutModel",
          "state": {
            "_model_module": "@jupyter-widgets/base",
            "_model_module_version": "1.2.0",
            "_model_name": "LayoutModel",
            "_view_count": null,
            "_view_module": "@jupyter-widgets/base",
            "_view_module_version": "1.2.0",
            "_view_name": "LayoutView",
            "align_content": null,
            "align_items": null,
            "align_self": null,
            "border": null,
            "bottom": null,
            "display": null,
            "flex": null,
            "flex_flow": null,
            "grid_area": null,
            "grid_auto_columns": null,
            "grid_auto_flow": null,
            "grid_auto_rows": null,
            "grid_column": null,
            "grid_gap": null,
            "grid_row": null,
            "grid_template_areas": null,
            "grid_template_columns": null,
            "grid_template_rows": null,
            "height": null,
            "justify_content": null,
            "justify_items": null,
            "left": null,
            "margin": null,
            "max_height": null,
            "max_width": null,
            "min_height": null,
            "min_width": null,
            "object_fit": null,
            "object_position": null,
            "order": null,
            "overflow": null,
            "overflow_x": null,
            "overflow_y": null,
            "padding": null,
            "right": null,
            "top": null,
            "visibility": null,
            "width": null
          }
        },
        "a8f5f4beaa8f4a3b94002c5ed122c2a7": {
          "model_module": "@jupyter-widgets/controls",
          "model_module_version": "1.5.0",
          "model_name": "DescriptionStyleModel",
          "state": {
            "_model_module": "@jupyter-widgets/controls",
            "_model_module_version": "1.5.0",
            "_model_name": "DescriptionStyleModel",
            "_view_count": null,
            "_view_module": "@jupyter-widgets/base",
            "_view_module_version": "1.2.0",
            "_view_name": "StyleView",
            "description_width": ""
          }
        },
        "af61b863014d4a8c960570de31a02b3f": {
          "model_module": "@jupyter-widgets/controls",
          "model_module_version": "1.5.0",
          "model_name": "DescriptionStyleModel",
          "state": {
            "_model_module": "@jupyter-widgets/controls",
            "_model_module_version": "1.5.0",
            "_model_name": "DescriptionStyleModel",
            "_view_count": null,
            "_view_module": "@jupyter-widgets/base",
            "_view_module_version": "1.2.0",
            "_view_name": "StyleView",
            "description_width": ""
          }
        },
        "c65a6921701742da9b67c591b19b6336": {
          "model_module": "@jupyter-widgets/controls",
          "model_module_version": "1.5.0",
          "model_name": "HTMLModel",
          "state": {
            "_dom_classes": [],
            "_model_module": "@jupyter-widgets/controls",
            "_model_module_version": "1.5.0",
            "_model_name": "HTMLModel",
            "_view_count": null,
            "_view_module": "@jupyter-widgets/controls",
            "_view_module_version": "1.5.0",
            "_view_name": "HTMLView",
            "description": "",
            "description_tooltip": null,
            "layout": "IPY_MODEL_f7457f38948d472da4027ba1566b47e4",
            "placeholder": "​",
            "style": "IPY_MODEL_af61b863014d4a8c960570de31a02b3f",
            "value": " 23/? [02:10&lt;00:00,  5.36s/it]"
          }
        },
        "f7457f38948d472da4027ba1566b47e4": {
          "model_module": "@jupyter-widgets/base",
          "model_module_version": "1.2.0",
          "model_name": "LayoutModel",
          "state": {
            "_model_module": "@jupyter-widgets/base",
            "_model_module_version": "1.2.0",
            "_model_name": "LayoutModel",
            "_view_count": null,
            "_view_module": "@jupyter-widgets/base",
            "_view_module_version": "1.2.0",
            "_view_name": "LayoutView",
            "align_content": null,
            "align_items": null,
            "align_self": null,
            "border": null,
            "bottom": null,
            "display": null,
            "flex": null,
            "flex_flow": null,
            "grid_area": null,
            "grid_auto_columns": null,
            "grid_auto_flow": null,
            "grid_auto_rows": null,
            "grid_column": null,
            "grid_gap": null,
            "grid_row": null,
            "grid_template_areas": null,
            "grid_template_columns": null,
            "grid_template_rows": null,
            "height": null,
            "justify_content": null,
            "justify_items": null,
            "left": null,
            "margin": null,
            "max_height": null,
            "max_width": null,
            "min_height": null,
            "min_width": null,
            "object_fit": null,
            "object_position": null,
            "order": null,
            "overflow": null,
            "overflow_x": null,
            "overflow_y": null,
            "padding": null,
            "right": null,
            "top": null,
            "visibility": null,
            "width": null
          }
        }
      }
    }
  },
  "nbformat": 4,
  "nbformat_minor": 0
}
